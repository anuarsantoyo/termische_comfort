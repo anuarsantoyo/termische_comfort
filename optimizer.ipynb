{
 "cells": [
  {
   "cell_type": "markdown",
   "source": [
    "# Optimizer\n",
    "Gets data and uses it to optimize a method (imported from method.py) using a loss function and tests it against unseen data\n"
   ],
   "metadata": {
    "collapsed": false,
    "pycharm": {
     "name": "#%% md\n"
    }
   }
  },
  {
   "cell_type": "code",
   "execution_count": 22,
   "outputs": [],
   "source": [
    "import pandas as pd\n",
    "import matplotlib.pyplot as plt\n",
    "import sns as sns\n",
    "import torch\n",
    "import torch.optim as optim\n",
    "import seaborn as sns\n",
    "from sklearn.metrics import confusion_matrix\n",
    "import numpy as np"
   ],
   "metadata": {
    "collapsed": false,
    "pycharm": {
     "name": "#%%\n"
    }
   }
  },
  {
   "cell_type": "markdown",
   "source": [
    "# Import data"
   ],
   "metadata": {
    "collapsed": false,
    "pycharm": {
     "name": "#%% md\n"
    }
   }
  },
  {
   "cell_type": "code",
   "execution_count": 23,
   "metadata": {
    "collapsed": true,
    "pycharm": {
     "name": "#%%\n"
    }
   },
   "outputs": [],
   "source": [
    "### Load the data\n",
    "seed = 1\n",
    "data_path = 'data/output/data_complete_grouped_2022-06-30.csv'\n",
    "df = pd.read_csv(data_path)"
   ]
  },
  {
   "cell_type": "markdown",
   "source": [
    "# Scale Data"
   ],
   "metadata": {
    "collapsed": false,
    "pycharm": {
     "name": "#%% md\n"
    }
   }
  },
  {
   "cell_type": "code",
   "execution_count": 24,
   "outputs": [],
   "source": [
    "from sklearn.preprocessing import StandardScaler, MinMaxScaler\n",
    "scaler = StandardScaler()\n",
    "M = scaler.fit_transform(df.drop(columns=['dataset']))\n",
    "#M = df.drop(columns=['dataset']).to_numpy()\n",
    "#y = M[:,-1]\n",
    "y = df['Thermal feeling (global)'].to_numpy() + 1\n",
    "X = M[:,:-1]\n",
    "#X = M[:,[1,5,6,7,8,10]]\n",
    "#X = M"
   ],
   "metadata": {
    "collapsed": false,
    "pycharm": {
     "name": "#%%\n"
    }
   }
  },
  {
   "cell_type": "code",
   "execution_count": 25,
   "outputs": [
    {
     "name": "stdout",
     "output_type": "stream",
     "text": [
      "[-0.15045646  0.82376196  0.12531664 -0.08232356 -0.31618978 -0.01653209\n",
      " -0.04372224 -0.00339865  0.04523466 -0.02680759  0.0531803 ]\n"
     ]
    },
    {
     "data": {
      "text/plain": "<Figure size 432x288 with 1 Axes>",
      "image/png": "[encoded data removed]"
     },
     "metadata": {},
     "output_type": "display_data"
    }
   ],
   "source": [
    "# Quick analysis of linear relationship of data\n",
    "from sklearn.linear_model import LinearRegression\n",
    "regressor = LinearRegression()\n",
    "regressor.fit(X, y)\n",
    "\n",
    "# display coefficients\n",
    "print(regressor.coef_)\n",
    "plt.scatter(np.arange(len(regressor.coef_)+1),regressor.coef_.tolist()+[regressor.intercept_])\n",
    "plt.show()"
   ],
   "metadata": {
    "collapsed": false,
    "pycharm": {
     "name": "#%%\n"
    }
   }
  },
  {
   "cell_type": "markdown",
   "source": [
    "# Train"
   ],
   "metadata": {
    "collapsed": false,
    "pycharm": {
     "name": "#%% md\n"
    }
   }
  },
  {
   "cell_type": "code",
   "execution_count": 26,
   "outputs": [
    {
     "data": {
      "text/plain": "tensor([1.3252, 0.8763, 0.9056])"
     },
     "execution_count": 26,
     "metadata": {},
     "output_type": "execute_result"
    }
   ],
   "source": [
    "from sklearn.utils import class_weight\n",
    "\n",
    "class_weights=class_weight.compute_class_weight(class_weight='balanced',classes=np.unique(y),y=y)\n",
    "class_weights=torch.tensor(class_weights,dtype=torch.float)\n",
    "class_weights"
   ],
   "metadata": {
    "collapsed": false,
    "pycharm": {
     "name": "#%%\n"
    }
   }
  },
  {
   "cell_type": "code",
   "execution_count": 27,
   "outputs": [],
   "source": [
    "# random index splitter\n",
    "def test_train_indices(X, test_size, seed=42):\n",
    "    size = X.shape[0]\n",
    "    split = int(size*(1-test_size))\n",
    "    np.random.seed(seed)\n",
    "    indices = np.arange(size)\n",
    "    np.random.shuffle(indices)\n",
    "    return indices[:split], indices[split:]"
   ],
   "metadata": {
    "collapsed": false,
    "pycharm": {
     "name": "#%%\n"
    }
   }
  },
  {
   "cell_type": "code",
   "execution_count": 28,
   "outputs": [],
   "source": [
    "def label_from_predictor(x):\n",
    "    if x>1.33:\n",
    "        return 2\n",
    "    elif x<0.33:\n",
    "        return 0\n",
    "    else:\n",
    "        return 1\n",
    "label_from_predictor = np.vectorize(label_from_predictor)"
   ],
   "metadata": {
    "collapsed": false,
    "pycharm": {
     "name": "#%%\n"
    }
   }
  },
  {
   "cell_type": "code",
   "execution_count": 29,
   "outputs": [
    {
     "name": "stderr",
     "output_type": "stream",
     "text": [
      "LinearPredictor: 100%|██████████| 1000/1000 [00:21<00:00, 47.21it/s]\n",
      "SVMLinear: 100%|██████████| 1000/1000 [00:04<00:00, 228.37it/s]\n",
      "SVMPoly: 100%|██████████| 1000/1000 [00:03<00:00, 316.60it/s]\n",
      "SVMRbf: 100%|██████████| 1000/1000 [00:03<00:00, 256.43it/s]\n",
      "SVMSigmoid: 100%|██████████| 1000/1000 [00:05<00:00, 178.61it/s]\n",
      "RF: 100%|██████████| 1000/1000 [01:42<00:00,  9.73it/s]\n",
      "AdaBoost: 100%|██████████| 1000/1000 [00:55<00:00, 18.15it/s]\n",
      "NNPredictor: 100%|██████████| 1000/1000 [01:23<00:00, 12.04it/s]\n",
      "NNClassifier: 100%|██████████| 1000/1000 [01:27<00:00, 11.42it/s]\n"
     ]
    }
   ],
   "source": [
    "from tqdm import tqdm\n",
    "import time\n",
    "from torch.optim.lr_scheduler import ExponentialLR\n",
    "from methods import *\n",
    "from torch import nn\n",
    "\n",
    "import numpy as np\n",
    "from sklearn.model_selection import KFold, train_test_split\n",
    "\n",
    "\n",
    "test_values = []\n",
    "predicted_values = []\n",
    "datasets = []\n",
    "seeds = []\n",
    "methods = []\n",
    "parameters =[]\n",
    "plot = False\n",
    "\n",
    "# Test split using K-Folds cross-validator\n",
    "\n",
    "#k = 10\n",
    "#kf = KFold(n_splits=k, shuffle=True, random_state=seed)\n",
    "#for idx, (train_index, test_index) in enumerate(kf.split(X)):\n",
    "\n",
    "for method_class in method_classes_list():\n",
    "\n",
    "    for seed in tqdm(range(1000), desc=method_class.__name__):\n",
    "        train_index, test_index = test_train_indices(X, 0.2, seed=seed)\n",
    "\n",
    "        # Slicing data according to kf split\n",
    "        dtype = torch.float32\n",
    "        x_train, x_test = X[train_index], X[test_index]\n",
    "        y_train, y_test = y[train_index], y[test_index]\n",
    "\n",
    "        # TODO: random seed for methods\n",
    "\n",
    "        # Hyperparameters for one train test session\n",
    "        torch.manual_seed(seed)\n",
    "        method = method_class(input_size=x_train.shape[1],class_weights=class_weights)\n",
    "        # {'linear', 'poly', 'rbf', 'sigmoid', 'precomputed'}\n",
    "\n",
    "        if method.optimizes:\n",
    "            x_train = torch.tensor(x_train,dtype=dtype)\n",
    "            x_test = torch.tensor(x_test, dtype=dtype)\n",
    "            if method.type == 'predictor':\n",
    "                y_test = torch.tensor(y_test, dtype=dtype).reshape(-1,1)\n",
    "                y_train = torch.tensor(y_train, dtype=dtype).reshape(-1,1)\n",
    "            elif method.type == 'classifier':\n",
    "                y_test = torch.tensor(y_test, dtype=torch.int64).reshape(-1)\n",
    "                y_train = torch.tensor(y_train, dtype=torch.int64).reshape(-1)\n",
    "\n",
    "            criterion = method.criterion()\n",
    "            params_to_be_optimized = method.get_parameters()\n",
    "            optimizer = optim.Adam(params_to_be_optimized, lr=0.01)\n",
    "            #scheduler = ExponentialLR(optimizer, gamma=0.999)\n",
    "            train_losses = []  # for plot\n",
    "            test_losses = []  # for plot\n",
    "\n",
    "            epochs = 100\n",
    "            for epoch in range(epochs):\n",
    "              iteration_time = time.time()\n",
    "              optimizer.zero_grad()\n",
    "\n",
    "              # forward pass\n",
    "              y_train_predicted = method.predict(x_train)\n",
    "              loss = criterion(y_train_predicted, y_train) #+ 0.01*method.calculate_regularization_loss()\n",
    "\n",
    "              # backward pass\n",
    "              loss.backward()\n",
    "              optimizer.step()\n",
    "              #scheduler.step()\n",
    "\n",
    "              with torch.no_grad():\n",
    "                y_train_predicted = method.predict(x_train)\n",
    "                train_loss = criterion(y_train_predicted, y_train)\n",
    "                train_losses.append(train_loss)\n",
    "\n",
    "                y_test_predicted = method.predict(x_test)\n",
    "                test_loss = criterion(y_test_predicted, y_test)\n",
    "                test_losses.append(test_loss)\n",
    "\n",
    "            if plot:\n",
    "                plt.plot(train_losses, label='train loss')\n",
    "                plt.plot(test_losses, label='test loss')\n",
    "                plt.legend()\n",
    "                plt.title(f'Seed = {seed}')\n",
    "                plt.show()\n",
    "\n",
    "            # Lists for Error Analysis df\n",
    "            if method.type == \"predictor\":\n",
    "                test_values += y_test.detach().numpy().reshape(-1).tolist()\n",
    "\n",
    "                predicted_values += label_from_predictor(method.predict(x_test).detach().numpy().reshape(-1)).tolist()\n",
    "                datasets += df['dataset'][test_index].tolist()\n",
    "                seeds += [seed] * len(y_test)\n",
    "                methods += [method.__class__.__name__] * len(y_test)\n",
    "            elif method.type == \"classifier\":\n",
    "                test_values += y_test.detach().numpy().tolist()\n",
    "                predicted_values += torch.argmax(method.predict(x_test), dim=1).detach().numpy().tolist()\n",
    "                datasets += df['dataset'][test_index].tolist()\n",
    "                seeds += [seed] * len(y_test)\n",
    "                methods += [method.__class__.__name__] * len(y_test)\n",
    "\n",
    "        else:\n",
    "            method.fit(x_train, y_train)\n",
    "\n",
    "            test_values += y_test.tolist()\n",
    "            predicted_values += method.predict(x_test).tolist()\n",
    "            datasets += df['dataset'][test_index].tolist()\n",
    "            seeds += [seed] * len(y_test)\n",
    "            methods += [method.__class__.__name__] * len(y_test)\n",
    "\n",
    "        with torch.no_grad():\n",
    "            parameters.append(method.get_parameters())"
   ],
   "metadata": {
    "collapsed": false,
    "pycharm": {
     "name": "#%%\n"
    }
   }
  },
  {
   "cell_type": "markdown",
   "source": [
    "# Test Analysis"
   ],
   "metadata": {
    "collapsed": false,
    "pycharm": {
     "name": "#%% md\n"
    }
   }
  },
  {
   "cell_type": "code",
   "execution_count": 34,
   "outputs": [],
   "source": [
    "analysis_df = pd.DataFrame({'method': methods, 'seed': seeds, 'dataset':datasets, 'y': test_values, 'pred': predicted_values})"
   ],
   "metadata": {
    "collapsed": false,
    "pycharm": {
     "name": "#%%\n"
    }
   }
  },
  {
   "cell_type": "code",
   "execution_count": 35,
   "outputs": [],
   "source": [
    "from datetime import datetime\n",
    "\n",
    "analysis_df.to_csv(f'data/analysis/test_{datetime.date(datetime.now()).__str__()}.csv', index=False)\n",
    "breakpoint()"
   ],
   "metadata": {
    "collapsed": false,
    "pycharm": {
     "name": "#%%\n"
    }
   }
  },
  {
   "cell_type": "markdown",
   "source": [],
   "metadata": {
    "collapsed": false,
    "pycharm": {
     "name": "#%% md\n"
    }
   }
  },
  {
   "cell_type": "code",
   "execution_count": 32,
   "outputs": [
    {
     "data": {
      "text/plain": "<Figure size 432x288 with 2 Axes>",
      "image/png": "[encoded data removed]"
     },
     "metadata": {},
     "output_type": "display_data"
    },
    {
     "name": "stdout",
     "output_type": "stream",
     "text": [
      "Accuracy: 0.3963215488215488\n"
     ]
    }
   ],
   "source": [
    "cm = confusion_matrix(analysis_df['y'], analysis_df['pred'])\n",
    "cm = cm/cm.sum()\n",
    "sns.heatmap(cm, annot=True, fmt='.2f')\n",
    "plt.title('Confusion Matrix')\n",
    "plt.xlabel('Predictor label')\n",
    "plt.ylabel('True label')\n",
    "plt.show()\n",
    "\n",
    "print('Accuracy:', np.trace(cm))"
   ],
   "metadata": {
    "collapsed": false,
    "pycharm": {
     "name": "#%%\n"
    }
   }
  },
  {
   "cell_type": "markdown",
   "source": [
    "# Train analysis"
   ],
   "metadata": {
    "collapsed": false,
    "pycharm": {
     "name": "#%% md\n"
    }
   }
  },
  {
   "cell_type": "code",
   "execution_count": 33,
   "outputs": [
    {
     "ename": "RuntimeError",
     "evalue": "Can't call numpy() on Tensor that requires grad. Use tensor.detach().numpy() instead.",
     "output_type": "error",
     "traceback": [
      "\u001B[0;31m---------------------------------------------------------------------------\u001B[0m",
      "\u001B[0;31mRuntimeError\u001B[0m                              Traceback (most recent call last)",
      "Input \u001B[0;32mIn [33]\u001B[0m, in \u001B[0;36m<cell line: 4>\u001B[0;34m()\u001B[0m\n\u001B[1;32m      1\u001B[0m y_train_predicted \u001B[38;5;241m=\u001B[39m method\u001B[38;5;241m.\u001B[39mpredict(x_train)\n\u001B[1;32m      3\u001B[0m \u001B[38;5;66;03m#cm = confusion_matrix(y_train.detach().numpy(), torch.argmax(y_train_predicted, dim=1).detach().numpy())\u001B[39;00m\n\u001B[0;32m----> 4\u001B[0m cm \u001B[38;5;241m=\u001B[39m \u001B[43mconfusion_matrix\u001B[49m\u001B[43m(\u001B[49m\u001B[43my_train\u001B[49m\u001B[43m,\u001B[49m\u001B[43m \u001B[49m\u001B[43my_train_predicted\u001B[49m\u001B[43m)\u001B[49m\n\u001B[1;32m      5\u001B[0m cm \u001B[38;5;241m=\u001B[39m cm\u001B[38;5;241m/\u001B[39mcm\u001B[38;5;241m.\u001B[39msum()\n\u001B[1;32m      6\u001B[0m sns\u001B[38;5;241m.\u001B[39mheatmap(cm, annot\u001B[38;5;241m=\u001B[39m\u001B[38;5;28;01mTrue\u001B[39;00m, fmt\u001B[38;5;241m=\u001B[39m\u001B[38;5;124m'\u001B[39m\u001B[38;5;124m.2f\u001B[39m\u001B[38;5;124m'\u001B[39m)\n",
      "File \u001B[0;32m~/PycharmProjects/thermal_comfort/venv/lib/python3.10/site-packages/sklearn/metrics/_classification.py:307\u001B[0m, in \u001B[0;36mconfusion_matrix\u001B[0;34m(y_true, y_pred, labels, sample_weight, normalize)\u001B[0m\n\u001B[1;32m    222\u001B[0m \u001B[38;5;28;01mdef\u001B[39;00m \u001B[38;5;21mconfusion_matrix\u001B[39m(\n\u001B[1;32m    223\u001B[0m     y_true, y_pred, \u001B[38;5;241m*\u001B[39m, labels\u001B[38;5;241m=\u001B[39m\u001B[38;5;28;01mNone\u001B[39;00m, sample_weight\u001B[38;5;241m=\u001B[39m\u001B[38;5;28;01mNone\u001B[39;00m, normalize\u001B[38;5;241m=\u001B[39m\u001B[38;5;28;01mNone\u001B[39;00m\n\u001B[1;32m    224\u001B[0m ):\n\u001B[1;32m    225\u001B[0m     \u001B[38;5;124;03m\"\"\"Compute confusion matrix to evaluate the accuracy of a classification.\u001B[39;00m\n\u001B[1;32m    226\u001B[0m \n\u001B[1;32m    227\u001B[0m \u001B[38;5;124;03m    By definition a confusion matrix :math:`C` is such that :math:`C_{i, j}`\u001B[39;00m\n\u001B[0;32m   (...)\u001B[0m\n\u001B[1;32m    305\u001B[0m \u001B[38;5;124;03m    (0, 2, 1, 1)\u001B[39;00m\n\u001B[1;32m    306\u001B[0m \u001B[38;5;124;03m    \"\"\"\u001B[39;00m\n\u001B[0;32m--> 307\u001B[0m     y_type, y_true, y_pred \u001B[38;5;241m=\u001B[39m \u001B[43m_check_targets\u001B[49m\u001B[43m(\u001B[49m\u001B[43my_true\u001B[49m\u001B[43m,\u001B[49m\u001B[43m \u001B[49m\u001B[43my_pred\u001B[49m\u001B[43m)\u001B[49m\n\u001B[1;32m    308\u001B[0m     \u001B[38;5;28;01mif\u001B[39;00m y_type \u001B[38;5;129;01mnot\u001B[39;00m \u001B[38;5;129;01min\u001B[39;00m (\u001B[38;5;124m\"\u001B[39m\u001B[38;5;124mbinary\u001B[39m\u001B[38;5;124m\"\u001B[39m, \u001B[38;5;124m\"\u001B[39m\u001B[38;5;124mmulticlass\u001B[39m\u001B[38;5;124m\"\u001B[39m):\n\u001B[1;32m    309\u001B[0m         \u001B[38;5;28;01mraise\u001B[39;00m \u001B[38;5;167;01mValueError\u001B[39;00m(\u001B[38;5;124m\"\u001B[39m\u001B[38;5;132;01m%s\u001B[39;00m\u001B[38;5;124m is not supported\u001B[39m\u001B[38;5;124m\"\u001B[39m \u001B[38;5;241m%\u001B[39m y_type)\n",
      "File \u001B[0;32m~/PycharmProjects/thermal_comfort/venv/lib/python3.10/site-packages/sklearn/metrics/_classification.py:86\u001B[0m, in \u001B[0;36m_check_targets\u001B[0;34m(y_true, y_pred)\u001B[0m\n\u001B[1;32m     84\u001B[0m check_consistent_length(y_true, y_pred)\n\u001B[1;32m     85\u001B[0m type_true \u001B[38;5;241m=\u001B[39m type_of_target(y_true, input_name\u001B[38;5;241m=\u001B[39m\u001B[38;5;124m\"\u001B[39m\u001B[38;5;124my_true\u001B[39m\u001B[38;5;124m\"\u001B[39m)\n\u001B[0;32m---> 86\u001B[0m type_pred \u001B[38;5;241m=\u001B[39m \u001B[43mtype_of_target\u001B[49m\u001B[43m(\u001B[49m\u001B[43my_pred\u001B[49m\u001B[43m,\u001B[49m\u001B[43m \u001B[49m\u001B[43minput_name\u001B[49m\u001B[38;5;241;43m=\u001B[39;49m\u001B[38;5;124;43m\"\u001B[39;49m\u001B[38;5;124;43my_pred\u001B[39;49m\u001B[38;5;124;43m\"\u001B[39;49m\u001B[43m)\u001B[49m\n\u001B[1;32m     88\u001B[0m y_type \u001B[38;5;241m=\u001B[39m {type_true, type_pred}\n\u001B[1;32m     89\u001B[0m \u001B[38;5;28;01mif\u001B[39;00m y_type \u001B[38;5;241m==\u001B[39m {\u001B[38;5;124m\"\u001B[39m\u001B[38;5;124mbinary\u001B[39m\u001B[38;5;124m\"\u001B[39m, \u001B[38;5;124m\"\u001B[39m\u001B[38;5;124mmulticlass\u001B[39m\u001B[38;5;124m\"\u001B[39m}:\n",
      "File \u001B[0;32m~/PycharmProjects/thermal_comfort/venv/lib/python3.10/site-packages/sklearn/utils/multiclass.py:286\u001B[0m, in \u001B[0;36mtype_of_target\u001B[0;34m(y, input_name)\u001B[0m\n\u001B[1;32m    283\u001B[0m \u001B[38;5;28;01mif\u001B[39;00m sparse_pandas:\n\u001B[1;32m    284\u001B[0m     \u001B[38;5;28;01mraise\u001B[39;00m \u001B[38;5;167;01mValueError\u001B[39;00m(\u001B[38;5;124m\"\u001B[39m\u001B[38;5;124my cannot be class \u001B[39m\u001B[38;5;124m'\u001B[39m\u001B[38;5;124mSparseSeries\u001B[39m\u001B[38;5;124m'\u001B[39m\u001B[38;5;124m or \u001B[39m\u001B[38;5;124m'\u001B[39m\u001B[38;5;124mSparseArray\u001B[39m\u001B[38;5;124m'\u001B[39m\u001B[38;5;124m\"\u001B[39m)\n\u001B[0;32m--> 286\u001B[0m \u001B[38;5;28;01mif\u001B[39;00m \u001B[43mis_multilabel\u001B[49m\u001B[43m(\u001B[49m\u001B[43my\u001B[49m\u001B[43m)\u001B[49m:\n\u001B[1;32m    287\u001B[0m     \u001B[38;5;28;01mreturn\u001B[39;00m \u001B[38;5;124m\"\u001B[39m\u001B[38;5;124mmultilabel-indicator\u001B[39m\u001B[38;5;124m\"\u001B[39m\n\u001B[1;32m    289\u001B[0m \u001B[38;5;66;03m# DeprecationWarning will be replaced by ValueError, see NEP 34\u001B[39;00m\n\u001B[1;32m    290\u001B[0m \u001B[38;5;66;03m# https://numpy.org/neps/nep-0034-infer-dtype-is-object.html\u001B[39;00m\n",
      "File \u001B[0;32m~/PycharmProjects/thermal_comfort/venv/lib/python3.10/site-packages/sklearn/utils/multiclass.py:152\u001B[0m, in \u001B[0;36mis_multilabel\u001B[0;34m(y)\u001B[0m\n\u001B[1;32m    150\u001B[0m warnings\u001B[38;5;241m.\u001B[39msimplefilter(\u001B[38;5;124m\"\u001B[39m\u001B[38;5;124merror\u001B[39m\u001B[38;5;124m\"\u001B[39m, np\u001B[38;5;241m.\u001B[39mVisibleDeprecationWarning)\n\u001B[1;32m    151\u001B[0m \u001B[38;5;28;01mtry\u001B[39;00m:\n\u001B[0;32m--> 152\u001B[0m     y \u001B[38;5;241m=\u001B[39m \u001B[43mnp\u001B[49m\u001B[38;5;241;43m.\u001B[39;49m\u001B[43masarray\u001B[49m\u001B[43m(\u001B[49m\u001B[43my\u001B[49m\u001B[43m)\u001B[49m\n\u001B[1;32m    153\u001B[0m \u001B[38;5;28;01mexcept\u001B[39;00m np\u001B[38;5;241m.\u001B[39mVisibleDeprecationWarning:\n\u001B[1;32m    154\u001B[0m     \u001B[38;5;66;03m# dtype=object should be provided explicitly for ragged arrays,\u001B[39;00m\n\u001B[1;32m    155\u001B[0m     \u001B[38;5;66;03m# see NEP 34\u001B[39;00m\n\u001B[1;32m    156\u001B[0m     y \u001B[38;5;241m=\u001B[39m np\u001B[38;5;241m.\u001B[39marray(y, dtype\u001B[38;5;241m=\u001B[39m\u001B[38;5;28mobject\u001B[39m)\n",
      "File \u001B[0;32m~/PycharmProjects/thermal_comfort/venv/lib/python3.10/site-packages/torch/_tensor.py:732\u001B[0m, in \u001B[0;36mTensor.__array__\u001B[0;34m(self, dtype)\u001B[0m\n\u001B[1;32m    730\u001B[0m     \u001B[38;5;28;01mreturn\u001B[39;00m handle_torch_function(Tensor\u001B[38;5;241m.\u001B[39m__array__, (\u001B[38;5;28mself\u001B[39m,), \u001B[38;5;28mself\u001B[39m, dtype\u001B[38;5;241m=\u001B[39mdtype)\n\u001B[1;32m    731\u001B[0m \u001B[38;5;28;01mif\u001B[39;00m dtype \u001B[38;5;129;01mis\u001B[39;00m \u001B[38;5;28;01mNone\u001B[39;00m:\n\u001B[0;32m--> 732\u001B[0m     \u001B[38;5;28;01mreturn\u001B[39;00m \u001B[38;5;28;43mself\u001B[39;49m\u001B[38;5;241;43m.\u001B[39;49m\u001B[43mnumpy\u001B[49m\u001B[43m(\u001B[49m\u001B[43m)\u001B[49m\n\u001B[1;32m    733\u001B[0m \u001B[38;5;28;01melse\u001B[39;00m:\n\u001B[1;32m    734\u001B[0m     \u001B[38;5;28;01mreturn\u001B[39;00m \u001B[38;5;28mself\u001B[39m\u001B[38;5;241m.\u001B[39mnumpy()\u001B[38;5;241m.\u001B[39mastype(dtype, copy\u001B[38;5;241m=\u001B[39m\u001B[38;5;28;01mFalse\u001B[39;00m)\n",
      "\u001B[0;31mRuntimeError\u001B[0m: Can't call numpy() on Tensor that requires grad. Use tensor.detach().numpy() instead."
     ]
    }
   ],
   "source": [
    "y_train_predicted = method.predict(x_train)\n",
    "\n",
    "#cm = confusion_matrix(y_train.detach().numpy(), torch.argmax(y_train_predicted, dim=1).detach().numpy())\n",
    "cm = confusion_matrix(y_train, y_train_predicted)\n",
    "cm = cm/cm.sum()\n",
    "sns.heatmap(cm, annot=True, fmt='.2f')\n",
    "plt.title('Confusion Matrix')\n",
    "plt.xlabel('Predictor label')\n",
    "plt.ylabel('True label')\n",
    "plt.show()\n",
    "print('Accuracy:', np.trace(cm))\n",
    "breakpoint()"
   ],
   "metadata": {
    "collapsed": false,
    "pycharm": {
     "name": "#%%\n"
    }
   }
  },
  {
   "cell_type": "markdown",
   "source": [
    "## Predictor Analysis"
   ],
   "metadata": {
    "collapsed": false,
    "pycharm": {
     "name": "#%% md\n"
    }
   }
  },
  {
   "cell_type": "code",
   "execution_count": null,
   "outputs": [],
   "source": [
    "analysis_df['error'] = analysis_df['y']-analysis_df['pred']\n",
    "analysis_df['error_abs'] = np.abs(analysis_df['error'])\n",
    "diff = analysis_df['y'].max()-analysis_df['y'].min()\n",
    "analysis_df['accuracy'] = 1 - analysis_df['error_abs'] / diff"
   ],
   "metadata": {
    "collapsed": false,
    "pycharm": {
     "name": "#%%\n"
    }
   }
  },
  {
   "cell_type": "code",
   "execution_count": null,
   "outputs": [],
   "source": [
    "analysis_df['accuracy'].describe()"
   ],
   "metadata": {
    "collapsed": false,
    "pycharm": {
     "name": "#%%\n"
    }
   }
  },
  {
   "cell_type": "code",
   "execution_count": null,
   "outputs": [],
   "source": [
    "sns.displot(data=analysis_df, x=\"accuracy\", hue=\"dataset\", multiple=\"stack\")\n",
    "plt.show()"
   ],
   "metadata": {
    "collapsed": false,
    "pycharm": {
     "name": "#%%\n"
    }
   }
  },
  {
   "cell_type": "code",
   "execution_count": null,
   "outputs": [],
   "source": [
    "sns.scatterplot(data=analysis_df, x=\"y\", y=\"error\", hue=\"dataset\")\n",
    "plt.show()"
   ],
   "metadata": {
    "collapsed": false,
    "pycharm": {
     "name": "#%%\n"
    }
   }
  },
  {
   "cell_type": "code",
   "execution_count": null,
   "outputs": [],
   "source": [
    "sns.scatterplot(data=analysis_df, x=\"accuracy\", y=\"y\", hue=\"dataset\")\n",
    "plt.show()"
   ],
   "metadata": {
    "collapsed": false,
    "pycharm": {
     "name": "#%%\n"
    }
   }
  },
  {
   "cell_type": "code",
   "execution_count": null,
   "outputs": [],
   "source": [
    "sns.displot(data=analysis_df, x=\"y\", hue=\"dataset\", multiple=\"stack\")\n",
    "plt.show()"
   ],
   "metadata": {
    "collapsed": false,
    "pycharm": {
     "name": "#%%\n"
    }
   }
  },
  {
   "cell_type": "code",
   "execution_count": null,
   "outputs": [],
   "source": [
    "df.columns"
   ],
   "metadata": {
    "collapsed": false,
    "pycharm": {
     "name": "#%%\n"
    }
   }
  },
  {
   "cell_type": "code",
   "execution_count": null,
   "outputs": [],
   "source": [
    "method.get_parameters()"
   ],
   "metadata": {
    "collapsed": false,
    "pycharm": {
     "name": "#%%\n"
    }
   }
  },
  {
   "cell_type": "code",
   "execution_count": null,
   "outputs": [],
   "source": [
    "df['Thermal feeling (global)'].value_counts()"
   ],
   "metadata": {
    "collapsed": false,
    "pycharm": {
     "name": "#%%\n"
    }
   }
  }
 ],
 "metadata": {
  "kernelspec": {
   "display_name": "Python 3",
   "language": "python",
   "name": "python3"
  },
  "language_info": {
   "codemirror_mode": {
    "name": "ipython",
    "version": 2
   },
   "file_extension": ".py",
   "mimetype": "text/x-python",
   "name": "python",
   "nbconvert_exporter": "python",
   "pygments_lexer": "ipython2",
   "version": "2.7.6"
  }
 },
 "nbformat": 4,
 "nbformat_minor": 0
}