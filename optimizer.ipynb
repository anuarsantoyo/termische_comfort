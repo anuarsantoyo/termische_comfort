{
 "cells": [
  {
   "cell_type": "markdown",
   "source": [
    "# Optimizer\n",
    "Gets data and uses it to optimize a method (imported from method.py) using a loss function and tests it against unseen data.\n",
    "TODO:\n",
    "- Cross Validation implementation\n"
   ],
   "metadata": {
    "collapsed": false
   }
  },
  {
   "cell_type": "code",
   "execution_count": 364,
   "outputs": [],
   "source": [
    "import pandas as pd\n",
    "import matplotlib.pyplot as plt\n",
    "import torch\n",
    "import torch.optim as optim"
   ],
   "metadata": {
    "collapsed": false,
    "pycharm": {
     "name": "#%%\n"
    }
   }
  },
  {
   "cell_type": "markdown",
   "source": [
    "# Import data"
   ],
   "metadata": {
    "collapsed": false
   }
  },
  {
   "cell_type": "code",
   "execution_count": 365,
   "metadata": {
    "collapsed": true
   },
   "outputs": [
    {
     "data": {
      "text/plain": "    1. Geschlecht:  2. Alter:  3. Körpergröße (in cm)  \\\n0                0         62                     162   \n1                0         36                     163   \n2                0         23                     168   \n3                0         22                     178   \n4                0         25                     163   \n5                0         27                     168   \n6                1         38                     187   \n7                1         73                     167   \n8                1         61                     176   \n9                1         47                     184   \n10               0         35                     176   \n11               0         55                     170   \n12               0         83                     157   \n13               0         86                     164   \n14               0         83                     169   \n15               0         49                     160   \n16               1         52                     186   \n17               0         60                     178   \n18               0         23                     168   \n19               1         45                     175   \n20               1         25                     198   \n21               0         63                     172   \n22               1         27                     183   \n23               0         14                     153   \n24               0         53                     173   \n25               0         18                     158   \n26               0         41                     177   \n27               0         70                     150   \n28               1         20                     186   \n29               1         23                     168   \n30               1         24                     190   \n31               0         23                     168   \n32               0         31                     168   \n33               1         70                     173   \n34               1         19                     170   \n35               1         25                     162   \n36               0         40                     156   \n\n    4. Körpergewicht (in kg)  8. Wie lange fahren Sie schon auf dem Bus?  \\\n0                         60                                           0   \n1                         65                                           0   \n2                         68                                           1   \n3                         80                                           0   \n4                         65                                           0   \n5                         57                                           2   \n6                         69                                           0   \n7                         83                                           0   \n8                         80                                           0   \n9                         81                                           1   \n10                        67                                           0   \n11                        74                                           0   \n12                        53                                           1   \n13                        61                                           1   \n14                        70                                           1   \n15                        50                                           1   \n16                        95                                           1   \n17                        84                                           0   \n18                        72                                           1   \n19                       130                                           1   \n20                        98                                           0   \n21                        63                                           0   \n22                       110                                           0   \n23                        50                                           0   \n24                        69                                           0   \n25                        60                                           0   \n26                        60                                           1   \n27                        45                                           1   \n28                        75                                           1   \n29                        72                                           1   \n30                        79                                           0   \n31                        75                                           0   \n32                        60                                           1   \n33                        85                                           0   \n34                        70                                           0   \n35                        70                                           1   \n36                        73                                           1   \n\n    10. Bitte geben Sie an ob Sie sitzen oder stehen:  \\\n0                                                   0   \n1                                                   0   \n2                                                   0   \n3                                                   0   \n4                                                   0   \n5                                                   0   \n6                                                   0   \n7                                                   0   \n8                                                   0   \n9                                                   1   \n10                                                  0   \n11                                                  0   \n12                                                  0   \n13                                                  0   \n14                                                  0   \n15                                                  0   \n16                                                  0   \n17                                                  0   \n18                                                  0   \n19                                                  0   \n20                                                  0   \n21                                                  0   \n22                                                  0   \n23                                                  0   \n24                                                  0   \n25                                                  0   \n26                                                  0   \n27                                                  0   \n28                                                  0   \n29                                                  0   \n30                                                  0   \n31                                                  0   \n32                                                  0   \n33                                                  0   \n34                                                  0   \n35                                                  0   \n36                                                  1   \n\n    11. Bitte geben Sie Ihre Position im Bus an:  \\\n0                                            0.0   \n1                                            1.0   \n2                                            2.0   \n3                                            3.0   \n4                                            4.0   \n5                                            4.0   \n6                                            5.0   \n7                                            5.0   \n8                                            4.0   \n9                                            5.0   \n10                                           1.0   \n11                                           1.0   \n12                                           4.0   \n13                                           4.0   \n14                                           4.0   \n15                                           3.0   \n16                                           3.0   \n17                                           3.0   \n18                                           0.0   \n19                                           3.0   \n20                                           4.0   \n21                                           2.0   \n22                                           3.0   \n23                                           1.0   \n24                                           4.0   \n25                                           3.0   \n26                                           4.0   \n27                                           6.0   \n28                                           1.0   \n29                                           2.0   \n30                                           5.0   \n31                                           2.0   \n32                                           5.0   \n33                                           3.0   \n34                                           4.0   \n35                                           3.0   \n36                                           4.0   \n\n    12. Bitte geben Sie an, ob sie näher einer Fenster oder dem Gang sind:  \\\n0                                                   0                        \n1                                                   0                        \n2                                                   0                        \n3                                                   1                        \n4                                                   1                        \n5                                                   1                        \n6                                                   0                        \n7                                                   1                        \n8                                                   0                        \n9                                                   0                        \n10                                                  0                        \n11                                                  0                        \n12                                                  1                        \n13                                                  0                        \n14                                                  0                        \n15                                                  0                        \n16                                                  1                        \n17                                                  1                        \n18                                                  1                        \n19                                                  0                        \n20                                                  1                        \n21                                                  1                        \n22                                                  0                        \n23                                                  1                        \n24                                                  0                        \n25                                                  1                        \n26                                                  1                        \n27                                                  1                        \n28                                                  1                        \n29                                                  0                        \n30                                                  1                        \n31                                                  0                        \n32                                                  1                        \n33                                                  1                        \n34                                                  0                        \n35                                                  1                        \n36                                                  1                        \n\n    clothing_insulation   comfort  \n0                    31  1.000000  \n1                    21  1.666667  \n2                    35  1.000000  \n3                    26  1.333333  \n4                    26  1.333333  \n5                    26  1.666667  \n6                    22  1.666667  \n7                    32  2.000000  \n8                    29  1.333333  \n9                    22  1.333333  \n10                   30  1.666667  \n11                   24  2.000000  \n12                   29  0.333333  \n13                   31  0.666667  \n14                   31  0.000000  \n15                   29  1.666667  \n16                   25  2.000000  \n17                   28  1.666667  \n18                   28  1.666667  \n19                   22  2.333333  \n20                   24  2.333333  \n21                   29  2.000000  \n22                   20  1.666667  \n23                   31  2.000000  \n24                   33  0.666667  \n25                   26  1.666667  \n26                   33  1.000000  \n27                   24  1.333333  \n28                   31  2.666667  \n29                   28  1.333333  \n30                   26  2.000000  \n31                   28  1.666667  \n32                   30  2.666667  \n33                   26  2.333333  \n34                   26  1.000000  \n35                   29  2.000000  \n36                   29  1.333333  ",
      "text/html": "<div>\n<style scoped>\n    .dataframe tbody tr th:only-of-type {\n        vertical-align: middle;\n    }\n\n    .dataframe tbody tr th {\n        vertical-align: top;\n    }\n\n    .dataframe thead th {\n        text-align: right;\n    }\n</style>\n<table border=\"1\" class=\"dataframe\">\n  <thead>\n    <tr style=\"text-align: right;\">\n      <th></th>\n      <th>1. Geschlecht:</th>\n      <th>2. Alter:</th>\n      <th>3. Körpergröße (in cm)</th>\n      <th>4. Körpergewicht (in kg)</th>\n      <th>8. Wie lange fahren Sie schon auf dem Bus?</th>\n      <th>10. Bitte geben Sie an ob Sie sitzen oder stehen:</th>\n      <th>11. Bitte geben Sie Ihre Position im Bus an:</th>\n      <th>12. Bitte geben Sie an, ob sie näher einer Fenster oder dem Gang sind:</th>\n      <th>clothing_insulation</th>\n      <th>comfort</th>\n    </tr>\n  </thead>\n  <tbody>\n    <tr>\n      <th>0</th>\n      <td>0</td>\n      <td>62</td>\n      <td>162</td>\n      <td>60</td>\n      <td>0</td>\n      <td>0</td>\n      <td>0.0</td>\n      <td>0</td>\n      <td>31</td>\n      <td>1.000000</td>\n    </tr>\n    <tr>\n      <th>1</th>\n      <td>0</td>\n      <td>36</td>\n      <td>163</td>\n      <td>65</td>\n      <td>0</td>\n      <td>0</td>\n      <td>1.0</td>\n      <td>0</td>\n      <td>21</td>\n      <td>1.666667</td>\n    </tr>\n    <tr>\n      <th>2</th>\n      <td>0</td>\n      <td>23</td>\n      <td>168</td>\n      <td>68</td>\n      <td>1</td>\n      <td>0</td>\n      <td>2.0</td>\n      <td>0</td>\n      <td>35</td>\n      <td>1.000000</td>\n    </tr>\n    <tr>\n      <th>3</th>\n      <td>0</td>\n      <td>22</td>\n      <td>178</td>\n      <td>80</td>\n      <td>0</td>\n      <td>0</td>\n      <td>3.0</td>\n      <td>1</td>\n      <td>26</td>\n      <td>1.333333</td>\n    </tr>\n    <tr>\n      <th>4</th>\n      <td>0</td>\n      <td>25</td>\n      <td>163</td>\n      <td>65</td>\n      <td>0</td>\n      <td>0</td>\n      <td>4.0</td>\n      <td>1</td>\n      <td>26</td>\n      <td>1.333333</td>\n    </tr>\n    <tr>\n      <th>5</th>\n      <td>0</td>\n      <td>27</td>\n      <td>168</td>\n      <td>57</td>\n      <td>2</td>\n      <td>0</td>\n      <td>4.0</td>\n      <td>1</td>\n      <td>26</td>\n      <td>1.666667</td>\n    </tr>\n    <tr>\n      <th>6</th>\n      <td>1</td>\n      <td>38</td>\n      <td>187</td>\n      <td>69</td>\n      <td>0</td>\n      <td>0</td>\n      <td>5.0</td>\n      <td>0</td>\n      <td>22</td>\n      <td>1.666667</td>\n    </tr>\n    <tr>\n      <th>7</th>\n      <td>1</td>\n      <td>73</td>\n      <td>167</td>\n      <td>83</td>\n      <td>0</td>\n      <td>0</td>\n      <td>5.0</td>\n      <td>1</td>\n      <td>32</td>\n      <td>2.000000</td>\n    </tr>\n    <tr>\n      <th>8</th>\n      <td>1</td>\n      <td>61</td>\n      <td>176</td>\n      <td>80</td>\n      <td>0</td>\n      <td>0</td>\n      <td>4.0</td>\n      <td>0</td>\n      <td>29</td>\n      <td>1.333333</td>\n    </tr>\n    <tr>\n      <th>9</th>\n      <td>1</td>\n      <td>47</td>\n      <td>184</td>\n      <td>81</td>\n      <td>1</td>\n      <td>1</td>\n      <td>5.0</td>\n      <td>0</td>\n      <td>22</td>\n      <td>1.333333</td>\n    </tr>\n    <tr>\n      <th>10</th>\n      <td>0</td>\n      <td>35</td>\n      <td>176</td>\n      <td>67</td>\n      <td>0</td>\n      <td>0</td>\n      <td>1.0</td>\n      <td>0</td>\n      <td>30</td>\n      <td>1.666667</td>\n    </tr>\n    <tr>\n      <th>11</th>\n      <td>0</td>\n      <td>55</td>\n      <td>170</td>\n      <td>74</td>\n      <td>0</td>\n      <td>0</td>\n      <td>1.0</td>\n      <td>0</td>\n      <td>24</td>\n      <td>2.000000</td>\n    </tr>\n    <tr>\n      <th>12</th>\n      <td>0</td>\n      <td>83</td>\n      <td>157</td>\n      <td>53</td>\n      <td>1</td>\n      <td>0</td>\n      <td>4.0</td>\n      <td>1</td>\n      <td>29</td>\n      <td>0.333333</td>\n    </tr>\n    <tr>\n      <th>13</th>\n      <td>0</td>\n      <td>86</td>\n      <td>164</td>\n      <td>61</td>\n      <td>1</td>\n      <td>0</td>\n      <td>4.0</td>\n      <td>0</td>\n      <td>31</td>\n      <td>0.666667</td>\n    </tr>\n    <tr>\n      <th>14</th>\n      <td>0</td>\n      <td>83</td>\n      <td>169</td>\n      <td>70</td>\n      <td>1</td>\n      <td>0</td>\n      <td>4.0</td>\n      <td>0</td>\n      <td>31</td>\n      <td>0.000000</td>\n    </tr>\n    <tr>\n      <th>15</th>\n      <td>0</td>\n      <td>49</td>\n      <td>160</td>\n      <td>50</td>\n      <td>1</td>\n      <td>0</td>\n      <td>3.0</td>\n      <td>0</td>\n      <td>29</td>\n      <td>1.666667</td>\n    </tr>\n    <tr>\n      <th>16</th>\n      <td>1</td>\n      <td>52</td>\n      <td>186</td>\n      <td>95</td>\n      <td>1</td>\n      <td>0</td>\n      <td>3.0</td>\n      <td>1</td>\n      <td>25</td>\n      <td>2.000000</td>\n    </tr>\n    <tr>\n      <th>17</th>\n      <td>0</td>\n      <td>60</td>\n      <td>178</td>\n      <td>84</td>\n      <td>0</td>\n      <td>0</td>\n      <td>3.0</td>\n      <td>1</td>\n      <td>28</td>\n      <td>1.666667</td>\n    </tr>\n    <tr>\n      <th>18</th>\n      <td>0</td>\n      <td>23</td>\n      <td>168</td>\n      <td>72</td>\n      <td>1</td>\n      <td>0</td>\n      <td>0.0</td>\n      <td>1</td>\n      <td>28</td>\n      <td>1.666667</td>\n    </tr>\n    <tr>\n      <th>19</th>\n      <td>1</td>\n      <td>45</td>\n      <td>175</td>\n      <td>130</td>\n      <td>1</td>\n      <td>0</td>\n      <td>3.0</td>\n      <td>0</td>\n      <td>22</td>\n      <td>2.333333</td>\n    </tr>\n    <tr>\n      <th>20</th>\n      <td>1</td>\n      <td>25</td>\n      <td>198</td>\n      <td>98</td>\n      <td>0</td>\n      <td>0</td>\n      <td>4.0</td>\n      <td>1</td>\n      <td>24</td>\n      <td>2.333333</td>\n    </tr>\n    <tr>\n      <th>21</th>\n      <td>0</td>\n      <td>63</td>\n      <td>172</td>\n      <td>63</td>\n      <td>0</td>\n      <td>0</td>\n      <td>2.0</td>\n      <td>1</td>\n      <td>29</td>\n      <td>2.000000</td>\n    </tr>\n    <tr>\n      <th>22</th>\n      <td>1</td>\n      <td>27</td>\n      <td>183</td>\n      <td>110</td>\n      <td>0</td>\n      <td>0</td>\n      <td>3.0</td>\n      <td>0</td>\n      <td>20</td>\n      <td>1.666667</td>\n    </tr>\n    <tr>\n      <th>23</th>\n      <td>0</td>\n      <td>14</td>\n      <td>153</td>\n      <td>50</td>\n      <td>0</td>\n      <td>0</td>\n      <td>1.0</td>\n      <td>1</td>\n      <td>31</td>\n      <td>2.000000</td>\n    </tr>\n    <tr>\n      <th>24</th>\n      <td>0</td>\n      <td>53</td>\n      <td>173</td>\n      <td>69</td>\n      <td>0</td>\n      <td>0</td>\n      <td>4.0</td>\n      <td>0</td>\n      <td>33</td>\n      <td>0.666667</td>\n    </tr>\n    <tr>\n      <th>25</th>\n      <td>0</td>\n      <td>18</td>\n      <td>158</td>\n      <td>60</td>\n      <td>0</td>\n      <td>0</td>\n      <td>3.0</td>\n      <td>1</td>\n      <td>26</td>\n      <td>1.666667</td>\n    </tr>\n    <tr>\n      <th>26</th>\n      <td>0</td>\n      <td>41</td>\n      <td>177</td>\n      <td>60</td>\n      <td>1</td>\n      <td>0</td>\n      <td>4.0</td>\n      <td>1</td>\n      <td>33</td>\n      <td>1.000000</td>\n    </tr>\n    <tr>\n      <th>27</th>\n      <td>0</td>\n      <td>70</td>\n      <td>150</td>\n      <td>45</td>\n      <td>1</td>\n      <td>0</td>\n      <td>6.0</td>\n      <td>1</td>\n      <td>24</td>\n      <td>1.333333</td>\n    </tr>\n    <tr>\n      <th>28</th>\n      <td>1</td>\n      <td>20</td>\n      <td>186</td>\n      <td>75</td>\n      <td>1</td>\n      <td>0</td>\n      <td>1.0</td>\n      <td>1</td>\n      <td>31</td>\n      <td>2.666667</td>\n    </tr>\n    <tr>\n      <th>29</th>\n      <td>1</td>\n      <td>23</td>\n      <td>168</td>\n      <td>72</td>\n      <td>1</td>\n      <td>0</td>\n      <td>2.0</td>\n      <td>0</td>\n      <td>28</td>\n      <td>1.333333</td>\n    </tr>\n    <tr>\n      <th>30</th>\n      <td>1</td>\n      <td>24</td>\n      <td>190</td>\n      <td>79</td>\n      <td>0</td>\n      <td>0</td>\n      <td>5.0</td>\n      <td>1</td>\n      <td>26</td>\n      <td>2.000000</td>\n    </tr>\n    <tr>\n      <th>31</th>\n      <td>0</td>\n      <td>23</td>\n      <td>168</td>\n      <td>75</td>\n      <td>0</td>\n      <td>0</td>\n      <td>2.0</td>\n      <td>0</td>\n      <td>28</td>\n      <td>1.666667</td>\n    </tr>\n    <tr>\n      <th>32</th>\n      <td>0</td>\n      <td>31</td>\n      <td>168</td>\n      <td>60</td>\n      <td>1</td>\n      <td>0</td>\n      <td>5.0</td>\n      <td>1</td>\n      <td>30</td>\n      <td>2.666667</td>\n    </tr>\n    <tr>\n      <th>33</th>\n      <td>1</td>\n      <td>70</td>\n      <td>173</td>\n      <td>85</td>\n      <td>0</td>\n      <td>0</td>\n      <td>3.0</td>\n      <td>1</td>\n      <td>26</td>\n      <td>2.333333</td>\n    </tr>\n    <tr>\n      <th>34</th>\n      <td>1</td>\n      <td>19</td>\n      <td>170</td>\n      <td>70</td>\n      <td>0</td>\n      <td>0</td>\n      <td>4.0</td>\n      <td>0</td>\n      <td>26</td>\n      <td>1.000000</td>\n    </tr>\n    <tr>\n      <th>35</th>\n      <td>1</td>\n      <td>25</td>\n      <td>162</td>\n      <td>70</td>\n      <td>1</td>\n      <td>0</td>\n      <td>3.0</td>\n      <td>1</td>\n      <td>29</td>\n      <td>2.000000</td>\n    </tr>\n    <tr>\n      <th>36</th>\n      <td>0</td>\n      <td>40</td>\n      <td>156</td>\n      <td>73</td>\n      <td>1</td>\n      <td>1</td>\n      <td>4.0</td>\n      <td>1</td>\n      <td>29</td>\n      <td>1.333333</td>\n    </tr>\n  </tbody>\n</table>\n</div>"
     },
     "execution_count": 365,
     "metadata": {},
     "output_type": "execute_result"
    }
   ],
   "source": [
    "### Load the data\n",
    "data_path = 'data/survey_2022-06-08.csv'\n",
    "df = pd.read_csv(data_path)\n",
    "df"
   ]
  },
  {
   "cell_type": "markdown",
   "source": [
    "# Scale Data"
   ],
   "metadata": {
    "collapsed": false
   }
  },
  {
   "cell_type": "code",
   "execution_count": 366,
   "outputs": [],
   "source": [
    "from sklearn.preprocessing import MinMaxScaler\n",
    "scaler = MinMaxScaler()\n",
    "X = scaler.fit_transform(df)\n",
    "y = X[:,-1]\n",
    "x = X[:,:-1]"
   ],
   "metadata": {
    "collapsed": false,
    "pycharm": {
     "name": "#%%\n"
    }
   }
  },
  {
   "cell_type": "markdown",
   "source": [
    "# Cross Validation Split #TODO"
   ],
   "metadata": {
    "collapsed": false
   }
  },
  {
   "cell_type": "markdown",
   "source": [
    "# Train Test Split"
   ],
   "metadata": {
    "collapsed": false
   }
  },
  {
   "cell_type": "code",
   "execution_count": 367,
   "outputs": [],
   "source": [
    "from sklearn.model_selection import train_test_split\n",
    "dtype = torch.float\n",
    "x_train, x_test, y_train, y_test = train_test_split(x, y, test_size=0.2, random_state=42)\n",
    "x_train = torch.tensor(x_train,dtype=dtype)\n",
    "x_test = torch.tensor(x_test, dtype=dtype)\n",
    "y_test = torch.tensor(y_test, dtype=dtype).reshape(-1,1)\n",
    "y_train = torch.tensor(y_train, dtype=dtype).reshape(-1,1)"
   ],
   "metadata": {
    "collapsed": false,
    "pycharm": {
     "name": "#%%\n"
    }
   }
  },
  {
   "cell_type": "markdown",
   "source": [
    "# Train"
   ],
   "metadata": {
    "collapsed": false
   }
  },
  {
   "cell_type": "code",
   "execution_count": 368,
   "outputs": [
    {
     "name": "stdout",
     "output_type": "stream",
     "text": [
      "Epoch: 0, train loss: 0.06557678431272507, test loss: 0.023561634123325348\n",
      "Epoch: 100, train loss: 0.0054340544156730175, test loss: 0.06071560084819794\n",
      "Epoch: 200, train loss: 0.00015590785187669098, test loss: 0.08227647840976715\n",
      "Epoch: 300, train loss: 5.491127012646757e-05, test loss: 0.07766091823577881\n",
      "Epoch: 400, train loss: 5.0028549594571814e-05, test loss: 0.07658641040325165\n",
      "Epoch: 500, train loss: 2.8776545150321908e-05, test loss: 0.07628928869962692\n",
      "Epoch: 600, train loss: 2.5777324481168762e-05, test loss: 0.07640906423330307\n",
      "Epoch: 700, train loss: 2.0653400497394614e-05, test loss: 0.07647870481014252\n",
      "Epoch: 800, train loss: 1.2701708328677341e-05, test loss: 0.07665390521287918\n",
      "Epoch: 900, train loss: 7.998724868230056e-06, test loss: 0.07675064355134964\n",
      "Epoch: 1000, train loss: 5.5523505579913035e-06, test loss: 0.07675622403621674\n",
      "Epoch: 1100, train loss: 3.926902536477428e-06, test loss: 0.07679638266563416\n",
      "Epoch: 1200, train loss: 2.9076395549054723e-06, test loss: 0.07680270820856094\n",
      "Epoch: 1300, train loss: 2.1278140138747403e-06, test loss: 0.07679672539234161\n",
      "Epoch: 1400, train loss: 1.5814503058209084e-06, test loss: 0.07679805159568787\n",
      "Epoch: 1500, train loss: 1.1984880075033288e-06, test loss: 0.07680624723434448\n",
      "Epoch: 1600, train loss: 8.956147894423339e-07, test loss: 0.07681972533464432\n",
      "Epoch: 1700, train loss: 7.152193575166166e-07, test loss: 0.07692976295948029\n",
      "Epoch: 1800, train loss: 5.839251571160275e-07, test loss: 0.07701495289802551\n",
      "Epoch: 1900, train loss: 4.958051817993692e-07, test loss: 0.07709050178527832\n",
      "Epoch: 2000, train loss: 4.174721368599421e-07, test loss: 0.07713407278060913\n",
      "Epoch: 2100, train loss: 3.598837849949632e-07, test loss: 0.07718525826931\n",
      "Epoch: 2200, train loss: 3.085114883560891e-07, test loss: 0.07720664888620377\n",
      "Epoch: 2300, train loss: 2.6798872454492084e-07, test loss: 0.07724308967590332\n",
      "Epoch: 2400, train loss: 2.3379517699595453e-07, test loss: 0.07726901769638062\n",
      "Epoch: 2500, train loss: 2.0556221613787784e-07, test loss: 0.07728712260723114\n",
      "Epoch: 2600, train loss: 1.8135253299078613e-07, test loss: 0.07731117308139801\n",
      "Epoch: 2700, train loss: 1.6128814195326413e-07, test loss: 0.07732754945755005\n",
      "Epoch: 2800, train loss: 1.4377454249370203e-07, test loss: 0.07734365016222\n",
      "Epoch: 2900, train loss: 1.2890794209852174e-07, test loss: 0.07736210525035858\n",
      "Epoch: 3000, train loss: 1.1642985953130847e-07, test loss: 0.07737457752227783\n",
      "Epoch: 3100, train loss: 1.0534114380789106e-07, test loss: 0.07738763093948364\n",
      "Epoch: 3200, train loss: 9.591364857897133e-08, test loss: 0.07739664614200592\n",
      "Epoch: 3300, train loss: 8.776007121014118e-08, test loss: 0.07741370797157288\n",
      "Epoch: 3400, train loss: 8.042240295935699e-08, test loss: 0.07742016017436981\n",
      "Epoch: 3500, train loss: 7.413655822574583e-08, test loss: 0.07742762565612793\n",
      "Epoch: 3600, train loss: 6.852146583469221e-08, test loss: 0.07743538916110992\n",
      "Epoch: 3700, train loss: 6.36535304465724e-08, test loss: 0.07744240760803223\n",
      "Epoch: 3800, train loss: 5.934724356393417e-08, test loss: 0.07745186984539032\n",
      "Epoch: 3900, train loss: 5.5407046062327936e-08, test loss: 0.07745630294084549\n",
      "Epoch: 4000, train loss: 5.2063729327755937e-08, test loss: 0.07746383547782898\n",
      "Epoch: 4100, train loss: 4.89463900521514e-08, test loss: 0.07746796309947968\n",
      "Epoch: 4200, train loss: 4.614571125216571e-08, test loss: 0.07747197151184082\n",
      "Epoch: 4300, train loss: 4.36523031055458e-08, test loss: 0.07747572660446167\n",
      "Epoch: 4400, train loss: 4.1407158590800464e-08, test loss: 0.07747941464185715\n",
      "Epoch: 4500, train loss: 3.937283210575515e-08, test loss: 0.07748192548751831\n",
      "Epoch: 4600, train loss: 3.7530231367099987e-08, test loss: 0.0774848535656929\n",
      "Epoch: 4700, train loss: 3.585731889188537e-08, test loss: 0.07748730480670929\n",
      "Epoch: 4800, train loss: 3.437915552240156e-08, test loss: 0.07749086618423462\n",
      "Epoch: 4900, train loss: 3.2973225927435124e-08, test loss: 0.07749263942241669\n",
      "Epoch: 5000, train loss: 3.170103823890713e-08, test loss: 0.07749418169260025\n",
      "Epoch: 5100, train loss: 3.053257202623172e-08, test loss: 0.07749547064304352\n",
      "Epoch: 5200, train loss: 2.9461933337415758e-08, test loss: 0.07749661058187485\n",
      "Epoch: 5300, train loss: 2.8481625946596978e-08, test loss: 0.07749815285205841\n",
      "Epoch: 5400, train loss: 2.757935924080357e-08, test loss: 0.07749957591295242\n",
      "Epoch: 5500, train loss: 2.6771292738203556e-08, test loss: 0.07750190794467926\n",
      "Epoch: 5600, train loss: 2.598050130586671e-08, test loss: 0.07750283181667328\n",
      "Epoch: 5700, train loss: 2.5287187455091953e-08, test loss: 0.0775039792060852\n",
      "Epoch: 5800, train loss: 2.4622318406386512e-08, test loss: 0.07750488072633743\n",
      "Epoch: 5900, train loss: 2.400391885259978e-08, test loss: 0.07750584185123444\n",
      "Epoch: 6000, train loss: 2.3443563534897294e-08, test loss: 0.07750675827264786\n",
      "Epoch: 6100, train loss: 2.291328726755637e-08, test loss: 0.07750806957483292\n",
      "Epoch: 6200, train loss: 2.2416426048721405e-08, test loss: 0.07750822603702545\n",
      "Epoch: 6300, train loss: 2.1959987606123832e-08, test loss: 0.07750952988862991\n",
      "Epoch: 6400, train loss: 2.153182698805267e-08, test loss: 0.07750978320837021\n",
      "Epoch: 6500, train loss: 2.1142668060747383e-08, test loss: 0.07751117646694183\n",
      "Epoch: 6600, train loss: 2.0760177577017203e-08, test loss: 0.07751090824604034\n",
      "Epoch: 6700, train loss: 2.0421655477775857e-08, test loss: 0.07751181721687317\n",
      "Epoch: 6800, train loss: 2.0094496733236156e-08, test loss: 0.07751220464706421\n",
      "Epoch: 6900, train loss: 1.9794944350337573e-08, test loss: 0.07751268148422241\n",
      "Epoch: 7000, train loss: 1.9510933313426904e-08, test loss: 0.07751356065273285\n",
      "Epoch: 7100, train loss: 1.9244692950337594e-08, test loss: 0.07751373201608658\n",
      "Epoch: 7200, train loss: 1.899617529943498e-08, test loss: 0.07751408964395523\n",
      "Epoch: 7300, train loss: 1.87606481460989e-08, test loss: 0.07751449942588806\n",
      "Epoch: 7400, train loss: 1.854858133754078e-08, test loss: 0.07751543819904327\n",
      "Epoch: 7500, train loss: 1.8341781427011483e-08, test loss: 0.07751541584730148\n",
      "Epoch: 7600, train loss: 1.815327443921433e-08, test loss: 0.07751575112342834\n",
      "Epoch: 7700, train loss: 1.797588922158866e-08, test loss: 0.07751623541116714\n",
      "Epoch: 7800, train loss: 1.7807481711429318e-08, test loss: 0.07751666009426117\n",
      "Epoch: 7900, train loss: 1.7644536498551133e-08, test loss: 0.0775168389081955\n",
      "Epoch: 8000, train loss: 1.7494921067395808e-08, test loss: 0.07751700282096863\n",
      "Epoch: 8100, train loss: 1.7358859238925106e-08, test loss: 0.07751727849245071\n",
      "Epoch: 8200, train loss: 1.723066311853927e-08, test loss: 0.0775175541639328\n",
      "Epoch: 8300, train loss: 1.7106252414578194e-08, test loss: 0.07751748710870743\n",
      "Epoch: 8400, train loss: 1.6996652973944038e-08, test loss: 0.07751765102148056\n",
      "Epoch: 8500, train loss: 1.6894011523049812e-08, test loss: 0.07751787453889847\n",
      "Epoch: 8600, train loss: 1.6795969060012794e-08, test loss: 0.07751772552728653\n",
      "Epoch: 8700, train loss: 1.670221472238609e-08, test loss: 0.07751788944005966\n",
      "Epoch: 8800, train loss: 1.6625062215780417e-08, test loss: 0.07751787453889847\n",
      "Epoch: 8900, train loss: 1.6543806324875732e-08, test loss: 0.0775178000330925\n",
      "Epoch: 9000, train loss: 1.6470400154844356e-08, test loss: 0.07751783728599548\n",
      "Epoch: 9100, train loss: 1.640280089532098e-08, test loss: 0.0775178000330925\n",
      "Epoch: 9200, train loss: 1.6333393304535093e-08, test loss: 0.0775177925825119\n",
      "Epoch: 9300, train loss: 1.6279772196980957e-08, test loss: 0.07751785218715668\n",
      "Epoch: 9400, train loss: 1.6221081367007173e-08, test loss: 0.07751783728599548\n",
      "Epoch: 9500, train loss: 1.617695843947331e-08, test loss: 0.07751776278018951\n",
      "Epoch: 9600, train loss: 1.612637134940087e-08, test loss: 0.0775177925825119\n",
      "Epoch: 9700, train loss: 1.608022337507009e-08, test loss: 0.0775178000330925\n",
      "Epoch: 9800, train loss: 1.604000310351239e-08, test loss: 0.0775177925825119\n",
      "Epoch: 9900, train loss: 1.600285770564369e-08, test loss: 0.07751794159412384\n"
     ]
    },
    {
     "data": {
      "text/plain": "<Figure size 432x288 with 1 Axes>",
      "image/png": "[encoded data removed]"
     },
     "metadata": {
      "needs_background": "light"
     },
     "output_type": "display_data"
    }
   ],
   "source": [
    "import time\n",
    "from torch.optim.lr_scheduler import ExponentialLR\n",
    "from methods import *\n",
    "from torch import nn\n",
    "\n",
    "epochs = 10000\n",
    "method = NN(input_size=x_train.shape[1])\n",
    "criterion = nn.MSELoss()\n",
    "params_to_be_optimized = method.get_parameters()\n",
    "optimizer = optim.Adam(params_to_be_optimized, lr=0.01)\n",
    "scheduler = ExponentialLR(optimizer, gamma=0.999)\n",
    "train_losses = []\n",
    "test_losses = []\n",
    "\n",
    "for epoch in range(epochs):\n",
    "  iteration_time = time.time()\n",
    "  optimizer.zero_grad()\n",
    "\n",
    "  # forward pass\n",
    "  y_train_predicted = method.predict(x_train)\n",
    "  loss = criterion(y_train_predicted, y_train)\n",
    "\n",
    "  # backward pass\n",
    "  loss.backward()\n",
    "  optimizer.step()\n",
    "  scheduler.step()\n",
    "\n",
    "\n",
    "  with torch.no_grad():\n",
    "\n",
    "    y_train_predicted = method.predict(x_train)\n",
    "    train_loss = criterion(y_train_predicted, y_train)\n",
    "    train_losses.append(train_loss)\n",
    "\n",
    "    y_test_predicted = method.predict(x_test)\n",
    "    test_loss = criterion(y_test_predicted, y_test)\n",
    "    test_losses.append(test_loss)\n",
    "\n",
    "    if epoch%100==0:\n",
    "      print(f'Epoch: {epoch}, train loss: {train_loss}, test loss: {test_loss}')\n",
    "\n",
    "\n",
    "plt.plot(train_losses, label='train loss')\n",
    "plt.plot(test_losses, label='test loss')\n",
    "plt.legend()\n",
    "plt.show()"
   ],
   "metadata": {
    "collapsed": false,
    "pycharm": {
     "name": "#%%\n"
    }
   }
  },
  {
   "cell_type": "markdown",
   "source": [
    "# Test results"
   ],
   "metadata": {
    "collapsed": false
   }
  },
  {
   "cell_type": "code",
   "execution_count": 369,
   "outputs": [],
   "source": [
    "# Rescale test result to original values\n",
    "zeros = np.zeros(x_test.shape)\n",
    "test_predicted = np.concatenate((zeros, method.predict(x_test).detach().numpy()),axis=1)\n",
    "test_predicted= scaler.inverse_transform(test_predicted)[:,-1]\n",
    "\n",
    "test_target = np.concatenate((zeros, y_test.detach().numpy()),axis=1)\n",
    "test_target = scaler.inverse_transform(test_target)[:,-1]"
   ],
   "metadata": {
    "collapsed": false,
    "pycharm": {
     "name": "#%%\n"
    }
   }
  },
  {
   "cell_type": "code",
   "execution_count": 370,
   "outputs": [],
   "source": [
    "# Calculate percentage error\n",
    "percentage_error = (test_target - test_predicted)/test_target"
   ],
   "metadata": {
    "collapsed": false,
    "pycharm": {
     "name": "#%%\n"
    }
   }
  },
  {
   "cell_type": "code",
   "execution_count": 371,
   "outputs": [
    {
     "data": {
      "text/plain": "<Figure size 432x288 with 1 Axes>",
      "image/png": "[encoded data removed]"
     },
     "metadata": {
      "needs_background": "light"
     },
     "output_type": "display_data"
    }
   ],
   "source": [
    "# Plot histogram of percentage error\n",
    "plt.hist(percentage_error)\n",
    "plt.show()"
   ],
   "metadata": {
    "collapsed": false,
    "pycharm": {
     "name": "#%%\n"
    }
   }
  }
 ],
 "metadata": {
  "kernelspec": {
   "display_name": "Python 3",
   "language": "python",
   "name": "python3"
  },
  "language_info": {
   "codemirror_mode": {
    "name": "ipython",
    "version": 2
   },
   "file_extension": ".py",
   "mimetype": "text/x-python",
   "name": "python",
   "nbconvert_exporter": "python",
   "pygments_lexer": "ipython2",
   "version": "2.7.6"
  }
 },
 "nbformat": 4,
 "nbformat_minor": 0
}