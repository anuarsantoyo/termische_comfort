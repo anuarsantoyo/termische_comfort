{
 "cells": [
  {
   "cell_type": "markdown",
   "source": [
    "# Optimizer\n",
    "Gets data and uses it to optimize a method (imported from method.py) using a loss function and tests it against unseen data.\n",
    "TODO:\n",
    "- Cross Validation implementation\n"
   ],
   "metadata": {
    "collapsed": false
   }
  },
  {
   "cell_type": "code",
   "execution_count": 744,
   "outputs": [],
   "source": [
    "import pandas as pd\n",
    "import matplotlib.pyplot as plt\n",
    "import torch\n",
    "import torch.optim as optim"
   ],
   "metadata": {
    "collapsed": false,
    "pycharm": {
     "name": "#%%\n"
    }
   }
  },
  {
   "cell_type": "markdown",
   "source": [
    "# Import data"
   ],
   "metadata": {
    "collapsed": false
   }
  },
  {
   "cell_type": "code",
   "execution_count": 745,
   "metadata": {
    "collapsed": true
   },
   "outputs": [
    {
     "data": {
      "text/plain": "    1. Geschlecht:  2. Alter:  3. Körpergröße (in cm)  \\\n0                0         62                     162   \n1                0         36                     163   \n2                0         23                     168   \n3                0         22                     178   \n4                0         25                     163   \n5                0         27                     168   \n6                1         38                     187   \n7                1         73                     167   \n8                1         61                     176   \n9                1         47                     184   \n10               0         35                     176   \n11               0         55                     170   \n12               0         83                     157   \n13               0         86                     164   \n14               0         83                     169   \n15               0         49                     160   \n16               1         52                     186   \n17               0         60                     178   \n18               0         23                     168   \n19               1         45                     175   \n20               1         25                     198   \n21               0         63                     172   \n22               1         27                     183   \n23               0         14                     153   \n24               0         53                     173   \n25               0         18                     158   \n26               0         41                     177   \n27               0         70                     150   \n28               1         20                     186   \n29               1         23                     168   \n30               1         24                     190   \n31               0         23                     168   \n32               0         31                     168   \n33               1         70                     173   \n34               1         19                     170   \n35               1         25                     162   \n36               0         40                     156   \n\n    4. Körpergewicht (in kg)  8. Wie lange fahren Sie schon auf dem Bus?  \\\n0                         60                                           0   \n1                         65                                           0   \n2                         68                                           1   \n3                         80                                           0   \n4                         65                                           0   \n5                         57                                           2   \n6                         69                                           0   \n7                         83                                           0   \n8                         80                                           0   \n9                         81                                           1   \n10                        67                                           0   \n11                        74                                           0   \n12                        53                                           1   \n13                        61                                           1   \n14                        70                                           1   \n15                        50                                           1   \n16                        95                                           1   \n17                        84                                           0   \n18                        72                                           1   \n19                       130                                           1   \n20                        98                                           0   \n21                        63                                           0   \n22                       110                                           0   \n23                        50                                           0   \n24                        69                                           0   \n25                        60                                           0   \n26                        60                                           1   \n27                        45                                           1   \n28                        75                                           1   \n29                        72                                           1   \n30                        79                                           0   \n31                        75                                           0   \n32                        60                                           1   \n33                        85                                           0   \n34                        70                                           0   \n35                        70                                           1   \n36                        73                                           1   \n\n    10. Bitte geben Sie an ob Sie sitzen oder stehen:  \\\n0                                                   0   \n1                                                   0   \n2                                                   0   \n3                                                   0   \n4                                                   0   \n5                                                   0   \n6                                                   0   \n7                                                   0   \n8                                                   0   \n9                                                   1   \n10                                                  0   \n11                                                  0   \n12                                                  0   \n13                                                  0   \n14                                                  0   \n15                                                  0   \n16                                                  0   \n17                                                  0   \n18                                                  0   \n19                                                  0   \n20                                                  0   \n21                                                  0   \n22                                                  0   \n23                                                  0   \n24                                                  0   \n25                                                  0   \n26                                                  0   \n27                                                  0   \n28                                                  0   \n29                                                  0   \n30                                                  0   \n31                                                  0   \n32                                                  0   \n33                                                  0   \n34                                                  0   \n35                                                  0   \n36                                                  1   \n\n    11. Bitte geben Sie Ihre Position im Bus an:  \\\n0                                            0.0   \n1                                            1.0   \n2                                            2.0   \n3                                            3.0   \n4                                            4.0   \n5                                            4.0   \n6                                            5.0   \n7                                            5.0   \n8                                            4.0   \n9                                            5.0   \n10                                           1.0   \n11                                           1.0   \n12                                           4.0   \n13                                           4.0   \n14                                           4.0   \n15                                           3.0   \n16                                           3.0   \n17                                           3.0   \n18                                           0.0   \n19                                           3.0   \n20                                           4.0   \n21                                           2.0   \n22                                           3.0   \n23                                           1.0   \n24                                           4.0   \n25                                           3.0   \n26                                           4.0   \n27                                           6.0   \n28                                           1.0   \n29                                           2.0   \n30                                           5.0   \n31                                           2.0   \n32                                           5.0   \n33                                           3.0   \n34                                           4.0   \n35                                           3.0   \n36                                           4.0   \n\n    12. Bitte geben Sie an, ob sie näher einer Fenster oder dem Gang sind:  \\\n0                                                   0                        \n1                                                   0                        \n2                                                   0                        \n3                                                   1                        \n4                                                   1                        \n5                                                   1                        \n6                                                   0                        \n7                                                   1                        \n8                                                   0                        \n9                                                   0                        \n10                                                  0                        \n11                                                  0                        \n12                                                  1                        \n13                                                  0                        \n14                                                  0                        \n15                                                  0                        \n16                                                  1                        \n17                                                  1                        \n18                                                  1                        \n19                                                  0                        \n20                                                  1                        \n21                                                  1                        \n22                                                  0                        \n23                                                  1                        \n24                                                  0                        \n25                                                  1                        \n26                                                  1                        \n27                                                  1                        \n28                                                  1                        \n29                                                  0                        \n30                                                  1                        \n31                                                  0                        \n32                                                  1                        \n33                                                  1                        \n34                                                  0                        \n35                                                  1                        \n36                                                  1                        \n\n    clothing_insulation   comfort  \n0                    31  1.000000  \n1                    21  1.666667  \n2                    35  1.000000  \n3                    26  1.333333  \n4                    26  1.333333  \n5                    26  1.666667  \n6                    22  1.666667  \n7                    32  2.000000  \n8                    29  1.333333  \n9                    22  1.333333  \n10                   30  1.666667  \n11                   24  2.000000  \n12                   29  0.333333  \n13                   31  0.666667  \n14                   31  0.000000  \n15                   29  1.666667  \n16                   25  2.000000  \n17                   28  1.666667  \n18                   28  1.666667  \n19                   22  2.333333  \n20                   24  2.333333  \n21                   29  2.000000  \n22                   20  1.666667  \n23                   31  2.000000  \n24                   33  0.666667  \n25                   26  1.666667  \n26                   33  1.000000  \n27                   24  1.333333  \n28                   31  2.666667  \n29                   28  1.333333  \n30                   26  2.000000  \n31                   28  1.666667  \n32                   30  2.666667  \n33                   26  2.333333  \n34                   26  1.000000  \n35                   29  2.000000  \n36                   29  1.333333  ",
      "text/html": "<div>\n<style scoped>\n    .dataframe tbody tr th:only-of-type {\n        vertical-align: middle;\n    }\n\n    .dataframe tbody tr th {\n        vertical-align: top;\n    }\n\n    .dataframe thead th {\n        text-align: right;\n    }\n</style>\n<table border=\"1\" class=\"dataframe\">\n  <thead>\n    <tr style=\"text-align: right;\">\n      <th></th>\n      <th>1. Geschlecht:</th>\n      <th>2. Alter:</th>\n      <th>3. Körpergröße (in cm)</th>\n      <th>4. Körpergewicht (in kg)</th>\n      <th>8. Wie lange fahren Sie schon auf dem Bus?</th>\n      <th>10. Bitte geben Sie an ob Sie sitzen oder stehen:</th>\n      <th>11. Bitte geben Sie Ihre Position im Bus an:</th>\n      <th>12. Bitte geben Sie an, ob sie näher einer Fenster oder dem Gang sind:</th>\n      <th>clothing_insulation</th>\n      <th>comfort</th>\n    </tr>\n  </thead>\n  <tbody>\n    <tr>\n      <th>0</th>\n      <td>0</td>\n      <td>62</td>\n      <td>162</td>\n      <td>60</td>\n      <td>0</td>\n      <td>0</td>\n      <td>0.0</td>\n      <td>0</td>\n      <td>31</td>\n      <td>1.000000</td>\n    </tr>\n    <tr>\n      <th>1</th>\n      <td>0</td>\n      <td>36</td>\n      <td>163</td>\n      <td>65</td>\n      <td>0</td>\n      <td>0</td>\n      <td>1.0</td>\n      <td>0</td>\n      <td>21</td>\n      <td>1.666667</td>\n    </tr>\n    <tr>\n      <th>2</th>\n      <td>0</td>\n      <td>23</td>\n      <td>168</td>\n      <td>68</td>\n      <td>1</td>\n      <td>0</td>\n      <td>2.0</td>\n      <td>0</td>\n      <td>35</td>\n      <td>1.000000</td>\n    </tr>\n    <tr>\n      <th>3</th>\n      <td>0</td>\n      <td>22</td>\n      <td>178</td>\n      <td>80</td>\n      <td>0</td>\n      <td>0</td>\n      <td>3.0</td>\n      <td>1</td>\n      <td>26</td>\n      <td>1.333333</td>\n    </tr>\n    <tr>\n      <th>4</th>\n      <td>0</td>\n      <td>25</td>\n      <td>163</td>\n      <td>65</td>\n      <td>0</td>\n      <td>0</td>\n      <td>4.0</td>\n      <td>1</td>\n      <td>26</td>\n      <td>1.333333</td>\n    </tr>\n    <tr>\n      <th>5</th>\n      <td>0</td>\n      <td>27</td>\n      <td>168</td>\n      <td>57</td>\n      <td>2</td>\n      <td>0</td>\n      <td>4.0</td>\n      <td>1</td>\n      <td>26</td>\n      <td>1.666667</td>\n    </tr>\n    <tr>\n      <th>6</th>\n      <td>1</td>\n      <td>38</td>\n      <td>187</td>\n      <td>69</td>\n      <td>0</td>\n      <td>0</td>\n      <td>5.0</td>\n      <td>0</td>\n      <td>22</td>\n      <td>1.666667</td>\n    </tr>\n    <tr>\n      <th>7</th>\n      <td>1</td>\n      <td>73</td>\n      <td>167</td>\n      <td>83</td>\n      <td>0</td>\n      <td>0</td>\n      <td>5.0</td>\n      <td>1</td>\n      <td>32</td>\n      <td>2.000000</td>\n    </tr>\n    <tr>\n      <th>8</th>\n      <td>1</td>\n      <td>61</td>\n      <td>176</td>\n      <td>80</td>\n      <td>0</td>\n      <td>0</td>\n      <td>4.0</td>\n      <td>0</td>\n      <td>29</td>\n      <td>1.333333</td>\n    </tr>\n    <tr>\n      <th>9</th>\n      <td>1</td>\n      <td>47</td>\n      <td>184</td>\n      <td>81</td>\n      <td>1</td>\n      <td>1</td>\n      <td>5.0</td>\n      <td>0</td>\n      <td>22</td>\n      <td>1.333333</td>\n    </tr>\n    <tr>\n      <th>10</th>\n      <td>0</td>\n      <td>35</td>\n      <td>176</td>\n      <td>67</td>\n      <td>0</td>\n      <td>0</td>\n      <td>1.0</td>\n      <td>0</td>\n      <td>30</td>\n      <td>1.666667</td>\n    </tr>\n    <tr>\n      <th>11</th>\n      <td>0</td>\n      <td>55</td>\n      <td>170</td>\n      <td>74</td>\n      <td>0</td>\n      <td>0</td>\n      <td>1.0</td>\n      <td>0</td>\n      <td>24</td>\n      <td>2.000000</td>\n    </tr>\n    <tr>\n      <th>12</th>\n      <td>0</td>\n      <td>83</td>\n      <td>157</td>\n      <td>53</td>\n      <td>1</td>\n      <td>0</td>\n      <td>4.0</td>\n      <td>1</td>\n      <td>29</td>\n      <td>0.333333</td>\n    </tr>\n    <tr>\n      <th>13</th>\n      <td>0</td>\n      <td>86</td>\n      <td>164</td>\n      <td>61</td>\n      <td>1</td>\n      <td>0</td>\n      <td>4.0</td>\n      <td>0</td>\n      <td>31</td>\n      <td>0.666667</td>\n    </tr>\n    <tr>\n      <th>14</th>\n      <td>0</td>\n      <td>83</td>\n      <td>169</td>\n      <td>70</td>\n      <td>1</td>\n      <td>0</td>\n      <td>4.0</td>\n      <td>0</td>\n      <td>31</td>\n      <td>0.000000</td>\n    </tr>\n    <tr>\n      <th>15</th>\n      <td>0</td>\n      <td>49</td>\n      <td>160</td>\n      <td>50</td>\n      <td>1</td>\n      <td>0</td>\n      <td>3.0</td>\n      <td>0</td>\n      <td>29</td>\n      <td>1.666667</td>\n    </tr>\n    <tr>\n      <th>16</th>\n      <td>1</td>\n      <td>52</td>\n      <td>186</td>\n      <td>95</td>\n      <td>1</td>\n      <td>0</td>\n      <td>3.0</td>\n      <td>1</td>\n      <td>25</td>\n      <td>2.000000</td>\n    </tr>\n    <tr>\n      <th>17</th>\n      <td>0</td>\n      <td>60</td>\n      <td>178</td>\n      <td>84</td>\n      <td>0</td>\n      <td>0</td>\n      <td>3.0</td>\n      <td>1</td>\n      <td>28</td>\n      <td>1.666667</td>\n    </tr>\n    <tr>\n      <th>18</th>\n      <td>0</td>\n      <td>23</td>\n      <td>168</td>\n      <td>72</td>\n      <td>1</td>\n      <td>0</td>\n      <td>0.0</td>\n      <td>1</td>\n      <td>28</td>\n      <td>1.666667</td>\n    </tr>\n    <tr>\n      <th>19</th>\n      <td>1</td>\n      <td>45</td>\n      <td>175</td>\n      <td>130</td>\n      <td>1</td>\n      <td>0</td>\n      <td>3.0</td>\n      <td>0</td>\n      <td>22</td>\n      <td>2.333333</td>\n    </tr>\n    <tr>\n      <th>20</th>\n      <td>1</td>\n      <td>25</td>\n      <td>198</td>\n      <td>98</td>\n      <td>0</td>\n      <td>0</td>\n      <td>4.0</td>\n      <td>1</td>\n      <td>24</td>\n      <td>2.333333</td>\n    </tr>\n    <tr>\n      <th>21</th>\n      <td>0</td>\n      <td>63</td>\n      <td>172</td>\n      <td>63</td>\n      <td>0</td>\n      <td>0</td>\n      <td>2.0</td>\n      <td>1</td>\n      <td>29</td>\n      <td>2.000000</td>\n    </tr>\n    <tr>\n      <th>22</th>\n      <td>1</td>\n      <td>27</td>\n      <td>183</td>\n      <td>110</td>\n      <td>0</td>\n      <td>0</td>\n      <td>3.0</td>\n      <td>0</td>\n      <td>20</td>\n      <td>1.666667</td>\n    </tr>\n    <tr>\n      <th>23</th>\n      <td>0</td>\n      <td>14</td>\n      <td>153</td>\n      <td>50</td>\n      <td>0</td>\n      <td>0</td>\n      <td>1.0</td>\n      <td>1</td>\n      <td>31</td>\n      <td>2.000000</td>\n    </tr>\n    <tr>\n      <th>24</th>\n      <td>0</td>\n      <td>53</td>\n      <td>173</td>\n      <td>69</td>\n      <td>0</td>\n      <td>0</td>\n      <td>4.0</td>\n      <td>0</td>\n      <td>33</td>\n      <td>0.666667</td>\n    </tr>\n    <tr>\n      <th>25</th>\n      <td>0</td>\n      <td>18</td>\n      <td>158</td>\n      <td>60</td>\n      <td>0</td>\n      <td>0</td>\n      <td>3.0</td>\n      <td>1</td>\n      <td>26</td>\n      <td>1.666667</td>\n    </tr>\n    <tr>\n      <th>26</th>\n      <td>0</td>\n      <td>41</td>\n      <td>177</td>\n      <td>60</td>\n      <td>1</td>\n      <td>0</td>\n      <td>4.0</td>\n      <td>1</td>\n      <td>33</td>\n      <td>1.000000</td>\n    </tr>\n    <tr>\n      <th>27</th>\n      <td>0</td>\n      <td>70</td>\n      <td>150</td>\n      <td>45</td>\n      <td>1</td>\n      <td>0</td>\n      <td>6.0</td>\n      <td>1</td>\n      <td>24</td>\n      <td>1.333333</td>\n    </tr>\n    <tr>\n      <th>28</th>\n      <td>1</td>\n      <td>20</td>\n      <td>186</td>\n      <td>75</td>\n      <td>1</td>\n      <td>0</td>\n      <td>1.0</td>\n      <td>1</td>\n      <td>31</td>\n      <td>2.666667</td>\n    </tr>\n    <tr>\n      <th>29</th>\n      <td>1</td>\n      <td>23</td>\n      <td>168</td>\n      <td>72</td>\n      <td>1</td>\n      <td>0</td>\n      <td>2.0</td>\n      <td>0</td>\n      <td>28</td>\n      <td>1.333333</td>\n    </tr>\n    <tr>\n      <th>30</th>\n      <td>1</td>\n      <td>24</td>\n      <td>190</td>\n      <td>79</td>\n      <td>0</td>\n      <td>0</td>\n      <td>5.0</td>\n      <td>1</td>\n      <td>26</td>\n      <td>2.000000</td>\n    </tr>\n    <tr>\n      <th>31</th>\n      <td>0</td>\n      <td>23</td>\n      <td>168</td>\n      <td>75</td>\n      <td>0</td>\n      <td>0</td>\n      <td>2.0</td>\n      <td>0</td>\n      <td>28</td>\n      <td>1.666667</td>\n    </tr>\n    <tr>\n      <th>32</th>\n      <td>0</td>\n      <td>31</td>\n      <td>168</td>\n      <td>60</td>\n      <td>1</td>\n      <td>0</td>\n      <td>5.0</td>\n      <td>1</td>\n      <td>30</td>\n      <td>2.666667</td>\n    </tr>\n    <tr>\n      <th>33</th>\n      <td>1</td>\n      <td>70</td>\n      <td>173</td>\n      <td>85</td>\n      <td>0</td>\n      <td>0</td>\n      <td>3.0</td>\n      <td>1</td>\n      <td>26</td>\n      <td>2.333333</td>\n    </tr>\n    <tr>\n      <th>34</th>\n      <td>1</td>\n      <td>19</td>\n      <td>170</td>\n      <td>70</td>\n      <td>0</td>\n      <td>0</td>\n      <td>4.0</td>\n      <td>0</td>\n      <td>26</td>\n      <td>1.000000</td>\n    </tr>\n    <tr>\n      <th>35</th>\n      <td>1</td>\n      <td>25</td>\n      <td>162</td>\n      <td>70</td>\n      <td>1</td>\n      <td>0</td>\n      <td>3.0</td>\n      <td>1</td>\n      <td>29</td>\n      <td>2.000000</td>\n    </tr>\n    <tr>\n      <th>36</th>\n      <td>0</td>\n      <td>40</td>\n      <td>156</td>\n      <td>73</td>\n      <td>1</td>\n      <td>1</td>\n      <td>4.0</td>\n      <td>1</td>\n      <td>29</td>\n      <td>1.333333</td>\n    </tr>\n  </tbody>\n</table>\n</div>"
     },
     "execution_count": 745,
     "metadata": {},
     "output_type": "execute_result"
    }
   ],
   "source": [
    "### Load the data\n",
    "data_path = 'data/survey_2022-06-08.csv'\n",
    "df = pd.read_csv(data_path)\n",
    "df"
   ]
  },
  {
   "cell_type": "markdown",
   "source": [
    "# Scale Data"
   ],
   "metadata": {
    "collapsed": false
   }
  },
  {
   "cell_type": "code",
   "execution_count": 746,
   "outputs": [],
   "source": [
    "from sklearn.preprocessing import MinMaxScaler\n",
    "scaler = MinMaxScaler()\n",
    "X = scaler.fit_transform(df)\n",
    "y = X[:,-1]\n",
    "x = X[:,:-1]"
   ],
   "metadata": {
    "collapsed": false,
    "pycharm": {
     "name": "#%%\n"
    }
   }
  },
  {
   "cell_type": "markdown",
   "source": [
    "# Cross Validation Split #TODO"
   ],
   "metadata": {
    "collapsed": false
   }
  },
  {
   "cell_type": "markdown",
   "source": [
    "# Train Test Split"
   ],
   "metadata": {
    "collapsed": false
   }
  },
  {
   "cell_type": "code",
   "execution_count": 747,
   "outputs": [],
   "source": [
    "from sklearn.model_selection import train_test_split\n",
    "dtype = torch.float\n",
    "x_train, x_test, y_train, y_test = train_test_split(x, y, test_size=0.2, random_state=42)\n",
    "x_train = torch.tensor(x_train,dtype=dtype)\n",
    "x_test = torch.tensor(x_test, dtype=dtype)\n",
    "y_test = torch.tensor(y_test, dtype=dtype).reshape(-1,1)\n",
    "y_train = torch.tensor(y_train, dtype=dtype).reshape(-1,1)"
   ],
   "metadata": {
    "collapsed": false,
    "pycharm": {
     "name": "#%%\n"
    }
   }
  },
  {
   "cell_type": "markdown",
   "source": [
    "# Train"
   ],
   "metadata": {
    "collapsed": false
   }
  },
  {
   "cell_type": "code",
   "execution_count": 748,
   "outputs": [
    {
     "name": "stdout",
     "output_type": "stream",
     "text": [
      "Epoch: 0, train loss: 0.33245787024497986, test loss: 0.22924605011940002\n",
      "Epoch: 100, train loss: 0.035528458654880524, test loss: 0.017408976331353188\n",
      "Epoch: 200, train loss: 0.029297564178705215, test loss: 0.015344109386205673\n",
      "Epoch: 300, train loss: 0.025294430553913116, test loss: 0.01379367709159851\n",
      "Epoch: 400, train loss: 0.023043271154165268, test loss: 0.013972116634249687\n",
      "Epoch: 500, train loss: 0.018078619614243507, test loss: 0.01764809526503086\n",
      "Epoch: 600, train loss: 0.013973762281239033, test loss: 0.02779315412044525\n",
      "Epoch: 700, train loss: 0.013324899598956108, test loss: 0.03303185850381851\n",
      "Epoch: 800, train loss: 0.012875688262283802, test loss: 0.03738796338438988\n",
      "Epoch: 900, train loss: 0.012585114687681198, test loss: 0.04009445011615753\n"
     ]
    },
    {
     "data": {
      "text/plain": "<Figure size 432x288 with 1 Axes>",
      "image/png": "[encoded data removed]"
     },
     "metadata": {
      "needs_background": "light"
     },
     "output_type": "display_data"
    }
   ],
   "source": [
    "import time\n",
    "from torch.optim.lr_scheduler import ExponentialLR\n",
    "from methods import *\n",
    "from torch import nn\n",
    "\n",
    "epochs = 1000\n",
    "seed=3\n",
    "torch.manual_seed(seed)\n",
    "method = NN(input_size=x_train.shape[1])\n",
    "criterion = nn.MSELoss()\n",
    "params_to_be_optimized = method.get_parameters()\n",
    "optimizer = optim.Adam(params_to_be_optimized, lr=0.01)\n",
    "scheduler = ExponentialLR(optimizer, gamma=0.999)\n",
    "train_losses = []\n",
    "test_losses = []\n",
    "\n",
    "for epoch in range(epochs):\n",
    "  iteration_time = time.time()\n",
    "  optimizer.zero_grad()\n",
    "\n",
    "  # forward pass\n",
    "  y_train_predicted = method.predict(x_train)\n",
    "  loss = criterion(y_train_predicted, y_train)\n",
    "\n",
    "  # backward pass\n",
    "  loss.backward()\n",
    "  optimizer.step()\n",
    "  scheduler.step()\n",
    "\n",
    "\n",
    "  with torch.no_grad():\n",
    "\n",
    "    y_train_predicted = method.predict(x_train)\n",
    "    train_loss = criterion(y_train_predicted, y_train)\n",
    "    train_losses.append(train_loss)\n",
    "\n",
    "    y_test_predicted = method.predict(x_test)\n",
    "    test_loss = criterion(y_test_predicted, y_test)\n",
    "    test_losses.append(test_loss)\n",
    "\n",
    "    if epoch%100==0:\n",
    "      print(f'Epoch: {epoch}, train loss: {train_loss}, test loss: {test_loss}')\n",
    "\n",
    "\n",
    "plt.plot(train_losses, label='train loss')\n",
    "plt.plot(test_losses, label='test loss')\n",
    "plt.legend()\n",
    "plt.show()"
   ],
   "metadata": {
    "collapsed": false,
    "pycharm": {
     "name": "#%%\n"
    }
   }
  },
  {
   "cell_type": "markdown",
   "source": [
    "# Test results"
   ],
   "metadata": {
    "collapsed": false
   }
  },
  {
   "cell_type": "code",
   "execution_count": 749,
   "outputs": [],
   "source": [
    "# Rescale test result to original values\n",
    "zeros = np.zeros(x_test.shape)\n",
    "test_predicted = np.concatenate((zeros, method.predict(x_test).detach().numpy()),axis=1)\n",
    "test_predicted= scaler.inverse_transform(test_predicted)[:,-1]\n",
    "\n",
    "test_target = np.concatenate((zeros, y_test.detach().numpy()),axis=1)\n",
    "test_target = scaler.inverse_transform(test_target)[:,-1]"
   ],
   "metadata": {
    "collapsed": false,
    "pycharm": {
     "name": "#%%\n"
    }
   }
  },
  {
   "cell_type": "code",
   "execution_count": 750,
   "outputs": [],
   "source": [
    "# Calculate percentage error\n",
    "percentage_error = (test_target - test_predicted)/test_target"
   ],
   "metadata": {
    "collapsed": false,
    "pycharm": {
     "name": "#%%\n"
    }
   }
  },
  {
   "cell_type": "code",
   "execution_count": 751,
   "outputs": [
    {
     "data": {
      "text/plain": "<Figure size 432x288 with 1 Axes>",
      "image/png": "[encoded data removed]"
     },
     "metadata": {
      "needs_background": "light"
     },
     "output_type": "display_data"
    }
   ],
   "source": [
    "# Plot histogram of percentage error\n",
    "plt.hist(percentage_error)\n",
    "plt.show()"
   ],
   "metadata": {
    "collapsed": false,
    "pycharm": {
     "name": "#%%\n"
    }
   }
  }
 ],
 "metadata": {
  "kernelspec": {
   "display_name": "Python 3",
   "language": "python",
   "name": "python3"
  },
  "language_info": {
   "codemirror_mode": {
    "name": "ipython",
    "version": 2
   },
   "file_extension": ".py",
   "mimetype": "text/x-python",
   "name": "python",
   "nbconvert_exporter": "python",
   "pygments_lexer": "ipython2",
   "version": "2.7.6"
  }
 },
 "nbformat": 4,
 "nbformat_minor": 0
}