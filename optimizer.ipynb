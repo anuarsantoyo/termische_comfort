{
 "cells": [
  {
   "cell_type": "markdown",
   "source": [
    "# Optimizer\n",
    "Gets data and uses it to optimize a method (imported from method.py) using a loss function and tests it against unseen data\n",
    "TODO:\n",
    "- How am I calculation loss (sometimes test loss lower than train)\n",
    "- SVM\n"
   ],
   "metadata": {
    "collapsed": false
   }
  },
  {
   "cell_type": "code",
   "execution_count": 106,
   "outputs": [],
   "source": [
    "import pandas as pd\n",
    "import matplotlib.pyplot as plt\n",
    "import sns as sns\n",
    "import torch\n",
    "import torch.optim as optim\n",
    "import seaborn as sns"
   ],
   "metadata": {
    "collapsed": false,
    "pycharm": {
     "name": "#%%\n"
    }
   }
  },
  {
   "cell_type": "markdown",
   "source": [
    "# Import data"
   ],
   "metadata": {
    "collapsed": false
   }
  },
  {
   "cell_type": "code",
   "execution_count": 107,
   "metadata": {
    "collapsed": true
   },
   "outputs": [],
   "source": [
    "### Load the data\n",
    "seed = 42 # 12: test better as train\n",
    "data_path = 'data/output/data_complete_2022-06-14.csv'\n",
    "df = pd.read_csv(data_path)"
   ]
  },
  {
   "cell_type": "markdown",
   "source": [
    "# Scale Data"
   ],
   "metadata": {
    "collapsed": false
   }
  },
  {
   "cell_type": "code",
   "execution_count": 108,
   "outputs": [
    {
     "data": {
      "text/plain": "     Outside Temperature  Avg. Temperature      RH     va      Tg  Gender  \\\n0                  15.69            18.560  73.440  0.040  17.870       0   \n1                  15.59            19.185  74.410  0.155  18.125       1   \n2                  15.69            19.580  73.255  0.020  18.905       0   \n3                  15.69            19.105  73.275  0.240  18.155       0   \n4                  15.69            19.050  77.180  0.240  18.620       0   \n..                   ...               ...     ...    ...     ...     ...   \n273                 8.10            18.265  58.815  0.070  19.625       1   \n274                 7.90            18.265  58.885  0.070  19.625       0   \n275                 7.90            17.325  58.420  0.080  19.155       1   \n276                 7.70            17.020  69.170  0.070  16.690       1   \n277                 6.90            15.060  64.160  0.050  16.690       0   \n\n     Age  Height  Weight  Duration      Icl  Thermal feeling (global)  \n0     23     169      74       7.5  1.06280                        -2  \n1     18     186     105      22.5  0.82065                         0  \n2     33     160      45       7.5  0.72045                         0  \n3     26     167      59       7.5  0.65365                        -1  \n4     47     172      70       7.5  0.74550                         2  \n..   ...     ...     ...       ...      ...                       ...  \n273   34     186      78      12.5  1.07115                         0  \n274   26     172      64      12.5  1.24650                         1  \n275   26     180      85      10.0  1.27155                         0  \n276   27     185      95       2.5  1.09620                        -1  \n277   30     165      53       7.5  1.84770                         1  \n\n[278 rows x 12 columns]",
      "text/html": "<div>\n<style scoped>\n    .dataframe tbody tr th:only-of-type {\n        vertical-align: middle;\n    }\n\n    .dataframe tbody tr th {\n        vertical-align: top;\n    }\n\n    .dataframe thead th {\n        text-align: right;\n    }\n</style>\n<table border=\"1\" class=\"dataframe\">\n  <thead>\n    <tr style=\"text-align: right;\">\n      <th></th>\n      <th>Outside Temperature</th>\n      <th>Avg. Temperature</th>\n      <th>RH</th>\n      <th>va</th>\n      <th>Tg</th>\n      <th>Gender</th>\n      <th>Age</th>\n      <th>Height</th>\n      <th>Weight</th>\n      <th>Duration</th>\n      <th>Icl</th>\n      <th>Thermal feeling (global)</th>\n    </tr>\n  </thead>\n  <tbody>\n    <tr>\n      <th>0</th>\n      <td>15.69</td>\n      <td>18.560</td>\n      <td>73.440</td>\n      <td>0.040</td>\n      <td>17.870</td>\n      <td>0</td>\n      <td>23</td>\n      <td>169</td>\n      <td>74</td>\n      <td>7.5</td>\n      <td>1.06280</td>\n      <td>-2</td>\n    </tr>\n    <tr>\n      <th>1</th>\n      <td>15.59</td>\n      <td>19.185</td>\n      <td>74.410</td>\n      <td>0.155</td>\n      <td>18.125</td>\n      <td>1</td>\n      <td>18</td>\n      <td>186</td>\n      <td>105</td>\n      <td>22.5</td>\n      <td>0.82065</td>\n      <td>0</td>\n    </tr>\n    <tr>\n      <th>2</th>\n      <td>15.69</td>\n      <td>19.580</td>\n      <td>73.255</td>\n      <td>0.020</td>\n      <td>18.905</td>\n      <td>0</td>\n      <td>33</td>\n      <td>160</td>\n      <td>45</td>\n      <td>7.5</td>\n      <td>0.72045</td>\n      <td>0</td>\n    </tr>\n    <tr>\n      <th>3</th>\n      <td>15.69</td>\n      <td>19.105</td>\n      <td>73.275</td>\n      <td>0.240</td>\n      <td>18.155</td>\n      <td>0</td>\n      <td>26</td>\n      <td>167</td>\n      <td>59</td>\n      <td>7.5</td>\n      <td>0.65365</td>\n      <td>-1</td>\n    </tr>\n    <tr>\n      <th>4</th>\n      <td>15.69</td>\n      <td>19.050</td>\n      <td>77.180</td>\n      <td>0.240</td>\n      <td>18.620</td>\n      <td>0</td>\n      <td>47</td>\n      <td>172</td>\n      <td>70</td>\n      <td>7.5</td>\n      <td>0.74550</td>\n      <td>2</td>\n    </tr>\n    <tr>\n      <th>...</th>\n      <td>...</td>\n      <td>...</td>\n      <td>...</td>\n      <td>...</td>\n      <td>...</td>\n      <td>...</td>\n      <td>...</td>\n      <td>...</td>\n      <td>...</td>\n      <td>...</td>\n      <td>...</td>\n      <td>...</td>\n    </tr>\n    <tr>\n      <th>273</th>\n      <td>8.10</td>\n      <td>18.265</td>\n      <td>58.815</td>\n      <td>0.070</td>\n      <td>19.625</td>\n      <td>1</td>\n      <td>34</td>\n      <td>186</td>\n      <td>78</td>\n      <td>12.5</td>\n      <td>1.07115</td>\n      <td>0</td>\n    </tr>\n    <tr>\n      <th>274</th>\n      <td>7.90</td>\n      <td>18.265</td>\n      <td>58.885</td>\n      <td>0.070</td>\n      <td>19.625</td>\n      <td>0</td>\n      <td>26</td>\n      <td>172</td>\n      <td>64</td>\n      <td>12.5</td>\n      <td>1.24650</td>\n      <td>1</td>\n    </tr>\n    <tr>\n      <th>275</th>\n      <td>7.90</td>\n      <td>17.325</td>\n      <td>58.420</td>\n      <td>0.080</td>\n      <td>19.155</td>\n      <td>1</td>\n      <td>26</td>\n      <td>180</td>\n      <td>85</td>\n      <td>10.0</td>\n      <td>1.27155</td>\n      <td>0</td>\n    </tr>\n    <tr>\n      <th>276</th>\n      <td>7.70</td>\n      <td>17.020</td>\n      <td>69.170</td>\n      <td>0.070</td>\n      <td>16.690</td>\n      <td>1</td>\n      <td>27</td>\n      <td>185</td>\n      <td>95</td>\n      <td>2.5</td>\n      <td>1.09620</td>\n      <td>-1</td>\n    </tr>\n    <tr>\n      <th>277</th>\n      <td>6.90</td>\n      <td>15.060</td>\n      <td>64.160</td>\n      <td>0.050</td>\n      <td>16.690</td>\n      <td>0</td>\n      <td>30</td>\n      <td>165</td>\n      <td>53</td>\n      <td>7.5</td>\n      <td>1.84770</td>\n      <td>1</td>\n    </tr>\n  </tbody>\n</table>\n<p>278 rows × 12 columns</p>\n</div>"
     },
     "execution_count": 108,
     "metadata": {},
     "output_type": "execute_result"
    }
   ],
   "source": [
    "df.drop(columns='dataset')"
   ],
   "metadata": {
    "collapsed": false,
    "pycharm": {
     "name": "#%%\n"
    }
   }
  },
  {
   "cell_type": "code",
   "execution_count": 109,
   "outputs": [],
   "source": [
    "from sklearn.preprocessing import StandardScaler, MinMaxScaler\n",
    "scaler = StandardScaler()\n",
    "M = scaler.fit_transform(df.drop(columns='dataset'))\n",
    "M = df.drop(columns='dataset').to_numpy()\n",
    "y = M[:,-1]\n",
    "#y = df['Thermal comfort (global)']\n",
    "X = M[:,:-1]"
   ],
   "metadata": {
    "collapsed": false,
    "pycharm": {
     "name": "#%%\n"
    }
   }
  },
  {
   "cell_type": "markdown",
   "source": [
    "# Train"
   ],
   "metadata": {
    "collapsed": false
   }
  },
  {
   "cell_type": "code",
   "execution_count": 110,
   "outputs": [],
   "source": [
    "import time\n",
    "from torch.optim.lr_scheduler import ExponentialLR\n",
    "from methods import *\n",
    "from torch import nn\n",
    "\n",
    "import numpy as np\n",
    "from sklearn.model_selection import KFold\n",
    "\n",
    "k = 10\n",
    "kf = KFold(n_splits=k, shuffle=True, random_state=seed)\n",
    "\n",
    "test_values = []\n",
    "predicted_values = []\n",
    "datasets = []\n",
    "# Test split using K-Folds cross-validator\n",
    "for idx, (train_index, test_index) in enumerate(kf.split(X)):\n",
    "    # Slicing data according to kf split\n",
    "    dtype = torch.float\n",
    "    x_train, x_test = X[train_index], X[test_index]\n",
    "    y_train, y_test = y[train_index], y[test_index]\n",
    "\n",
    "\n",
    "    # Hyper-parameters for one train test session\n",
    "    torch.manual_seed(seed)\n",
    "    method = SVM(input_size=x_train.shape[1])\n",
    "\n",
    "    if method.optimizes:\n",
    "        x_train = torch.tensor(x_train,dtype=dtype)\n",
    "        x_test = torch.tensor(x_test, dtype=dtype)\n",
    "        y_test = torch.tensor(y_test, dtype=dtype).reshape(-1,1)\n",
    "        y_train = torch.tensor(y_train, dtype=dtype).reshape(-1,1)\n",
    "\n",
    "        criterion = nn.MSELoss()\n",
    "        params_to_be_optimized = method.get_parameters()\n",
    "        optimizer = optim.Adam(params_to_be_optimized, lr=0.01)\n",
    "        #scheduler = ExponentialLR(optimizer, gamma=0.999)\n",
    "        train_losses = []  # for plot\n",
    "        test_losses = []  # for plot\n",
    "\n",
    "        epochs = 100\n",
    "        for epoch in range(epochs):\n",
    "          iteration_time = time.time()\n",
    "          optimizer.zero_grad()\n",
    "\n",
    "          # forward pass\n",
    "          y_train_predicted = method.predict(x_train)\n",
    "          loss = criterion(y_train_predicted, y_train)\n",
    "\n",
    "          # backward pass\n",
    "          loss.backward()\n",
    "          optimizer.step()\n",
    "          #scheduler.step()\n",
    "\n",
    "          with torch.no_grad():\n",
    "            y_train_predicted = method.predict(x_train)\n",
    "            train_loss = criterion(y_train_predicted, y_train)\n",
    "            train_losses.append(train_loss)\n",
    "\n",
    "            y_test_predicted = method.predict(x_test)\n",
    "            test_loss = criterion(y_test_predicted, y_test)\n",
    "            test_losses.append(test_loss)\n",
    "\n",
    "        plt.plot(train_losses, label='train loss')\n",
    "        plt.plot(test_losses, label='test loss')\n",
    "        plt.legend()\n",
    "        plt.title(f'K = {idx}')\n",
    "        plt.show()\n",
    "\n",
    "            # Lists for Error Analysis df\n",
    "        test_values += y_test.detach().numpy().reshape(-1).tolist()\n",
    "        predicted_values += method.predict(x_test).detach().numpy().reshape(-1).tolist()\n",
    "        datasets += df['dataset'][test_index].tolist()\n",
    "\n",
    "    else:\n",
    "        method.fit(x_train,y_train)\n",
    "        test_values += y_test.tolist()\n",
    "        predicted_values += method.predict(x_test).tolist()\n",
    "        datasets += df['dataset'][test_index].tolist()"
   ],
   "metadata": {
    "collapsed": false,
    "pycharm": {
     "name": "#%%\n"
    }
   }
  },
  {
   "cell_type": "markdown",
   "source": [
    "# Test Analysis"
   ],
   "metadata": {
    "collapsed": false
   }
  },
  {
   "cell_type": "code",
   "execution_count": 111,
   "outputs": [],
   "source": [
    "analysis_df = pd.DataFrame({'dataset':datasets, 'y': test_values, 'pred': predicted_values})\n",
    "analysis_df['error'] = analysis_df['y']-analysis_df['pred']\n",
    "analysis_df['error_abs'] = np.abs(analysis_df['error'])\n",
    "analysis_df['error_%'] = analysis_df['error_abs'] /analysis_df['y']"
   ],
   "metadata": {
    "collapsed": false,
    "pycharm": {
     "name": "#%%\n"
    }
   }
  },
  {
   "cell_type": "code",
   "execution_count": 112,
   "outputs": [
    {
     "data": {
      "text/plain": "<Figure size 405.75x360 with 1 Axes>",
      "image/png": "[encoded data removed]"
     },
     "metadata": {
      "needs_background": "light"
     },
     "output_type": "display_data"
    }
   ],
   "source": [
    "sns.displot(data=analysis_df, x=\"error\", hue=\"dataset\", multiple=\"stack\")\n",
    "plt.show()"
   ],
   "metadata": {
    "collapsed": false,
    "pycharm": {
     "name": "#%%\n"
    }
   }
  },
  {
   "cell_type": "code",
   "execution_count": 113,
   "outputs": [
    {
     "data": {
      "text/plain": "<Figure size 432x288 with 1 Axes>",
      "image/png": "[encoded data removed]"
     },
     "metadata": {
      "needs_background": "light"
     },
     "output_type": "display_data"
    }
   ],
   "source": [
    "sns.scatterplot(data=analysis_df, x=\"y\", y=\"error\", hue=\"dataset\")\n",
    "plt.show()"
   ],
   "metadata": {
    "collapsed": false,
    "pycharm": {
     "name": "#%%\n"
    }
   }
  },
  {
   "cell_type": "code",
   "execution_count": 114,
   "outputs": [
    {
     "data": {
      "text/plain": "<Figure size 405.75x360 with 1 Axes>",
      "image/png": "[encoded data removed]"
     },
     "metadata": {
      "needs_background": "light"
     },
     "output_type": "display_data"
    }
   ],
   "source": [
    "sns.displot(data=analysis_df, x=\"y\", hue=\"dataset\", multiple=\"stack\")\n",
    "plt.show()"
   ],
   "metadata": {
    "collapsed": false,
    "pycharm": {
     "name": "#%%\n"
    }
   }
  }
 ],
 "metadata": {
  "kernelspec": {
   "display_name": "Python 3",
   "language": "python",
   "name": "python3"
  },
  "language_info": {
   "codemirror_mode": {
    "name": "ipython",
    "version": 2
   },
   "file_extension": ".py",
   "mimetype": "text/x-python",
   "name": "python",
   "nbconvert_exporter": "python",
   "pygments_lexer": "ipython2",
   "version": "2.7.6"
  }
 },
 "nbformat": 4,
 "nbformat_minor": 0
}