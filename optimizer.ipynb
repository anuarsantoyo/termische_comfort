{
 "cells": [
  {
   "cell_type": "markdown",
   "source": [
    "# Optimizer\n",
    "Gets data and uses it to optimize a method (imported from method.py) using a loss function and tests it against unseen data\n"
   ],
   "metadata": {
    "collapsed": false,
    "pycharm": {
     "name": "#%% md\n"
    }
   }
  },
  {
   "cell_type": "code",
   "execution_count": 18,
   "outputs": [],
   "source": [
    "import pandas as pd\n",
    "import matplotlib.pyplot as plt\n",
    "import sns as sns\n",
    "import torch\n",
    "import torch.optim as optim\n",
    "import seaborn as sns\n",
    "from sklearn.metrics import confusion_matrix\n",
    "import numpy as np\n",
    "from sklearn.preprocessing import StandardScaler, MinMaxScaler\n"
   ],
   "metadata": {
    "collapsed": false,
    "pycharm": {
     "name": "#%%\n"
    }
   }
  },
  {
   "cell_type": "markdown",
   "source": [
    "# Import data"
   ],
   "metadata": {
    "collapsed": false,
    "pycharm": {
     "name": "#%% md\n"
    }
   }
  },
  {
   "cell_type": "code",
   "execution_count": 3,
   "outputs": [],
   "source": [
    "### Load the data\n",
    "seed = 1\n",
    "data_path = 'data/output/data_complete_grouped_2022-06-30.csv'\n",
    "df = pd.read_csv(data_path)\n",
    "df = df[((df['dataset'] == 'August') | (df['dataset'] == 'June'))&(df['Thermal feeling (global)'] != -1)].reset_index(drop=True)\n"
   ],
   "metadata": {
    "collapsed": false,
    "pycharm": {
     "name": "#%%\n"
    }
   }
  },
  {
   "cell_type": "markdown",
   "source": [
    "# Import alternative data"
   ],
   "metadata": {
    "collapsed": false,
    "pycharm": {
     "name": "#%% md\n"
    }
   }
  },
  {
   "cell_type": "code",
   "execution_count": null,
   "outputs": [],
   "source": [],
   "metadata": {
    "collapsed": false,
    "pycharm": {
     "name": "#%%\n"
    }
   }
  },
  {
   "cell_type": "markdown",
   "source": [
    "# Scale Data"
   ],
   "metadata": {
    "collapsed": false,
    "pycharm": {
     "name": "#%% md\n"
    }
   }
  },
  {
   "cell_type": "code",
   "execution_count": 4,
   "outputs": [],
   "source": [
    "df.replace({'?': np.nan}, inplace=True)\n",
    "df.dropna(inplace=True)\n",
    "M=df.to_numpy()\n",
    "X=M[:,1:-1]\n",
    "y = M[:,-1]"
   ],
   "metadata": {
    "collapsed": false,
    "pycharm": {
     "name": "#%%\n"
    }
   }
  },
  {
   "cell_type": "code",
   "execution_count": 5,
   "outputs": [],
   "source": [
    "scaler = StandardScaler()\n",
    "X = scaler.fit_transform(X)\n",
    "y = y/2 - 1"
   ],
   "metadata": {
    "collapsed": false,
    "pycharm": {
     "name": "#%%\n"
    }
   }
  },
  {
   "cell_type": "code",
   "execution_count": 6,
   "outputs": [],
   "source": [
    "X=X.astype(float)\n",
    "y = y.astype(float)"
   ],
   "metadata": {
    "collapsed": false,
    "pycharm": {
     "name": "#%%\n"
    }
   }
  },
  {
   "cell_type": "code",
   "execution_count": 28,
   "outputs": [
    {
     "ename": "KeyError",
     "evalue": "\"['dataset'] not found in axis\"",
     "output_type": "error",
     "traceback": [
      "\u001B[0;31m---------------------------------------------------------------------------\u001B[0m",
      "\u001B[0;31mKeyError\u001B[0m                                  Traceback (most recent call last)",
      "Input \u001B[0;32mIn [28]\u001B[0m, in \u001B[0;36m<cell line: 2>\u001B[0;34m()\u001B[0m\n\u001B[1;32m      1\u001B[0m scaler \u001B[38;5;241m=\u001B[39m StandardScaler()\n\u001B[0;32m----> 2\u001B[0m M \u001B[38;5;241m=\u001B[39m scaler\u001B[38;5;241m.\u001B[39mfit_transform(\u001B[43mdf\u001B[49m\u001B[38;5;241;43m.\u001B[39;49m\u001B[43mdrop\u001B[49m\u001B[43m(\u001B[49m\u001B[43mcolumns\u001B[49m\u001B[38;5;241;43m=\u001B[39;49m\u001B[43m[\u001B[49m\u001B[38;5;124;43m'\u001B[39;49m\u001B[38;5;124;43mdataset\u001B[39;49m\u001B[38;5;124;43m'\u001B[39;49m\u001B[43m]\u001B[49m\u001B[43m)\u001B[49m)\n\u001B[1;32m      3\u001B[0m \u001B[38;5;66;03m#M = df.drop(columns=['dataset']).to_numpy()\u001B[39;00m\n\u001B[1;32m      4\u001B[0m \u001B[38;5;66;03m#y = M[:,-1]\u001B[39;00m\n\u001B[1;32m      5\u001B[0m y \u001B[38;5;241m=\u001B[39m df[\u001B[38;5;124m'\u001B[39m\u001B[38;5;124mThermal feeling (global)\u001B[39m\u001B[38;5;124m'\u001B[39m]\u001B[38;5;241m.\u001B[39mto_numpy()\n",
      "File \u001B[0;32m~/PycharmProjects/thermal_comfort/venv/lib/python3.10/site-packages/pandas/util/_decorators.py:311\u001B[0m, in \u001B[0;36mdeprecate_nonkeyword_arguments.<locals>.decorate.<locals>.wrapper\u001B[0;34m(*args, **kwargs)\u001B[0m\n\u001B[1;32m    305\u001B[0m \u001B[38;5;28;01mif\u001B[39;00m \u001B[38;5;28mlen\u001B[39m(args) \u001B[38;5;241m>\u001B[39m num_allow_args:\n\u001B[1;32m    306\u001B[0m     warnings\u001B[38;5;241m.\u001B[39mwarn(\n\u001B[1;32m    307\u001B[0m         msg\u001B[38;5;241m.\u001B[39mformat(arguments\u001B[38;5;241m=\u001B[39marguments),\n\u001B[1;32m    308\u001B[0m         \u001B[38;5;167;01mFutureWarning\u001B[39;00m,\n\u001B[1;32m    309\u001B[0m         stacklevel\u001B[38;5;241m=\u001B[39mstacklevel,\n\u001B[1;32m    310\u001B[0m     )\n\u001B[0;32m--> 311\u001B[0m \u001B[38;5;28;01mreturn\u001B[39;00m \u001B[43mfunc\u001B[49m\u001B[43m(\u001B[49m\u001B[38;5;241;43m*\u001B[39;49m\u001B[43margs\u001B[49m\u001B[43m,\u001B[49m\u001B[43m \u001B[49m\u001B[38;5;241;43m*\u001B[39;49m\u001B[38;5;241;43m*\u001B[39;49m\u001B[43mkwargs\u001B[49m\u001B[43m)\u001B[49m\n",
      "File \u001B[0;32m~/PycharmProjects/thermal_comfort/venv/lib/python3.10/site-packages/pandas/core/frame.py:4954\u001B[0m, in \u001B[0;36mDataFrame.drop\u001B[0;34m(self, labels, axis, index, columns, level, inplace, errors)\u001B[0m\n\u001B[1;32m   4806\u001B[0m \u001B[38;5;129m@deprecate_nonkeyword_arguments\u001B[39m(version\u001B[38;5;241m=\u001B[39m\u001B[38;5;28;01mNone\u001B[39;00m, allowed_args\u001B[38;5;241m=\u001B[39m[\u001B[38;5;124m\"\u001B[39m\u001B[38;5;124mself\u001B[39m\u001B[38;5;124m\"\u001B[39m, \u001B[38;5;124m\"\u001B[39m\u001B[38;5;124mlabels\u001B[39m\u001B[38;5;124m\"\u001B[39m])\n\u001B[1;32m   4807\u001B[0m \u001B[38;5;28;01mdef\u001B[39;00m \u001B[38;5;21mdrop\u001B[39m(\n\u001B[1;32m   4808\u001B[0m     \u001B[38;5;28mself\u001B[39m,\n\u001B[0;32m   (...)\u001B[0m\n\u001B[1;32m   4815\u001B[0m     errors: \u001B[38;5;28mstr\u001B[39m \u001B[38;5;241m=\u001B[39m \u001B[38;5;124m\"\u001B[39m\u001B[38;5;124mraise\u001B[39m\u001B[38;5;124m\"\u001B[39m,\n\u001B[1;32m   4816\u001B[0m ):\n\u001B[1;32m   4817\u001B[0m     \u001B[38;5;124;03m\"\"\"\u001B[39;00m\n\u001B[1;32m   4818\u001B[0m \u001B[38;5;124;03m    Drop specified labels from rows or columns.\u001B[39;00m\n\u001B[1;32m   4819\u001B[0m \n\u001B[0;32m   (...)\u001B[0m\n\u001B[1;32m   4952\u001B[0m \u001B[38;5;124;03m            weight  1.0     0.8\u001B[39;00m\n\u001B[1;32m   4953\u001B[0m \u001B[38;5;124;03m    \"\"\"\u001B[39;00m\n\u001B[0;32m-> 4954\u001B[0m     \u001B[38;5;28;01mreturn\u001B[39;00m \u001B[38;5;28;43msuper\u001B[39;49m\u001B[43m(\u001B[49m\u001B[43m)\u001B[49m\u001B[38;5;241;43m.\u001B[39;49m\u001B[43mdrop\u001B[49m\u001B[43m(\u001B[49m\n\u001B[1;32m   4955\u001B[0m \u001B[43m        \u001B[49m\u001B[43mlabels\u001B[49m\u001B[38;5;241;43m=\u001B[39;49m\u001B[43mlabels\u001B[49m\u001B[43m,\u001B[49m\n\u001B[1;32m   4956\u001B[0m \u001B[43m        \u001B[49m\u001B[43maxis\u001B[49m\u001B[38;5;241;43m=\u001B[39;49m\u001B[43maxis\u001B[49m\u001B[43m,\u001B[49m\n\u001B[1;32m   4957\u001B[0m \u001B[43m        \u001B[49m\u001B[43mindex\u001B[49m\u001B[38;5;241;43m=\u001B[39;49m\u001B[43mindex\u001B[49m\u001B[43m,\u001B[49m\n\u001B[1;32m   4958\u001B[0m \u001B[43m        \u001B[49m\u001B[43mcolumns\u001B[49m\u001B[38;5;241;43m=\u001B[39;49m\u001B[43mcolumns\u001B[49m\u001B[43m,\u001B[49m\n\u001B[1;32m   4959\u001B[0m \u001B[43m        \u001B[49m\u001B[43mlevel\u001B[49m\u001B[38;5;241;43m=\u001B[39;49m\u001B[43mlevel\u001B[49m\u001B[43m,\u001B[49m\n\u001B[1;32m   4960\u001B[0m \u001B[43m        \u001B[49m\u001B[43minplace\u001B[49m\u001B[38;5;241;43m=\u001B[39;49m\u001B[43minplace\u001B[49m\u001B[43m,\u001B[49m\n\u001B[1;32m   4961\u001B[0m \u001B[43m        \u001B[49m\u001B[43merrors\u001B[49m\u001B[38;5;241;43m=\u001B[39;49m\u001B[43merrors\u001B[49m\u001B[43m,\u001B[49m\n\u001B[1;32m   4962\u001B[0m \u001B[43m    \u001B[49m\u001B[43m)\u001B[49m\n",
      "File \u001B[0;32m~/PycharmProjects/thermal_comfort/venv/lib/python3.10/site-packages/pandas/core/generic.py:4267\u001B[0m, in \u001B[0;36mNDFrame.drop\u001B[0;34m(self, labels, axis, index, columns, level, inplace, errors)\u001B[0m\n\u001B[1;32m   4265\u001B[0m \u001B[38;5;28;01mfor\u001B[39;00m axis, labels \u001B[38;5;129;01min\u001B[39;00m axes\u001B[38;5;241m.\u001B[39mitems():\n\u001B[1;32m   4266\u001B[0m     \u001B[38;5;28;01mif\u001B[39;00m labels \u001B[38;5;129;01mis\u001B[39;00m \u001B[38;5;129;01mnot\u001B[39;00m \u001B[38;5;28;01mNone\u001B[39;00m:\n\u001B[0;32m-> 4267\u001B[0m         obj \u001B[38;5;241m=\u001B[39m \u001B[43mobj\u001B[49m\u001B[38;5;241;43m.\u001B[39;49m\u001B[43m_drop_axis\u001B[49m\u001B[43m(\u001B[49m\u001B[43mlabels\u001B[49m\u001B[43m,\u001B[49m\u001B[43m \u001B[49m\u001B[43maxis\u001B[49m\u001B[43m,\u001B[49m\u001B[43m \u001B[49m\u001B[43mlevel\u001B[49m\u001B[38;5;241;43m=\u001B[39;49m\u001B[43mlevel\u001B[49m\u001B[43m,\u001B[49m\u001B[43m \u001B[49m\u001B[43merrors\u001B[49m\u001B[38;5;241;43m=\u001B[39;49m\u001B[43merrors\u001B[49m\u001B[43m)\u001B[49m\n\u001B[1;32m   4269\u001B[0m \u001B[38;5;28;01mif\u001B[39;00m inplace:\n\u001B[1;32m   4270\u001B[0m     \u001B[38;5;28mself\u001B[39m\u001B[38;5;241m.\u001B[39m_update_inplace(obj)\n",
      "File \u001B[0;32m~/PycharmProjects/thermal_comfort/venv/lib/python3.10/site-packages/pandas/core/generic.py:4311\u001B[0m, in \u001B[0;36mNDFrame._drop_axis\u001B[0;34m(self, labels, axis, level, errors, consolidate, only_slice)\u001B[0m\n\u001B[1;32m   4309\u001B[0m         new_axis \u001B[38;5;241m=\u001B[39m axis\u001B[38;5;241m.\u001B[39mdrop(labels, level\u001B[38;5;241m=\u001B[39mlevel, errors\u001B[38;5;241m=\u001B[39merrors)\n\u001B[1;32m   4310\u001B[0m     \u001B[38;5;28;01melse\u001B[39;00m:\n\u001B[0;32m-> 4311\u001B[0m         new_axis \u001B[38;5;241m=\u001B[39m \u001B[43maxis\u001B[49m\u001B[38;5;241;43m.\u001B[39;49m\u001B[43mdrop\u001B[49m\u001B[43m(\u001B[49m\u001B[43mlabels\u001B[49m\u001B[43m,\u001B[49m\u001B[43m \u001B[49m\u001B[43merrors\u001B[49m\u001B[38;5;241;43m=\u001B[39;49m\u001B[43merrors\u001B[49m\u001B[43m)\u001B[49m\n\u001B[1;32m   4312\u001B[0m     indexer \u001B[38;5;241m=\u001B[39m axis\u001B[38;5;241m.\u001B[39mget_indexer(new_axis)\n\u001B[1;32m   4314\u001B[0m \u001B[38;5;66;03m# Case for non-unique axis\u001B[39;00m\n\u001B[1;32m   4315\u001B[0m \u001B[38;5;28;01melse\u001B[39;00m:\n",
      "File \u001B[0;32m~/PycharmProjects/thermal_comfort/venv/lib/python3.10/site-packages/pandas/core/indexes/base.py:6644\u001B[0m, in \u001B[0;36mIndex.drop\u001B[0;34m(self, labels, errors)\u001B[0m\n\u001B[1;32m   6642\u001B[0m \u001B[38;5;28;01mif\u001B[39;00m mask\u001B[38;5;241m.\u001B[39many():\n\u001B[1;32m   6643\u001B[0m     \u001B[38;5;28;01mif\u001B[39;00m errors \u001B[38;5;241m!=\u001B[39m \u001B[38;5;124m\"\u001B[39m\u001B[38;5;124mignore\u001B[39m\u001B[38;5;124m\"\u001B[39m:\n\u001B[0;32m-> 6644\u001B[0m         \u001B[38;5;28;01mraise\u001B[39;00m \u001B[38;5;167;01mKeyError\u001B[39;00m(\u001B[38;5;124mf\u001B[39m\u001B[38;5;124m\"\u001B[39m\u001B[38;5;132;01m{\u001B[39;00m\u001B[38;5;28mlist\u001B[39m(labels[mask])\u001B[38;5;132;01m}\u001B[39;00m\u001B[38;5;124m not found in axis\u001B[39m\u001B[38;5;124m\"\u001B[39m)\n\u001B[1;32m   6645\u001B[0m     indexer \u001B[38;5;241m=\u001B[39m indexer[\u001B[38;5;241m~\u001B[39mmask]\n\u001B[1;32m   6646\u001B[0m \u001B[38;5;28;01mreturn\u001B[39;00m \u001B[38;5;28mself\u001B[39m\u001B[38;5;241m.\u001B[39mdelete(indexer)\n",
      "\u001B[0;31mKeyError\u001B[0m: \"['dataset'] not found in axis\""
     ]
    }
   ],
   "source": [
    "scaler = StandardScaler()\n",
    "M = scaler.fit_transform(df.drop(columns=['dataset']))\n",
    "#M = df.drop(columns=['dataset']).to_numpy()\n",
    "#y = M[:,-1]\n",
    "y = df['Thermal feeling (global)'].to_numpy()\n",
    "X = M[:,:-1]\n",
    "#X = M[:,[1,5,6,7,8,10]]\n",
    "#X = M\n",
    "from sklearn.decomposition import PCA\n",
    "pca = PCA(n_components=5)\n",
    "X = pca.fit_transform(X)"
   ],
   "metadata": {
    "collapsed": false,
    "pycharm": {
     "name": "#%%\n"
    }
   }
  },
  {
   "cell_type": "code",
   "execution_count": 7,
   "outputs": [
    {
     "name": "stdout",
     "output_type": "stream",
     "text": [
      "[0.08964953 0.06683747 0.04659974 0.02357233 0.02239261 0.16519478\n",
      " 0.04714952 0.05648756 0.0016969 ]\n"
     ]
    },
    {
     "data": {
      "text/plain": "<Figure size 432x288 with 1 Axes>",
      "image/png": "[encoded data removed]"
     },
     "metadata": {
      "needs_background": "light"
     },
     "output_type": "display_data"
    }
   ],
   "source": [
    "# Quick analysis of linear relationship of data\n",
    "from sklearn.linear_model import LinearRegression\n",
    "regressor = LinearRegression()\n",
    "regressor.fit(X, y)\n",
    "\n",
    "# display coefficients\n",
    "print(regressor.coef_)\n",
    "plt.scatter(np.arange(len(regressor.coef_)+1),regressor.coef_.tolist()+[regressor.intercept_])\n",
    "plt.show()"
   ],
   "metadata": {
    "collapsed": false,
    "pycharm": {
     "name": "#%%\n"
    }
   }
  },
  {
   "cell_type": "markdown",
   "source": [
    "# Train"
   ],
   "metadata": {
    "collapsed": false,
    "pycharm": {
     "name": "#%% md\n"
    }
   }
  },
  {
   "cell_type": "code",
   "execution_count": 8,
   "outputs": [
    {
     "data": {
      "text/plain": "tensor([0.7698, 1.4268])"
     },
     "execution_count": 8,
     "metadata": {},
     "output_type": "execute_result"
    }
   ],
   "source": [
    "from sklearn.utils import class_weight\n",
    "\n",
    "class_weights=class_weight.compute_class_weight(class_weight='balanced',classes=np.unique(y),y=y)\n",
    "class_weights=torch.tensor(class_weights,dtype=torch.float)\n",
    "class_weights"
   ],
   "metadata": {
    "collapsed": false,
    "pycharm": {
     "name": "#%%\n"
    }
   }
  },
  {
   "cell_type": "code",
   "execution_count": 9,
   "outputs": [],
   "source": [
    "# random index splitter\n",
    "def test_train_indices(X, test_size, seed=42):\n",
    "    size = X.shape[0]\n",
    "    split = int(size*(1-test_size))\n",
    "    np.random.seed(seed)\n",
    "    indices = np.arange(size)\n",
    "    np.random.shuffle(indices)\n",
    "    return indices[:split], indices[split:]"
   ],
   "metadata": {
    "collapsed": false,
    "pycharm": {
     "name": "#%%\n"
    }
   }
  },
  {
   "cell_type": "code",
   "execution_count": 10,
   "outputs": [],
   "source": [
    "def label_from_predictor(x):\n",
    "    if x>1.33:\n",
    "        return 2\n",
    "    elif x<0.33:\n",
    "        return 0\n",
    "    else:\n",
    "        return 1\n",
    "label_from_predictor = np.vectorize(label_from_predictor)"
   ],
   "metadata": {
    "collapsed": false,
    "pycharm": {
     "name": "#%%\n"
    }
   }
  },
  {
   "cell_type": "code",
   "execution_count": 15,
   "outputs": [
    {
     "name": "stderr",
     "output_type": "stream",
     "text": [
      "LinearPredictor: 100%|██████████| 10/10 [00:00<00:00, 42.11it/s]\n",
      "SVMLinear: 100%|██████████| 10/10 [00:00<00:00, 541.58it/s]\n",
      "SVMPoly: 100%|██████████| 10/10 [00:00<00:00, 509.44it/s]\n",
      "SVMRbf: 100%|██████████| 10/10 [00:00<00:00, 449.82it/s]\n",
      "SVMSigmoid: 100%|██████████| 10/10 [00:00<00:00, 526.80it/s]\n",
      "RF: 100%|██████████| 10/10 [00:00<00:00, 13.20it/s]\n",
      "AdaBoost: 100%|██████████| 10/10 [00:00<00:00, 24.23it/s]\n",
      "NNPredictor: 100%|██████████| 10/10 [00:00<00:00, 19.06it/s]\n",
      "NNClassifier: 100%|██████████| 10/10 [00:00<00:00, 16.60it/s]\n"
     ]
    }
   ],
   "source": [
    "from tqdm import tqdm\n",
    "import time\n",
    "from torch.optim.lr_scheduler import ExponentialLR\n",
    "from methods import *\n",
    "from torch import nn\n",
    "\n",
    "import numpy as np\n",
    "from sklearn.model_selection import KFold, train_test_split\n",
    "\n",
    "\n",
    "test_values = []\n",
    "predicted_values = []\n",
    "datasets = []\n",
    "seeds = []\n",
    "methods = []\n",
    "parameters =[]\n",
    "plot = False\n",
    "\n",
    "# Test split using K-Folds cross-validator\n",
    "\n",
    "#k = 10\n",
    "#kf = KFold(n_splits=k, shuffle=True, random_state=seed)\n",
    "#for idx, (train_index, test_index) in enumerate(kf.split(X)):\n",
    "\n",
    "for method_class in method_classes_list():\n",
    "\n",
    "    for seed in tqdm(range(10), desc=method_class.__name__):\n",
    "        train_index, test_index = test_train_indices(X, 0.2, seed=seed)\n",
    "\n",
    "        # Slicing data according to kf split\n",
    "        dtype = torch.float32\n",
    "        x_train, x_test = X[train_index], X[test_index]\n",
    "        y_train, y_test = y[train_index], y[test_index]\n",
    "\n",
    "        # TODO: random seed for methods\n",
    "\n",
    "        # Hyperparameters for one train test session\n",
    "        torch.manual_seed(seed)\n",
    "        method = method_class(input_size=x_train.shape[1],class_weights=class_weights)\n",
    "        # {'linear', 'poly', 'rbf', 'sigmoid', 'precomputed'}\n",
    "\n",
    "        if method.optimizes:\n",
    "            x_train = torch.tensor(x_train,dtype=dtype)\n",
    "            x_test = torch.tensor(x_test, dtype=dtype)\n",
    "            if method.type == 'predictor':\n",
    "                y_test = torch.tensor(y_test, dtype=dtype).reshape(-1,1)\n",
    "                y_train = torch.tensor(y_train, dtype=dtype).reshape(-1,1)\n",
    "            elif method.type == 'classifier':\n",
    "                y_test = torch.tensor(y_test, dtype=torch.int64).reshape(-1)\n",
    "                y_train = torch.tensor(y_train, dtype=torch.int64).reshape(-1)\n",
    "\n",
    "            criterion = method.criterion()\n",
    "            params_to_be_optimized = method.get_parameters()\n",
    "            optimizer = optim.Adam(params_to_be_optimized, lr=0.01)\n",
    "            #scheduler = ExponentialLR(optimizer, gamma=0.999)\n",
    "            train_losses = []  # for plot\n",
    "            test_losses = []  # for plot\n",
    "\n",
    "            epochs = 100\n",
    "            for epoch in range(epochs):\n",
    "              iteration_time = time.time()\n",
    "              optimizer.zero_grad()\n",
    "\n",
    "              # forward pass\n",
    "              y_train_predicted = method.predict(x_train)\n",
    "              loss = criterion(y_train_predicted, y_train) #+ 0.01*method.calculate_regularization_loss()\n",
    "\n",
    "              # backward pass\n",
    "              loss.backward()\n",
    "              optimizer.step()\n",
    "              #scheduler.step()\n",
    "\n",
    "              with torch.no_grad():\n",
    "                y_train_predicted = method.predict(x_train)\n",
    "                train_loss = criterion(y_train_predicted, y_train)\n",
    "                train_losses.append(train_loss)\n",
    "\n",
    "                y_test_predicted = method.predict(x_test)\n",
    "                test_loss = criterion(y_test_predicted, y_test)\n",
    "                test_losses.append(test_loss)\n",
    "\n",
    "            if plot:\n",
    "                plt.plot(train_losses, label='train loss')\n",
    "                plt.plot(test_losses, label='test loss')\n",
    "                plt.legend()\n",
    "                plt.title(f'Seed = {seed}')\n",
    "                plt.show()\n",
    "\n",
    "            # Lists for Error Analysis df\n",
    "            if method.type == \"predictor\":\n",
    "                test_values += y_test.detach().numpy().reshape(-1).tolist()\n",
    "\n",
    "                predicted_values += label_from_predictor(method.predict(x_test).detach().numpy().reshape(-1)).tolist()\n",
    "                #datasets += df['dataset'][test_index].tolist()\n",
    "                seeds += [seed] * len(y_test)\n",
    "                methods += [method.__class__.__name__] * len(y_test)\n",
    "            elif method.type == \"classifier\":\n",
    "                test_values += y_test.detach().numpy().tolist()\n",
    "                predicted_values += torch.argmax(method.predict(x_test), dim=1).detach().numpy().tolist()\n",
    "                #datasets += df['dataset'][test_index].tolist()\n",
    "                seeds += [seed] * len(y_test)\n",
    "                methods += [method.__class__.__name__] * len(y_test)\n",
    "\n",
    "        else:\n",
    "            method.fit(x_train, y_train)\n",
    "\n",
    "            test_values += y_test.tolist()\n",
    "            predicted_values += method.predict(x_test).tolist()\n",
    "            #datasets += df['dataset'][test_index].tolist()\n",
    "            seeds += [seed] * len(y_test)\n",
    "            methods += [method.__class__.__name__] * len(y_test)\n",
    "\n",
    "        with torch.no_grad():\n",
    "            parameters.append(method.get_parameters())"
   ],
   "metadata": {
    "collapsed": false,
    "pycharm": {
     "name": "#%%\n"
    }
   }
  },
  {
   "cell_type": "markdown",
   "source": [
    "# Test Analysis"
   ],
   "metadata": {
    "collapsed": false,
    "pycharm": {
     "name": "#%% md\n"
    }
   }
  },
  {
   "cell_type": "code",
   "execution_count": 16,
   "outputs": [],
   "source": [
    "analysis_df = pd.DataFrame({'method': methods, 'seed': seeds, 'dataset':datasets, 'y': test_values, 'pred': predicted_values})"
   ],
   "metadata": {
    "collapsed": false,
    "pycharm": {
     "name": "#%%\n"
    }
   }
  },
  {
   "cell_type": "code",
   "execution_count": 17,
   "outputs": [],
   "source": [
    "from datetime import datetime\n",
    "\n",
    "analysis_df.to_csv(f'data/analysis/test_cancer_{datetime.date(datetime.now()).__str__()}.csv', index=False)\n",
    "breakpoint()"
   ],
   "metadata": {
    "collapsed": false,
    "pycharm": {
     "name": "#%%\n"
    }
   }
  },
  {
   "cell_type": "markdown",
   "source": [],
   "metadata": {
    "collapsed": false,
    "pycharm": {
     "name": "#%% md\n"
    }
   }
  },
  {
   "cell_type": "code",
   "execution_count": null,
   "outputs": [],
   "source": [
    "cm = confusion_matrix(analysis_df['y'], analysis_df['pred'])\n",
    "cm = cm/cm.sum()\n",
    "sns.heatmap(cm, annot=True, fmt='.2f')\n",
    "plt.title('Confusion Matrix')\n",
    "plt.xlabel('Predictor label')\n",
    "plt.ylabel('True label')\n",
    "plt.show()\n",
    "\n",
    "print('Accuracy:', np.trace(cm))"
   ],
   "metadata": {
    "collapsed": false,
    "pycharm": {
     "name": "#%%\n"
    }
   }
  },
  {
   "cell_type": "markdown",
   "source": [
    "# Train analysis"
   ],
   "metadata": {
    "collapsed": false,
    "pycharm": {
     "name": "#%% md\n"
    }
   }
  },
  {
   "cell_type": "code",
   "execution_count": null,
   "outputs": [],
   "source": [
    "y_train_predicted = method.predict(x_train)\n",
    "\n",
    "#cm = confusion_matrix(y_train.detach().numpy(), torch.argmax(y_train_predicted, dim=1).detach().numpy())\n",
    "cm = confusion_matrix(y_train, y_train_predicted)\n",
    "cm = cm/cm.sum()\n",
    "sns.heatmap(cm, annot=True, fmt='.2f')\n",
    "plt.title('Confusion Matrix')\n",
    "plt.xlabel('Predictor label')\n",
    "plt.ylabel('True label')\n",
    "plt.show()\n",
    "print('Accuracy:', np.trace(cm))\n",
    "breakpoint()"
   ],
   "metadata": {
    "collapsed": false,
    "pycharm": {
     "name": "#%%\n"
    }
   }
  },
  {
   "cell_type": "markdown",
   "source": [
    "## Predictor Analysis"
   ],
   "metadata": {
    "collapsed": false,
    "pycharm": {
     "name": "#%% md\n"
    }
   }
  },
  {
   "cell_type": "code",
   "execution_count": null,
   "outputs": [],
   "source": [
    "analysis_df['error'] = analysis_df['y']-analysis_df['pred']\n",
    "analysis_df['error_abs'] = np.abs(analysis_df['error'])\n",
    "diff = analysis_df['y'].max()-analysis_df['y'].min()\n",
    "analysis_df['accuracy'] = 1 - analysis_df['error_abs'] / diff"
   ],
   "metadata": {
    "collapsed": false,
    "pycharm": {
     "name": "#%%\n"
    }
   }
  },
  {
   "cell_type": "code",
   "execution_count": null,
   "outputs": [],
   "source": [
    "analysis_df['accuracy'].describe()"
   ],
   "metadata": {
    "collapsed": false,
    "pycharm": {
     "name": "#%%\n"
    }
   }
  },
  {
   "cell_type": "code",
   "execution_count": null,
   "outputs": [],
   "source": [
    "sns.displot(data=analysis_df, x=\"accuracy\", hue=\"dataset\", multiple=\"stack\")\n",
    "plt.show()"
   ],
   "metadata": {
    "collapsed": false,
    "pycharm": {
     "name": "#%%\n"
    }
   }
  },
  {
   "cell_type": "code",
   "execution_count": null,
   "outputs": [],
   "source": [
    "sns.scatterplot(data=analysis_df, x=\"y\", y=\"error\", hue=\"dataset\")\n",
    "plt.show()"
   ],
   "metadata": {
    "collapsed": false,
    "pycharm": {
     "name": "#%%\n"
    }
   }
  },
  {
   "cell_type": "code",
   "execution_count": null,
   "outputs": [],
   "source": [
    "sns.scatterplot(data=analysis_df, x=\"accuracy\", y=\"y\", hue=\"dataset\")\n",
    "plt.show()"
   ],
   "metadata": {
    "collapsed": false,
    "pycharm": {
     "name": "#%%\n"
    }
   }
  },
  {
   "cell_type": "code",
   "execution_count": null,
   "outputs": [],
   "source": [
    "sns.displot(data=analysis_df, x=\"y\", hue=\"dataset\", multiple=\"stack\")\n",
    "plt.show()"
   ],
   "metadata": {
    "collapsed": false,
    "pycharm": {
     "name": "#%%\n"
    }
   }
  },
  {
   "cell_type": "code",
   "execution_count": null,
   "outputs": [],
   "source": [
    "df.columns"
   ],
   "metadata": {
    "collapsed": false,
    "pycharm": {
     "name": "#%%\n"
    }
   }
  },
  {
   "cell_type": "code",
   "execution_count": null,
   "outputs": [],
   "source": [
    "method.get_parameters()"
   ],
   "metadata": {
    "collapsed": false,
    "pycharm": {
     "name": "#%%\n"
    }
   }
  },
  {
   "cell_type": "code",
   "execution_count": null,
   "outputs": [],
   "source": [
    "df['Thermal feeling (global)'].value_counts()df['dataset'] == 'August'"
   ],
   "metadata": {
    "collapsed": false,
    "pycharm": {
     "name": "#%%\n"
    }
   }
  }
 ],
 "metadata": {
  "kernelspec": {
   "display_name": "Python 3",
   "language": "python",
   "name": "python3"
  },
  "language_info": {
   "codemirror_mode": {
    "name": "ipython",
    "version": 2
   },
   "file_extension": ".py",
   "mimetype": "text/x-python",
   "name": "python",
   "nbconvert_exporter": "python",
   "pygments_lexer": "ipython2",
   "version": "2.7.6"
  }
 },
 "nbformat": 4,
 "nbformat_minor": 0
}