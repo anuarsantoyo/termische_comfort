{
 "cells": [
  {
   "cell_type": "markdown",
   "source": [
    "# Optimizer\n",
    "Gets data and uses it to optimize a method (imported from method.py) using a loss function and tests it against unseen data\n"
   ],
   "metadata": {
    "collapsed": false,
    "pycharm": {
     "name": "#%% md\n"
    }
   }
  },
  {
   "cell_type": "code",
   "execution_count": 20,
   "outputs": [],
   "source": [
    "import pandas as pd\n",
    "import matplotlib.pyplot as plt\n",
    "import sns as sns\n",
    "import torch\n",
    "import torch.optim as optim\n",
    "import seaborn as sns\n",
    "from sklearn.metrics import confusion_matrix\n",
    "import numpy as np\n",
    "from sklearn.preprocessing import StandardScaler, MinMaxScaler\n"
   ],
   "metadata": {
    "collapsed": false,
    "pycharm": {
     "name": "#%%\n"
    }
   }
  },
  {
   "cell_type": "markdown",
   "source": [
    "# Import data"
   ],
   "metadata": {
    "collapsed": false,
    "pycharm": {
     "name": "#%% md\n"
    }
   }
  },
  {
   "cell_type": "code",
   "execution_count": 21,
   "outputs": [],
   "source": [
    "### Load the data\n",
    "seed = 1\n",
    "data_path = 'data/output/data_2022-07-05.csv'\n",
    "df = pd.read_csv(data_path)\n",
    "#df = df[((df['dataset'] == 'August') | (df['dataset'] == 'June'))&(df['Thermal feeling (global)'] != -1)].reset_index(drop=True)\n"
   ],
   "metadata": {
    "collapsed": false,
    "pycharm": {
     "name": "#%%\n"
    }
   }
  },
  {
   "cell_type": "markdown",
   "source": [
    "# Scale Data"
   ],
   "metadata": {
    "collapsed": false,
    "pycharm": {
     "name": "#%% md\n"
    }
   }
  },
  {
   "cell_type": "code",
   "execution_count": 22,
   "outputs": [],
   "source": [
    "#scaler = StandardScaler()\n",
    "#M = scaler.fit_transform(df.drop(columns=['dataset']))\n",
    "#M = df.drop(columns=['dataset']).to_numpy()\n",
    "#y = M[:,-1]\n",
    "y = df['y'].to_numpy()\n",
    "X = df.drop(columns=['dataset', 'y']).to_numpy()\n",
    "#X = M[:,[1,5,6,7,8,10]]\n",
    "#X = M"
   ],
   "metadata": {
    "collapsed": false,
    "pycharm": {
     "name": "#%%\n"
    }
   }
  },
  {
   "cell_type": "code",
   "execution_count": 23,
   "outputs": [
    {
     "data": {
      "text/plain": "'\\nfrom sklearn.decomposition import PCA\\npca = PCA(n_components=5)\\nX = pca.fit_transform(X)'"
     },
     "execution_count": 23,
     "metadata": {},
     "output_type": "execute_result"
    }
   ],
   "source": [
    "# PCA\n",
    "'''\n",
    "from sklearn.decomposition import PCA\n",
    "pca = PCA(n_components=5)\n",
    "X = pca.fit_transform(X)'''"
   ],
   "metadata": {
    "collapsed": false,
    "pycharm": {
     "name": "#%%\n"
    }
   }
  },
  {
   "cell_type": "code",
   "execution_count": 24,
   "outputs": [
    {
     "name": "stdout",
     "output_type": "stream",
     "text": [
      "[ 0.02757324  0.06967821  0.0161356   0.00243969 -0.58092102 -0.0476776\n",
      " -0.00224648 -0.006698    0.006698   -0.001382    0.0030206  -0.04756538\n",
      " -0.00202817  0.4040622   0.01880943 -0.01880943]\n"
     ]
    },
    {
     "data": {
      "text/plain": "<Figure size 432x288 with 1 Axes>",
      "image/png": "[encoded data removed]"
     },
     "metadata": {
      "needs_background": "light"
     },
     "output_type": "display_data"
    }
   ],
   "source": [
    "# Quick analysis of linear relationship of data\n",
    "from sklearn.linear_model import LinearRegression\n",
    "regressor = LinearRegression()\n",
    "regressor.fit(X, y)\n",
    "\n",
    "# display coefficients\n",
    "print(regressor.coef_)\n",
    "plt.scatter(np.arange(len(regressor.coef_)+1),regressor.coef_.tolist()+[regressor.intercept_])\n",
    "plt.show()"
   ],
   "metadata": {
    "collapsed": false,
    "pycharm": {
     "name": "#%%\n"
    }
   }
  },
  {
   "cell_type": "markdown",
   "source": [
    "# Train"
   ],
   "metadata": {
    "collapsed": false,
    "pycharm": {
     "name": "#%% md\n"
    }
   }
  },
  {
   "cell_type": "code",
   "execution_count": 25,
   "outputs": [
    {
     "data": {
      "text/plain": "tensor([1.2677, 0.8256])"
     },
     "execution_count": 25,
     "metadata": {},
     "output_type": "execute_result"
    }
   ],
   "source": [
    "from sklearn.utils import class_weight\n",
    "\n",
    "class_weights=class_weight.compute_class_weight(class_weight='balanced',classes=np.unique(y),y=y)\n",
    "class_weights=torch.tensor(class_weights,dtype=torch.float)\n",
    "class_weights"
   ],
   "metadata": {
    "collapsed": false,
    "pycharm": {
     "name": "#%%\n"
    }
   }
  },
  {
   "cell_type": "code",
   "execution_count": 26,
   "outputs": [],
   "source": [
    "# random index splitter\n",
    "def test_train_indices(X, test_size, seed=42):\n",
    "    size = X.shape[0]\n",
    "    split = int(size*(1-test_size))\n",
    "    np.random.seed(seed)\n",
    "    indices = np.arange(size)\n",
    "    np.random.shuffle(indices)\n",
    "    return indices[:split], indices[split:]"
   ],
   "metadata": {
    "collapsed": false,
    "pycharm": {
     "name": "#%%\n"
    }
   }
  },
  {
   "cell_type": "code",
   "execution_count": 27,
   "outputs": [],
   "source": [
    "def label_from_predictor(x):\n",
    "    if x>1.33:\n",
    "        return 2\n",
    "    elif x<0.33:\n",
    "        return 0\n",
    "    else:\n",
    "        return 1\n",
    "\n",
    "def label_from_predictor(x):\n",
    "    if x>1:\n",
    "        return 1\n",
    "    else:\n",
    "        return 0\n",
    "\n",
    "\n",
    "\n",
    "label_from_predictor = np.vectorize(label_from_predictor)"
   ],
   "metadata": {
    "collapsed": false,
    "pycharm": {
     "name": "#%%\n"
    }
   }
  },
  {
   "cell_type": "code",
   "execution_count": 28,
   "outputs": [
    {
     "name": "stderr",
     "output_type": "stream",
     "text": [
      "LinearPredictor: 100%|██████████| 100/100 [00:02<00:00, 44.63it/s]\n",
      "SVMLinear: 100%|██████████| 100/100 [00:00<00:00, 376.98it/s]\n",
      "SVMPoly: 100%|██████████| 100/100 [00:00<00:00, 336.45it/s]\n",
      "SVMRbf: 100%|██████████| 100/100 [00:00<00:00, 278.52it/s]\n",
      "SVMSigmoid: 100%|██████████| 100/100 [00:00<00:00, 206.91it/s]\n",
      "RF: 100%|██████████| 100/100 [00:09<00:00, 11.04it/s]\n",
      "AdaBoost: 100%|██████████| 100/100 [00:05<00:00, 19.48it/s]\n",
      "NNPredictor: 100%|██████████| 100/100 [00:06<00:00, 15.19it/s]\n",
      "NNClassifier: 100%|██████████| 100/100 [00:06<00:00, 15.07it/s]\n",
      "KNN: 100%|██████████| 100/100 [00:00<00:00, 296.92it/s]\n"
     ]
    }
   ],
   "source": [
    "from tqdm import tqdm\n",
    "import time\n",
    "from torch.optim.lr_scheduler import ExponentialLR\n",
    "from methods import *\n",
    "from torch import nn\n",
    "\n",
    "import numpy as np\n",
    "from sklearn.model_selection import KFold, train_test_split\n",
    "\n",
    "\n",
    "test_values = []\n",
    "predicted_values = []\n",
    "datasets = []\n",
    "seeds = []\n",
    "methods = []\n",
    "parameters =[]\n",
    "plot = False\n",
    "\n",
    "# Test split using K-Folds cross-validator\n",
    "\n",
    "#k = 10\n",
    "#kf = KFold(n_splits=k, shuffle=True, random_state=seed)\n",
    "#for idx, (train_index, test_index) in enumerate(kf.split(X)):\n",
    "\n",
    "for method_class in method_classes_list():\n",
    "\n",
    "    for seed in tqdm(range(100), desc=method_class.__name__):\n",
    "        train_index, test_index = test_train_indices(X, 0.3, seed=seed)\n",
    "\n",
    "\n",
    "        # Slicing data according to kf split\n",
    "        dtype = torch.float32\n",
    "        x_train, x_test = X[train_index], X[test_index]\n",
    "        y_train, y_test = y[train_index], y[test_index]\n",
    "\n",
    "        # Normalizing data\n",
    "        scaler = MinMaxScaler()\n",
    "        x_train = scaler.fit_transform(x_train)\n",
    "        x_test = scaler.transform(x_test)\n",
    "\n",
    "\n",
    "        # Hyperparameters for one train test session\n",
    "        torch.manual_seed(seed)\n",
    "        method = method_class(input_size=x_train.shape[1],class_weights=class_weights)\n",
    "        # {'linear', 'poly', 'rbf', 'sigmoid', 'precomputed'}\n",
    "\n",
    "        if method.optimizes:\n",
    "            x_train = torch.tensor(x_train,dtype=dtype)\n",
    "            x_test = torch.tensor(x_test, dtype=dtype)\n",
    "            if method.type == 'predictor':\n",
    "                y_test = torch.tensor(y_test, dtype=dtype).reshape(-1,1)\n",
    "                y_train = torch.tensor(y_train, dtype=dtype).reshape(-1,1)\n",
    "            elif method.type == 'classifier':\n",
    "                y_test = torch.tensor(y_test, dtype=torch.int64).reshape(-1)\n",
    "                y_train = torch.tensor(y_train, dtype=torch.int64).reshape(-1)\n",
    "\n",
    "            criterion = method.criterion()\n",
    "            params_to_be_optimized = method.get_parameters()\n",
    "            optimizer = optim.Adam(params_to_be_optimized, lr=0.01)\n",
    "            #scheduler = ExponentialLR(optimizer, gamma=0.999)\n",
    "            train_losses = []  # for plot\n",
    "            test_losses = []  # for plot\n",
    "\n",
    "            epochs = 100\n",
    "            for epoch in range(epochs):\n",
    "              iteration_time = time.time()\n",
    "              optimizer.zero_grad()\n",
    "\n",
    "              # forward pass\n",
    "              y_train_predicted = method.predict(x_train)\n",
    "              loss = criterion(y_train_predicted, y_train) #+ 0.01*method.calculate_regularization_loss()\n",
    "\n",
    "              # backward pass\n",
    "              loss.backward()\n",
    "              optimizer.step()\n",
    "              #scheduler.step()\n",
    "\n",
    "              with torch.no_grad():\n",
    "                y_train_predicted = method.predict(x_train)\n",
    "                train_loss = criterion(y_train_predicted, y_train)\n",
    "                train_losses.append(train_loss)\n",
    "\n",
    "                y_test_predicted = method.predict(x_test)\n",
    "                test_loss = criterion(y_test_predicted, y_test)\n",
    "                test_losses.append(test_loss)\n",
    "\n",
    "            if plot:\n",
    "                plt.plot(train_losses, label='train loss')\n",
    "                plt.plot(test_losses, label='test loss')\n",
    "                plt.legend()\n",
    "                plt.title(f'Seed = {seed}')\n",
    "                plt.show()\n",
    "\n",
    "            # Lists for Error Analysis df\n",
    "            if method.type == \"predictor\":\n",
    "                test_values += y_test.detach().numpy().reshape(-1).tolist()\n",
    "\n",
    "                predicted_values += label_from_predictor(method.predict(x_test).detach().numpy().reshape(-1)).tolist()\n",
    "                datasets += df['dataset'][test_index].tolist()\n",
    "                seeds += [seed] * len(y_test)\n",
    "                methods += [method.__class__.__name__] * len(y_test)\n",
    "            elif method.type == \"classifier\":\n",
    "                test_values += y_test.detach().numpy().tolist()\n",
    "                predicted_values += torch.argmax(method.predict(x_test), dim=1).detach().numpy().tolist()\n",
    "                datasets += df['dataset'][test_index].tolist()\n",
    "                seeds += [seed] * len(y_test)\n",
    "                methods += [method.__class__.__name__] * len(y_test)\n",
    "\n",
    "        else:\n",
    "            method.fit(x_train, y_train)\n",
    "\n",
    "            test_values += y_test.tolist()\n",
    "            predicted_values += method.predict(x_test).tolist()\n",
    "            datasets += df['dataset'][test_index].tolist()\n",
    "            seeds += [seed] * len(y_test)\n",
    "            methods += [method.__class__.__name__] * len(y_test)\n",
    "\n",
    "        with torch.no_grad():\n",
    "            parameters.append(method.get_parameters())"
   ],
   "metadata": {
    "collapsed": false,
    "pycharm": {
     "name": "#%%\n"
    }
   }
  },
  {
   "cell_type": "markdown",
   "source": [
    "# Test Analysis"
   ],
   "metadata": {
    "collapsed": false,
    "pycharm": {
     "name": "#%% md\n"
    }
   }
  },
  {
   "cell_type": "code",
   "execution_count": 29,
   "outputs": [],
   "source": [
    "analysis_df = pd.DataFrame({'method': methods, 'seed': seeds, 'dataset':datasets, 'y': test_values, 'pred': predicted_values})\n",
    "#analysis_df = pd.DataFrame({'method': methods, 'seed': seeds, 'y': test_values, 'pred': predicted_values})"
   ],
   "metadata": {
    "collapsed": false,
    "pycharm": {
     "name": "#%%\n"
    }
   }
  },
  {
   "cell_type": "code",
   "execution_count": 30,
   "outputs": [],
   "source": [
    "from datetime import datetime\n",
    "\n",
    "analysis_df.to_csv(f'data/analysis/test_{datetime.date(datetime.now()).__str__()}.csv', index=False)\n",
    "breakpoint()"
   ],
   "metadata": {
    "collapsed": false,
    "pycharm": {
     "name": "#%%\n"
    }
   }
  },
  {
   "cell_type": "code",
   "execution_count": 31,
   "outputs": [
    {
     "data": {
      "text/plain": "<Figure size 432x288 with 2 Axes>",
      "image/png": "[encoded data removed]"
     },
     "metadata": {
      "needs_background": "light"
     },
     "output_type": "display_data"
    },
    {
     "name": "stdout",
     "output_type": "stream",
     "text": [
      "Accuracy: 0.5837118644067796\n"
     ]
    }
   ],
   "source": [
    "cm = confusion_matrix(analysis_df['y'], analysis_df['pred'])\n",
    "cm = cm/cm.sum()\n",
    "sns.heatmap(cm, annot=True, fmt='.2f')\n",
    "plt.title('Confusion Matrix')\n",
    "plt.xlabel('Predictor label')\n",
    "plt.ylabel('True label')\n",
    "plt.show()\n",
    "\n",
    "print('Accuracy:', np.trace(cm))"
   ],
   "metadata": {
    "collapsed": false,
    "pycharm": {
     "name": "#%%\n"
    }
   }
  },
  {
   "cell_type": "code",
   "execution_count": 31,
   "outputs": [],
   "source": [],
   "metadata": {
    "collapsed": false,
    "pycharm": {
     "name": "#%%\n"
    }
   }
  },
  {
   "cell_type": "markdown",
   "source": [
    "# Train analysis"
   ],
   "metadata": {
    "collapsed": false,
    "pycharm": {
     "name": "#%% md\n"
    }
   }
  },
  {
   "cell_type": "code",
   "execution_count": 32,
   "outputs": [
    {
     "data": {
      "text/plain": "<Figure size 432x288 with 2 Axes>",
      "image/png": "[encoded data removed]"
     },
     "metadata": {
      "needs_background": "light"
     },
     "output_type": "display_data"
    },
    {
     "name": "stdout",
     "output_type": "stream",
     "text": [
      "Accuracy: 0.7745454545454545\n"
     ]
    }
   ],
   "source": [
    "y_train_predicted = method.predict(x_train)\n",
    "\n",
    "#cm = confusion_matrix(y_train.detach().numpy(), torch.argmax(y_train_predicted, dim=1).detach().numpy())\n",
    "cm = confusion_matrix(y_train, y_train_predicted)\n",
    "cm = cm/cm.sum()\n",
    "sns.heatmap(cm, annot=True, fmt='.2f')\n",
    "plt.title('Confusion Matrix')\n",
    "plt.xlabel('Predictor label')\n",
    "plt.ylabel('True label')\n",
    "plt.show()\n",
    "print('Accuracy:', np.trace(cm))\n",
    "breakpoint()"
   ],
   "metadata": {
    "collapsed": false,
    "pycharm": {
     "name": "#%%\n"
    }
   }
  },
  {
   "cell_type": "markdown",
   "source": [
    "## Predictor Analysis"
   ],
   "metadata": {
    "collapsed": false,
    "pycharm": {
     "name": "#%% md\n"
    }
   }
  },
  {
   "cell_type": "code",
   "execution_count": 33,
   "outputs": [],
   "source": [
    "analysis_df['error'] = analysis_df['y']-analysis_df['pred']\n",
    "analysis_df['error_abs'] = np.abs(analysis_df['error'])\n",
    "diff = analysis_df['y'].max()-analysis_df['y'].min()\n",
    "analysis_df['accuracy'] = 1 - analysis_df['error_abs'] / diff"
   ],
   "metadata": {
    "collapsed": false,
    "pycharm": {
     "name": "#%%\n"
    }
   }
  },
  {
   "cell_type": "code",
   "execution_count": 34,
   "outputs": [
    {
     "data": {
      "text/plain": "count    118000.000000\nmean          0.583712\nstd           0.492945\nmin           0.000000\n25%           0.000000\n50%           1.000000\n75%           1.000000\nmax           1.000000\nName: accuracy, dtype: float64"
     },
     "execution_count": 34,
     "metadata": {},
     "output_type": "execute_result"
    }
   ],
   "source": [
    "analysis_df['accuracy'].describe()"
   ],
   "metadata": {
    "collapsed": false,
    "pycharm": {
     "name": "#%%\n"
    }
   }
  },
  {
   "cell_type": "code",
   "execution_count": 35,
   "outputs": [
    {
     "data": {
      "text/plain": "<Figure size 447.625x360 with 1 Axes>",
      "image/png": "[encoded data removed]"
     },
     "metadata": {
      "needs_background": "light"
     },
     "output_type": "display_data"
    }
   ],
   "source": [
    "sns.displot(data=analysis_df, x=\"accuracy\", hue=\"dataset\", multiple=\"stack\")\n",
    "plt.show()"
   ],
   "metadata": {
    "collapsed": false,
    "pycharm": {
     "name": "#%%\n"
    }
   }
  },
  {
   "cell_type": "code",
   "execution_count": 36,
   "outputs": [
    {
     "data": {
      "text/plain": "<Figure size 432x288 with 1 Axes>",
      "image/png": "[encoded data removed]"
     },
     "metadata": {
      "needs_background": "light"
     },
     "output_type": "display_data"
    }
   ],
   "source": [
    "sns.scatterplot(data=analysis_df, x=\"y\", y=\"error\", hue=\"dataset\")\n",
    "plt.show()"
   ],
   "metadata": {
    "collapsed": false,
    "pycharm": {
     "name": "#%%\n"
    }
   }
  },
  {
   "cell_type": "code",
   "execution_count": 37,
   "outputs": [
    {
     "data": {
      "text/plain": "<Figure size 432x288 with 1 Axes>",
      "image/png": "[encoded data removed]"
     },
     "metadata": {
      "needs_background": "light"
     },
     "output_type": "display_data"
    }
   ],
   "source": [
    "sns.scatterplot(data=analysis_df, x=\"accuracy\", y=\"y\", hue=\"dataset\")\n",
    "plt.show()"
   ],
   "metadata": {
    "collapsed": false,
    "pycharm": {
     "name": "#%%\n"
    }
   }
  },
  {
   "cell_type": "code",
   "execution_count": 38,
   "outputs": [
    {
     "data": {
      "text/plain": "<Figure size 447.625x360 with 1 Axes>",
      "image/png": "[encoded data removed]"
     },
     "metadata": {
      "needs_background": "light"
     },
     "output_type": "display_data"
    }
   ],
   "source": [
    "sns.displot(data=analysis_df, x=\"y\", hue=\"dataset\", multiple=\"stack\")\n",
    "plt.show()"
   ],
   "metadata": {
    "collapsed": false,
    "pycharm": {
     "name": "#%%\n"
    }
   }
  },
  {
   "cell_type": "code",
   "execution_count": 39,
   "outputs": [
    {
     "data": {
      "text/plain": "Index(['dataset', 'Outside Temperature', 'Avg. Temperature',\n       'Temperature difference', 'RH', 'va', 'Tg', 'Age', 'Male', 'Female',\n       'Height', 'Weight', 'Well-being', 'Duration', 'Icl', 'Alley', 'Window',\n       'y'],\n      dtype='object')"
     },
     "execution_count": 39,
     "metadata": {},
     "output_type": "execute_result"
    }
   ],
   "source": [
    "df.columns"
   ],
   "metadata": {
    "collapsed": false,
    "pycharm": {
     "name": "#%%\n"
    }
   }
  },
  {
   "cell_type": "code",
   "execution_count": 40,
   "outputs": [],
   "source": [
    "method.get_parameters()"
   ],
   "metadata": {
    "collapsed": false,
    "pycharm": {
     "name": "#%%\n"
    }
   }
  },
  {
   "cell_type": "code",
   "execution_count": 41,
   "outputs": [
    {
     "ename": "SyntaxError",
     "evalue": "invalid syntax (1884308867.py, line 1)",
     "output_type": "error",
     "traceback": [
      "\u001B[0;36m  Input \u001B[0;32mIn [41]\u001B[0;36m\u001B[0m\n\u001B[0;31m    df['Thermal feeling (global)'].value_counts()df['dataset'] == 'August'\u001B[0m\n\u001B[0m                                                 ^\u001B[0m\n\u001B[0;31mSyntaxError\u001B[0m\u001B[0;31m:\u001B[0m invalid syntax\n"
     ]
    }
   ],
   "source": [
    "df['Thermal feeling (global)'].value_counts()df['dataset'] == 'August'"
   ],
   "metadata": {
    "collapsed": false,
    "pycharm": {
     "name": "#%%\n"
    }
   }
  }
 ],
 "metadata": {
  "kernelspec": {
   "display_name": "Python 3",
   "language": "python",
   "name": "python3"
  },
  "language_info": {
   "codemirror_mode": {
    "name": "ipython",
    "version": 2
   },
   "file_extension": ".py",
   "mimetype": "text/x-python",
   "name": "python",
   "nbconvert_exporter": "python",
   "pygments_lexer": "ipython2",
   "version": "2.7.6"
  }
 },
 "nbformat": 4,
 "nbformat_minor": 0
}