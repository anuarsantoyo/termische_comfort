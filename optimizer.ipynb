{
 "cells": [
  {
   "cell_type": "markdown",
   "source": [
    "# Optimizer\n",
    "Gets data and uses it to optimize a method (imported from method.py) using a loss function and tests it against unseen data\n"
   ],
   "metadata": {
    "collapsed": false,
    "pycharm": {
     "name": "#%% md\n"
    }
   }
  },
  {
   "cell_type": "code",
   "execution_count": 2,
   "outputs": [],
   "source": [
    "import pandas as pd\n",
    "import matplotlib.pyplot as plt\n",
    "import sns as sns\n",
    "import torch\n",
    "import torch.optim as optim\n",
    "import seaborn as sns\n",
    "from sklearn.metrics import confusion_matrix\n",
    "import numpy as np"
   ],
   "metadata": {
    "collapsed": false,
    "pycharm": {
     "name": "#%%\n"
    }
   }
  },
  {
   "cell_type": "markdown",
   "source": [
    "# Import data"
   ],
   "metadata": {
    "collapsed": false,
    "pycharm": {
     "name": "#%% md\n"
    }
   }
  },
  {
   "cell_type": "code",
   "execution_count": 3,
   "metadata": {
    "collapsed": true,
    "pycharm": {
     "name": "#%%\n"
    }
   },
   "outputs": [],
   "source": [
    "### Load the data\n",
    "seed = 1\n",
    "data_path = 'data/output/data_complete_grouped_2022-06-22.csv'\n",
    "df = pd.read_csv(data_path)"
   ]
  },
  {
   "cell_type": "markdown",
   "source": [
    "# Scale Data"
   ],
   "metadata": {
    "collapsed": false,
    "pycharm": {
     "name": "#%% md\n"
    }
   }
  },
  {
   "cell_type": "code",
   "execution_count": 4,
   "outputs": [],
   "source": [
    "from sklearn.preprocessing import StandardScaler, MinMaxScaler\n",
    "scaler = StandardScaler()\n",
    "M = scaler.fit_transform(df.drop(columns=['dataset']))\n",
    "#M = df.drop(columns=['dataset']).to_numpy()\n",
    "#y = M[:,-1]\n",
    "y = df['Thermal feeling (global)'].to_numpy() + 1\n",
    "X = M[:,:-1]\n",
    "#X = M"
   ],
   "metadata": {
    "collapsed": false,
    "pycharm": {
     "name": "#%%\n"
    }
   }
  },
  {
   "cell_type": "code",
   "execution_count": 5,
   "outputs": [
    {
     "name": "stdout",
     "output_type": "stream",
     "text": [
      "[-0.15073885  0.66329091  0.12524925 -0.0826543  -0.1967491   0.00250448\n",
      " -0.06263211 -0.02741825  0.05681769 -0.04580313  0.0520164 ]\n"
     ]
    },
    {
     "data": {
      "text/plain": "<Figure size 432x288 with 1 Axes>",
      "image/png": "[encoded data removed]"
     },
     "metadata": {
      "needs_background": "light"
     },
     "output_type": "display_data"
    }
   ],
   "source": [
    "# Quick analysis of linear relationship of data\n",
    "from sklearn.linear_model import LinearRegression\n",
    "regressor = LinearRegression()\n",
    "regressor.fit(X, y)\n",
    "\n",
    "# display coefficients\n",
    "print(regressor.coef_)\n",
    "plt.scatter(np.arange(len(regressor.coef_)+1),regressor.coef_.tolist()+[regressor.intercept_])\n",
    "plt.show()"
   ],
   "metadata": {
    "collapsed": false,
    "pycharm": {
     "name": "#%%\n"
    }
   }
  },
  {
   "cell_type": "markdown",
   "source": [
    "# Train"
   ],
   "metadata": {
    "collapsed": false,
    "pycharm": {
     "name": "#%% md\n"
    }
   }
  },
  {
   "cell_type": "code",
   "execution_count": 6,
   "outputs": [
    {
     "data": {
      "text/plain": "tensor([1.2511, 0.8012, 1.0498])"
     },
     "execution_count": 6,
     "metadata": {},
     "output_type": "execute_result"
    }
   ],
   "source": [
    "from sklearn.utils import class_weight\n",
    "\n",
    "class_weights=class_weight.compute_class_weight(class_weight='balanced',classes=np.unique(y),y=y)\n",
    "class_weights=torch.tensor(class_weights,dtype=torch.float)\n",
    "class_weights"
   ],
   "metadata": {
    "collapsed": false,
    "pycharm": {
     "name": "#%%\n"
    }
   }
  },
  {
   "cell_type": "markdown",
   "source": [],
   "metadata": {
    "collapsed": false,
    "pycharm": {
     "name": "#%% md\n"
    }
   }
  },
  {
   "cell_type": "code",
   "execution_count": 13,
   "outputs": [
    {
     "name": "stdout",
     "output_type": "stream",
     "text": [
      "[1, 2, 3] [3, 3, 3]\n",
      "[4, 5, 6] [6, 6, 6]\n"
     ]
    }
   ],
   "source": [
    "for x, y in [[[1,2,3],[3,3,3]],[[4,5,6],[6,6,6]]]:\n",
    "    print(x,y)"
   ],
   "metadata": {
    "collapsed": false,
    "pycharm": {
     "name": "#%%\n"
    }
   }
  },
  {
   "cell_type": "code",
   "execution_count": 8,
   "outputs": [],
   "source": [
    "import time\n",
    "from torch.optim.lr_scheduler import ExponentialLR\n",
    "from methods import *\n",
    "from torch import nn\n",
    "\n",
    "import numpy as np\n",
    "from sklearn.model_selection import KFold\n",
    "\n",
    "k = 10\n",
    "kf = KFold(n_splits=k, shuffle=True, random_state=seed)\n",
    "\n",
    "test_values = []\n",
    "predicted_values = []\n",
    "datasets = []\n",
    "parameters =[]\n",
    "\n",
    "# Test split using K-Folds cross-validator\n",
    "\n",
    "for idx, (train_index, test_index) in enumerate(kf.split(X)):\n",
    "    # Slicing data according to kf split\n",
    "    dtype = torch.float32\n",
    "    x_train, x_test = X[train_index], X[test_index]\n",
    "    y_train, y_test = y[train_index], y[test_index]\n",
    "\n",
    "\n",
    "    # Hyper-parameters for one train test session\n",
    "    torch.manual_seed(seed)\n",
    "    method = SVM(input_size=x_train.shape[1],class_weights=class_weights, kernel='rbf', C=1, gamma=4)\n",
    "    # {'linear', 'poly', 'rbf', 'sigmoid', 'precomputed'}\n",
    "\n",
    "\n",
    "\n",
    "    if method.optimizes:\n",
    "        x_train = torch.tensor(x_train,dtype=dtype)\n",
    "        x_test = torch.tensor(x_test, dtype=dtype)\n",
    "        if method.type == 'predictor':\n",
    "            y_test = torch.tensor(y_test, dtype=dtype).reshape(-1,1)\n",
    "            y_train = torch.tensor(y_train, dtype=dtype).reshape(-1,1)\n",
    "        elif method.type == 'classifier':\n",
    "            y_test = torch.tensor(y_test, dtype=torch.int64).reshape(-1)\n",
    "            y_train = torch.tensor(y_train, dtype=torch.int64).reshape(-1)\n",
    "\n",
    "        criterion = method.criterion()\n",
    "        params_to_be_optimized = method.get_parameters()\n",
    "        optimizer = optim.Adam(params_to_be_optimized, lr=0.01)\n",
    "        #scheduler = ExponentialLR(optimizer, gamma=0.999)\n",
    "        train_losses = []  # for plot\n",
    "        test_losses = []  # for plot\n",
    "\n",
    "        epochs = 1000\n",
    "        for epoch in range(epochs):\n",
    "          iteration_time = time.time()\n",
    "          optimizer.zero_grad()\n",
    "\n",
    "          # forward pass\n",
    "          y_train_predicted = method.predict(x_train)\n",
    "          loss = criterion(y_train_predicted, y_train) #+ 0.01*method.calculate_regularization_loss()\n",
    "\n",
    "          # backward pass\n",
    "          loss.backward()\n",
    "          optimizer.step()\n",
    "          #scheduler.step()\n",
    "\n",
    "          with torch.no_grad():\n",
    "            y_train_predicted = method.predict(x_train)\n",
    "            train_loss = criterion(y_train_predicted, y_train)\n",
    "            train_losses.append(train_loss)\n",
    "\n",
    "            y_test_predicted = method.predict(x_test)\n",
    "            test_loss = criterion(y_test_predicted, y_test)\n",
    "            test_losses.append(test_loss)\n",
    "\n",
    "        plt.plot(train_losses, label='train loss')\n",
    "        plt.plot(test_losses, label='test loss')\n",
    "        plt.legend()\n",
    "        plt.title(f'K = {idx}')\n",
    "        plt.show()\n",
    "\n",
    "            # Lists for Error Analysis df\n",
    "        if method.type == \"predictor\":\n",
    "            test_values += y_test.detach().numpy().reshape(-1).tolist()\n",
    "            predicted_values += method.predict(x_test).detach().numpy().reshape(-1).tolist()\n",
    "            datasets += df['dataset'][test_index].tolist()\n",
    "        elif method.type == \"classifier\":\n",
    "            test_values += y_test.detach().numpy().tolist()\n",
    "            predicted_values += torch.argmax(method.predict(x_test), dim=1).detach().numpy().tolist()\n",
    "            datasets += df['dataset'][test_index].tolist()\n",
    "\n",
    "    else:\n",
    "        method.fit(x_train, y_train)\n",
    "        test_values += y_test.tolist()\n",
    "        predicted_values += method.predict(x_test).tolist()\n",
    "        datasets += df['dataset'][test_index].tolist()\n",
    "\n",
    "    with torch.no_grad():\n",
    "        parameters.append(method.get_parameters())"
   ],
   "metadata": {
    "collapsed": false,
    "pycharm": {
     "name": "#%%\n"
    }
   }
  },
  {
   "cell_type": "markdown",
   "source": [
    "# Test Analysis"
   ],
   "metadata": {
    "collapsed": false,
    "pycharm": {
     "name": "#%% md\n"
    }
   }
  },
  {
   "cell_type": "code",
   "execution_count": null,
   "outputs": [],
   "source": [
    "analysis_df = pd.DataFrame({'dataset':datasets, 'y': test_values, 'pred': predicted_values})"
   ],
   "metadata": {
    "collapsed": false,
    "pycharm": {
     "name": "#%%\n"
    }
   }
  },
  {
   "cell_type": "markdown",
   "source": [],
   "metadata": {
    "collapsed": false,
    "pycharm": {
     "name": "#%% md\n"
    }
   }
  },
  {
   "cell_type": "code",
   "execution_count": null,
   "outputs": [],
   "source": [
    "cm = confusion_matrix(analysis_df['y'], analysis_df['pred'])\n",
    "cm = cm/cm.sum()\n",
    "sns.heatmap(cm, annot=True, fmt='.2f')\n",
    "plt.title('Confusion Matrix')\n",
    "plt.xlabel('Predictor label')\n",
    "plt.ylabel('True label')\n",
    "plt.show()\n",
    "\n",
    "print('Accuracy:', np.trace(cm))"
   ],
   "metadata": {
    "collapsed": false,
    "pycharm": {
     "name": "#%%\n"
    }
   }
  },
  {
   "cell_type": "markdown",
   "source": [
    "# Train analysis"
   ],
   "metadata": {
    "collapsed": false,
    "pycharm": {
     "name": "#%% md\n"
    }
   }
  },
  {
   "cell_type": "code",
   "execution_count": null,
   "outputs": [],
   "source": [
    "y_train_predicted = method.predict(x_train)\n",
    "\n",
    "#cm = confusion_matrix(y_train.detach().numpy(), torch.argmax(y_train_predicted, dim=1).detach().numpy())\n",
    "cm = confusion_matrix(y_train, y_train_predicted)\n",
    "cm = cm/cm.sum()\n",
    "sns.heatmap(cm, annot=True, fmt='.2f')\n",
    "plt.title('Confusion Matrix')\n",
    "plt.xlabel('Predictor label')\n",
    "plt.ylabel('True label')\n",
    "plt.show()\n",
    "print('Accuracy:', np.trace(cm))\n",
    "breakpoint()"
   ],
   "metadata": {
    "collapsed": false,
    "pycharm": {
     "name": "#%%\n"
    }
   }
  },
  {
   "cell_type": "markdown",
   "source": [
    "## Predictor Analysis"
   ],
   "metadata": {
    "collapsed": false,
    "pycharm": {
     "name": "#%% md\n"
    }
   }
  },
  {
   "cell_type": "code",
   "execution_count": null,
   "outputs": [],
   "source": [
    "analysis_df['error'] = analysis_df['y']-analysis_df['pred']\n",
    "analysis_df['error_abs'] = np.abs(analysis_df['error'])\n",
    "diff = analysis_df['y'].max()-analysis_df['y'].min()\n",
    "analysis_df['accuracy'] = 1 - analysis_df['error_abs'] / diff"
   ],
   "metadata": {
    "collapsed": false,
    "pycharm": {
     "name": "#%%\n"
    }
   }
  },
  {
   "cell_type": "code",
   "execution_count": null,
   "outputs": [],
   "source": [
    "analysis_df['accuracy'].describe()"
   ],
   "metadata": {
    "collapsed": false,
    "pycharm": {
     "name": "#%%\n"
    }
   }
  },
  {
   "cell_type": "code",
   "execution_count": null,
   "outputs": [],
   "source": [
    "sns.displot(data=analysis_df, x=\"accuracy\", hue=\"dataset\", multiple=\"stack\")\n",
    "plt.show()"
   ],
   "metadata": {
    "collapsed": false,
    "pycharm": {
     "name": "#%%\n"
    }
   }
  },
  {
   "cell_type": "code",
   "execution_count": null,
   "outputs": [],
   "source": [
    "sns.scatterplot(data=analysis_df, x=\"y\", y=\"error\", hue=\"dataset\")\n",
    "plt.show()"
   ],
   "metadata": {
    "collapsed": false,
    "pycharm": {
     "name": "#%%\n"
    }
   }
  },
  {
   "cell_type": "code",
   "execution_count": null,
   "outputs": [],
   "source": [
    "sns.scatterplot(data=analysis_df, x=\"accuracy\", y=\"y\", hue=\"dataset\")\n",
    "plt.show()"
   ],
   "metadata": {
    "collapsed": false,
    "pycharm": {
     "name": "#%%\n"
    }
   }
  },
  {
   "cell_type": "code",
   "execution_count": null,
   "outputs": [],
   "source": [
    "sns.displot(data=analysis_df, x=\"y\", hue=\"dataset\", multiple=\"stack\")\n",
    "plt.show()"
   ],
   "metadata": {
    "collapsed": false,
    "pycharm": {
     "name": "#%%\n"
    }
   }
  },
  {
   "cell_type": "code",
   "execution_count": null,
   "outputs": [],
   "source": [
    "df.columns"
   ],
   "metadata": {
    "collapsed": false,
    "pycharm": {
     "name": "#%%\n"
    }
   }
  },
  {
   "cell_type": "code",
   "execution_count": null,
   "outputs": [],
   "source": [
    "method.get_parameters()"
   ],
   "metadata": {
    "collapsed": false,
    "pycharm": {
     "name": "#%%\n"
    }
   }
  },
  {
   "cell_type": "code",
   "execution_count": null,
   "outputs": [],
   "source": [
    "df['Thermal feeling (global)'].value_counts()"
   ],
   "metadata": {
    "collapsed": false,
    "pycharm": {
     "name": "#%%\n"
    }
   }
  }
 ],
 "metadata": {
  "kernelspec": {
   "display_name": "Python 3",
   "language": "python",
   "name": "python3"
  },
  "language_info": {
   "codemirror_mode": {
    "name": "ipython",
    "version": 2
   },
   "file_extension": ".py",
   "mimetype": "text/x-python",
   "name": "python",
   "nbconvert_exporter": "python",
   "pygments_lexer": "ipython2",
   "version": "2.7.6"
  }
 },
 "nbformat": 4,
 "nbformat_minor": 0
}