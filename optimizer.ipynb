{
 "cells": [
  {
   "cell_type": "markdown",
   "source": [
    "# Optimizer\n",
    "Gets data and uses it to optimize a method (imported from method.py) using a loss function and tests it against unseen data.\n",
    "TODO:\n",
    "- Cross Validation implementation\n"
   ],
   "metadata": {
    "collapsed": false
   }
  },
  {
   "cell_type": "code",
   "execution_count": 757,
   "outputs": [],
   "source": [
    "import pandas as pd\n",
    "import matplotlib.pyplot as plt\n",
    "import torch\n",
    "import torch.optim as optim"
   ],
   "metadata": {
    "collapsed": false,
    "pycharm": {
     "name": "#%%\n"
    }
   }
  },
  {
   "cell_type": "markdown",
   "source": [
    "# Import data"
   ],
   "metadata": {
    "collapsed": false
   }
  },
  {
   "cell_type": "code",
   "execution_count": 758,
   "metadata": {
    "collapsed": true
   },
   "outputs": [],
   "source": [
    "### Load the data\n",
    "data_path = 'data/data_complete_2022-06-09.csv'\n",
    "df = pd.read_csv(data_path)"
   ]
  },
  {
   "cell_type": "markdown",
   "source": [
    "# Scale Data"
   ],
   "metadata": {
    "collapsed": false
   }
  },
  {
   "cell_type": "code",
   "execution_count": 759,
   "outputs": [],
   "source": [
    "from sklearn.preprocessing import StandardScaler, MinMaxScaler\n",
    "scaler = StandardScaler()\n",
    "X = scaler.fit_transform(df)\n",
    "y = X[:,-1]\n",
    "x = X[:,:-1]"
   ],
   "metadata": {
    "collapsed": false,
    "pycharm": {
     "name": "#%%\n"
    }
   }
  },
  {
   "cell_type": "code",
   "execution_count": 760,
   "outputs": [
    {
     "data": {
      "text/plain": "array([[ 0.46214252, -0.07387218,  0.77339749, ...,  0.13553882,\n        -0.63377728,  0.56679165],\n       [ 0.44254906,  0.07437134,  0.87610416, ...,  1.94786151,\n         0.6931939 , -0.33417059],\n       [ 0.46214252,  0.16806124,  0.7538091 , ..., -1.55985983,\n        -0.63377728, -0.70698256],\n       ...,\n       [-1.06418822, -0.3086899 ,  0.12221604, ...,  1.07093118,\n         0.6931939 , -0.17883227],\n       [-1.02500129,  0.08860271, -0.62267202, ..., -0.62446747,\n         0.6931939 ,  1.34348325],\n       [-1.06418822,  0.13722659, -0.75661422, ..., -4.19065084,\n        -0.63377728,  1.93376886]])"
     },
     "execution_count": 760,
     "metadata": {},
     "output_type": "execute_result"
    }
   ],
   "source": [
    "x"
   ],
   "metadata": {
    "collapsed": false,
    "pycharm": {
     "name": "#%%\n"
    }
   }
  },
  {
   "cell_type": "markdown",
   "source": [
    "# Cross Validation Split #TODO"
   ],
   "metadata": {
    "collapsed": false
   }
  },
  {
   "cell_type": "markdown",
   "source": [
    "# Train Test Split"
   ],
   "metadata": {
    "collapsed": false
   }
  },
  {
   "cell_type": "code",
   "execution_count": 761,
   "outputs": [],
   "source": [
    "from sklearn.model_selection import train_test_split\n",
    "dtype = torch.float\n",
    "x_train, x_test, y_train, y_test = train_test_split(x, y, test_size=0.2)\n",
    "x_train = torch.tensor(x_train,dtype=dtype)\n",
    "x_test = torch.tensor(x_test, dtype=dtype)\n",
    "y_test = torch.tensor(y_test, dtype=dtype).reshape(-1,1)\n",
    "y_train = torch.tensor(y_train, dtype=dtype).reshape(-1,1)"
   ],
   "metadata": {
    "collapsed": false,
    "pycharm": {
     "name": "#%%\n"
    }
   }
  },
  {
   "cell_type": "markdown",
   "source": [
    "# Train"
   ],
   "metadata": {
    "collapsed": false
   }
  },
  {
   "cell_type": "code",
   "execution_count": 762,
   "outputs": [
    {
     "name": "stdout",
     "output_type": "stream",
     "text": [
      "Epoch: 0, train loss: 1.2108954191207886, test loss: 0.9960529208183289\n",
      "Epoch: 100, train loss: 0.949776828289032, test loss: 1.0288408994674683\n",
      "Epoch: 200, train loss: 0.9477390050888062, test loss: 1.0388519763946533\n",
      "Epoch: 300, train loss: 0.9474000930786133, test loss: 1.041847586631775\n",
      "Epoch: 400, train loss: 0.9472910761833191, test loss: 1.0430020093917847\n",
      "Epoch: 500, train loss: 0.9472619891166687, test loss: 1.0436269044876099\n",
      "Epoch: 600, train loss: 0.9472562074661255, test loss: 1.0439358949661255\n",
      "Epoch: 700, train loss: 0.9472551345825195, test loss: 1.0440672636032104\n",
      "Epoch: 800, train loss: 0.9472549557685852, test loss: 1.0441155433654785\n",
      "Epoch: 900, train loss: 0.9472549557685852, test loss: 1.0441309213638306\n"
     ]
    },
    {
     "data": {
      "text/plain": "<Figure size 432x288 with 1 Axes>",
      "image/png": "[encoded data removed]"
     },
     "metadata": {
      "needs_background": "light"
     },
     "output_type": "display_data"
    }
   ],
   "source": [
    "import time\n",
    "from torch.optim.lr_scheduler import ExponentialLR\n",
    "from methods import *\n",
    "from torch import nn\n",
    "\n",
    "epochs = 1000\n",
    "#seed=3\n",
    "#torch.manual_seed(seed)\n",
    "method = Linear(input_size=x_train.shape[1])\n",
    "criterion = nn.MSELoss()\n",
    "params_to_be_optimized = method.get_parameters()\n",
    "optimizer = optim.Adam(params_to_be_optimized, lr=0.01)\n",
    "#scheduler = ExponentialLR(optimizer, gamma=0.999)\n",
    "train_losses = []\n",
    "test_losses = []\n",
    "\n",
    "for epoch in range(epochs):\n",
    "  iteration_time = time.time()\n",
    "  optimizer.zero_grad()\n",
    "\n",
    "  # forward pass\n",
    "  y_train_predicted = method.predict(x_train)\n",
    "  loss = criterion(y_train_predicted, y_train)\n",
    "\n",
    "  # backward pass\n",
    "  loss.backward()\n",
    "  optimizer.step()\n",
    "  #scheduler.step()\n",
    "\n",
    "\n",
    "  with torch.no_grad():\n",
    "\n",
    "    y_train_predicted = method.predict(x_train)\n",
    "    train_loss = criterion(y_train_predicted, y_train)\n",
    "    train_losses.append(train_loss)\n",
    "\n",
    "    y_test_predicted = method.predict(x_test)\n",
    "    test_loss = criterion(y_test_predicted, y_test)\n",
    "    test_losses.append(test_loss)\n",
    "\n",
    "    if epoch%100==0:\n",
    "      print(f'Epoch: {epoch}, train loss: {train_loss}, test loss: {test_loss}')\n",
    "\n",
    "plt.plot(train_losses, label='train loss')\n",
    "plt.plot(test_losses, label='test loss')\n",
    "plt.legend()\n",
    "plt.show()"
   ],
   "metadata": {
    "collapsed": false,
    "pycharm": {
     "name": "#%%\n"
    }
   }
  },
  {
   "cell_type": "markdown",
   "source": [
    "# Test results"
   ],
   "metadata": {
    "collapsed": false
   }
  },
  {
   "cell_type": "code",
   "execution_count": 763,
   "outputs": [],
   "source": [
    "# Rescale test result to original values\n",
    "zeros = np.zeros(x_test.shape)\n",
    "test_predicted = np.concatenate((zeros, method.predict(x_test).detach().numpy()),axis=1)\n",
    "test_predicted= scaler.inverse_transform(test_predicted)[:,-1]\n",
    "\n",
    "test_target = np.concatenate((zeros, y_test.detach().numpy()),axis=1)\n",
    "test_target = scaler.inverse_transform(test_target)[:,-1]"
   ],
   "metadata": {
    "collapsed": false,
    "pycharm": {
     "name": "#%%\n"
    }
   }
  },
  {
   "cell_type": "code",
   "execution_count": 764,
   "outputs": [],
   "source": [
    "# Calculate percentage error\n",
    "percentage_error = np.abs((test_target - test_predicted)/test_target)"
   ],
   "metadata": {
    "collapsed": false,
    "pycharm": {
     "name": "#%%\n"
    }
   }
  },
  {
   "cell_type": "code",
   "execution_count": 765,
   "outputs": [
    {
     "data": {
      "text/plain": "<Figure size 432x288 with 1 Axes>",
      "image/png": "[encoded data removed]"
     },
     "metadata": {
      "needs_background": "light"
     },
     "output_type": "display_data"
    }
   ],
   "source": [
    "# Plot histogram of percentage error\n",
    "plt.hist(percentage_error)\n",
    "plt.show()"
   ],
   "metadata": {
    "collapsed": false,
    "pycharm": {
     "name": "#%%\n"
    }
   }
  }
 ],
 "metadata": {
  "kernelspec": {
   "display_name": "Python 3",
   "language": "python",
   "name": "python3"
  },
  "language_info": {
   "codemirror_mode": {
    "name": "ipython",
    "version": 2
   },
   "file_extension": ".py",
   "mimetype": "text/x-python",
   "name": "python",
   "nbconvert_exporter": "python",
   "pygments_lexer": "ipython2",
   "version": "2.7.6"
  }
 },
 "nbformat": 4,
 "nbformat_minor": 0
}