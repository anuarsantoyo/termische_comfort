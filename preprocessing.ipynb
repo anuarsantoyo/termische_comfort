{
 "cells": [
  {
   "cell_type": "markdown",
   "source": [
    "# Preprocess data of different files\n",
    "From raw survey data relevant columns are extracted converted to numerical values and used to create new interesting columns. It outputs the data to the output_path specified.\n"
   ],
   "metadata": {
    "collapsed": false,
    "pycharm": {
     "name": "#%% md\n"
    }
   }
  },
  {
   "cell_type": "code",
   "execution_count": 2,
   "metadata": {
    "collapsed": true,
    "pycharm": {
     "name": "#%%\n"
    }
   },
   "outputs": [],
   "source": [
    "import pandas as pd\n",
    "import numpy as np\n",
    "import matplotlib.pyplot as plt\n",
    "import openpyxl\n",
    "from datetime import datetime"
   ]
  },
  {
   "cell_type": "markdown",
   "source": [
    "# Preprocessing of Daten_Messung_210826_Gelenkbus_5430.xlsx and Daten_Messung_211123_Gelenkbus_5431.xlsx"
   ],
   "metadata": {
    "collapsed": false,
    "pycharm": {
     "name": "#%% md\n"
    }
   }
  },
  {
   "cell_type": "code",
   "execution_count": 3,
   "outputs": [],
   "source": [
    "# Importing survey data\n",
    "data_path = 'data/raw/Daten_Messung_210826_Gelenkbus_5430.xlsx'\n",
    "df1 = pd.read_excel(data_path, index_col=0)\n",
    "df1['dataset'] = 'August'\n",
    "\n",
    "data_path = 'data/raw/Daten_Messung_211123_Gelenkbus_5431.xlsx'\n",
    "df2 = pd.read_excel(data_path, index_col=0)\n",
    "df2['dataset'] = 'November'\n",
    "\n",
    "data_path = 'data/raw/Daten_Messung_220330_Gelenkbus_5431.xlsx'\n",
    "df3 = pd.read_excel(data_path, index_col=0)\n",
    "df3['dataset'] = 'March'\n",
    "\n",
    "data_path = 'data/raw/Daten_Messung_220407_Gelenkbus_5430.xlsx'\n",
    "df4 = pd.read_excel(data_path, index_col=0)\n",
    "df4['dataset'] = 'April'\n",
    "\n",
    "output_path = 'data/output/data_complete_grouped_'+ datetime.date(datetime.now()).__str__() + '.csv'"
   ],
   "metadata": {
    "collapsed": false,
    "pycharm": {
     "name": "#%%\n"
    }
   }
  },
  {
   "cell_type": "code",
   "execution_count": 4,
   "outputs": [],
   "source": [
    "df = pd.concat([df1, df2, df3, df4])"
   ],
   "metadata": {
    "collapsed": false,
    "pycharm": {
     "name": "#%%\n"
    }
   }
  },
  {
   "cell_type": "code",
   "execution_count": 5,
   "outputs": [
    {
     "data": {
      "text/plain": "                             Outside Temperature  Avg. Temperature  \\\nTimestamp                                                            \n2021-08-26 08:52:06.795000                 15.69            18.560   \n2021-08-28 08:53:29.827000                 15.59            19.185   \n2021-08-26 08:57:16.568000                 15.69            19.580   \n2021-08-26 08:57:34.979000                 15.69            19.105   \n2021-08-26 08:58:22.123000                 15.69            19.050   \n...                                          ...               ...   \n2022/04/07 4:37:58 PM GMT+2                 7.90            16.460   \n2022/04/07 4:38:06 PM GMT+2                 7.90            17.325   \n2022/04/07 4:42:09 PM GMT+2                 7.70            17.020   \n2022/04/07 4:56:28 PM GMT+2                 6.90            16.210   \n2022/04/07 4:56:34 PM GMT+2                 6.90            15.060   \n\n                             Feet temperature  Temperature difference      RH  \\\nTimestamp                                                                       \n2021-08-26 08:52:06.795000             17.440                   2.920  73.440   \n2021-08-28 08:53:29.827000             19.220                   1.650  74.410   \n2021-08-26 08:57:16.568000             18.965                   1.745  73.255   \n2021-08-26 08:57:34.979000             19.030                   1.615  73.275   \n2021-08-26 08:58:22.123000             16.810                   3.470  77.180   \n...                                       ...                     ...     ...   \n2022/04/07 4:37:58 PM GMT+2            15.500                   1.370  62.940   \n2022/04/07 4:38:06 PM GMT+2            14.220                   4.035  58.420   \n2022/04/07 4:42:09 PM GMT+2            15.380                   1.920  69.170   \n2022/04/07 4:56:28 PM GMT+2            13.060                   5.560  67.600   \n2022/04/07 4:56:34 PM GMT+2            16.890                   2.050  64.160   \n\n                                va      Tg  Gender  Age  Height  ...  \\\nTimestamp                                                        ...   \n2021-08-26 08:52:06.795000   0.040  17.870       0   23     169  ...   \n2021-08-28 08:53:29.827000   0.155  18.125       1   18     186  ...   \n2021-08-26 08:57:16.568000   0.020  18.905       0   33     160  ...   \n2021-08-26 08:57:34.979000   0.240  18.155       0   26     167  ...   \n2021-08-26 08:58:22.123000   0.240  18.620       0   47     172  ...   \n...                            ...     ...     ...  ...     ...  ...   \n2022/04/07 4:37:58 PM GMT+2  0.020  17.060       0   43     163  ...   \n2022/04/07 4:38:06 PM GMT+2  0.080  19.155       1   26     180  ...   \n2022/04/07 4:42:09 PM GMT+2  0.070  16.690       1   27     185  ...   \n2022/04/07 4:56:28 PM GMT+2    NaN  16.120       0   30     160  ...   \n2022/04/07 4:56:34 PM GMT+2  0.050  16.690       0   30     165  ...   \n\n                             Thermal comfort (global)  Thermal comfort (head)  \\\nTimestamp                                                                       \n2021-08-26 08:52:06.795000                          0                     0.0   \n2021-08-28 08:53:29.827000                          0                     0.0   \n2021-08-26 08:57:16.568000                          0                     0.0   \n2021-08-26 08:57:34.979000                          1                     1.0   \n2021-08-26 08:58:22.123000                          0                     0.0   \n...                                               ...                     ...   \n2022/04/07 4:37:58 PM GMT+2                         0                     0.0   \n2022/04/07 4:38:06 PM GMT+2                         0                     0.0   \n2022/04/07 4:42:09 PM GMT+2                         1                     1.0   \n2022/04/07 4:56:28 PM GMT+2                         1                     1.0   \n2022/04/07 4:56:34 PM GMT+2                         0                     0.0   \n\n                             Thermal comfort (hands)  Thermal comfort (feet)  \\\nTimestamp                                                                      \n2021-08-26 08:52:06.795000                       0.0                     0.0   \n2021-08-28 08:53:29.827000                       0.0                     0.0   \n2021-08-26 08:57:16.568000                       0.0                     0.0   \n2021-08-26 08:57:34.979000                       1.0                     1.0   \n2021-08-26 08:58:22.123000                       0.0                     0.0   \n...                                              ...                     ...   \n2022/04/07 4:37:58 PM GMT+2                      0.0                     0.0   \n2022/04/07 4:38:06 PM GMT+2                      0.0                     1.0   \n2022/04/07 4:42:09 PM GMT+2                      1.0                     2.0   \n2022/04/07 4:56:28 PM GMT+2                      0.0                     0.0   \n2022/04/07 4:56:34 PM GMT+2                      0.0                     0.0   \n\n                                                     Position  Window / alley  \\\nTimestamp                                                                       \n2021-08-26 08:52:06.795000                      Gelenkbereich            Gang   \n2021-08-28 08:53:29.827000                  Hinterwagen - Tür            Gang   \n2021-08-26 08:57:16.568000        Hinterwagen - Hinterbereich         Fenster   \n2021-08-26 08:57:34.979000                  Hinterwagen - Tür         Fenster   \n2021-08-26 08:58:22.123000          Vorderwagen - Vordere Tür            Gang   \n...                                                       ...             ...   \n2022/04/07 4:37:58 PM GMT+2  Vorderwagen - Zwischen den Türen            Gang   \n2022/04/07 4:38:06 PM GMT+2       Hinterwagen - Hinterbereich         Fenster   \n2022/04/07 4:42:09 PM GMT+2  Vorderwagen - Zwischen den Türen         Fenster   \n2022/04/07 4:56:28 PM GMT+2         Vorderwagen - Hintere Tür         Fenster   \n2022/04/07 4:56:34 PM GMT+2  Vorderwagen - Zwischen den Türen         Fenster   \n\n                                             Duration      Icl  dataset  \\\nTimestamp                                                                 \n2021-08-26 08:52:06.795000     Weniger als 15 Minuten  1.06280   August   \n2021-08-28 08:53:29.827000           15 to 30 minutes  0.82065   August   \n2021-08-26 08:57:16.568000       Less than 15 minutes  0.72045   August   \n2021-08-26 08:57:34.979000     Weniger als 15 Minuten  0.65365   August   \n2021-08-26 08:58:22.123000     Weniger als 15 Minuten  0.74550   August   \n...                                               ...      ...      ...   \n2022/04/07 4:37:58 PM GMT+2                       NaN  1.16300    April   \n2022/04/07 4:38:06 PM GMT+2  Between 0 and 20 minutes  1.27155    April   \n2022/04/07 4:42:09 PM GMT+2   Between 0 and 5 minutes  1.09620    April   \n2022/04/07 4:56:28 PM GMT+2  Between 0 and 15 minutes  1.29660    April   \n2022/04/07 4:56:34 PM GMT+2  Between 0 and 15 minutes  1.84770    April   \n\n                             Activity  \nTimestamp                              \n2021-08-26 08:52:06.795000        NaN  \n2021-08-28 08:53:29.827000        NaN  \n2021-08-26 08:57:16.568000        NaN  \n2021-08-26 08:57:34.979000        NaN  \n2021-08-26 08:58:22.123000        NaN  \n...                               ...  \n2022/04/07 4:37:58 PM GMT+2       1.0  \n2022/04/07 4:38:06 PM GMT+2       1.0  \n2022/04/07 4:42:09 PM GMT+2       1.0  \n2022/04/07 4:56:28 PM GMT+2       1.0  \n2022/04/07 4:56:34 PM GMT+2       1.0  \n\n[299 rows x 26 columns]",
      "text/html": "<div>\n<style scoped>\n    .dataframe tbody tr th:only-of-type {\n        vertical-align: middle;\n    }\n\n    .dataframe tbody tr th {\n        vertical-align: top;\n    }\n\n    .dataframe thead th {\n        text-align: right;\n    }\n</style>\n<table border=\"1\" class=\"dataframe\">\n  <thead>\n    <tr style=\"text-align: right;\">\n      <th></th>\n      <th>Outside Temperature</th>\n      <th>Avg. Temperature</th>\n      <th>Feet temperature</th>\n      <th>Temperature difference</th>\n      <th>RH</th>\n      <th>va</th>\n      <th>Tg</th>\n      <th>Gender</th>\n      <th>Age</th>\n      <th>Height</th>\n      <th>...</th>\n      <th>Thermal comfort (global)</th>\n      <th>Thermal comfort (head)</th>\n      <th>Thermal comfort (hands)</th>\n      <th>Thermal comfort (feet)</th>\n      <th>Position</th>\n      <th>Window / alley</th>\n      <th>Duration</th>\n      <th>Icl</th>\n      <th>dataset</th>\n      <th>Activity</th>\n    </tr>\n    <tr>\n      <th>Timestamp</th>\n      <th></th>\n      <th></th>\n      <th></th>\n      <th></th>\n      <th></th>\n      <th></th>\n      <th></th>\n      <th></th>\n      <th></th>\n      <th></th>\n      <th></th>\n      <th></th>\n      <th></th>\n      <th></th>\n      <th></th>\n      <th></th>\n      <th></th>\n      <th></th>\n      <th></th>\n      <th></th>\n      <th></th>\n    </tr>\n  </thead>\n  <tbody>\n    <tr>\n      <th>2021-08-26 08:52:06.795000</th>\n      <td>15.69</td>\n      <td>18.560</td>\n      <td>17.440</td>\n      <td>2.920</td>\n      <td>73.440</td>\n      <td>0.040</td>\n      <td>17.870</td>\n      <td>0</td>\n      <td>23</td>\n      <td>169</td>\n      <td>...</td>\n      <td>0</td>\n      <td>0.0</td>\n      <td>0.0</td>\n      <td>0.0</td>\n      <td>Gelenkbereich</td>\n      <td>Gang</td>\n      <td>Weniger als 15 Minuten</td>\n      <td>1.06280</td>\n      <td>August</td>\n      <td>NaN</td>\n    </tr>\n    <tr>\n      <th>2021-08-28 08:53:29.827000</th>\n      <td>15.59</td>\n      <td>19.185</td>\n      <td>19.220</td>\n      <td>1.650</td>\n      <td>74.410</td>\n      <td>0.155</td>\n      <td>18.125</td>\n      <td>1</td>\n      <td>18</td>\n      <td>186</td>\n      <td>...</td>\n      <td>0</td>\n      <td>0.0</td>\n      <td>0.0</td>\n      <td>0.0</td>\n      <td>Hinterwagen - Tür</td>\n      <td>Gang</td>\n      <td>15 to 30 minutes</td>\n      <td>0.82065</td>\n      <td>August</td>\n      <td>NaN</td>\n    </tr>\n    <tr>\n      <th>2021-08-26 08:57:16.568000</th>\n      <td>15.69</td>\n      <td>19.580</td>\n      <td>18.965</td>\n      <td>1.745</td>\n      <td>73.255</td>\n      <td>0.020</td>\n      <td>18.905</td>\n      <td>0</td>\n      <td>33</td>\n      <td>160</td>\n      <td>...</td>\n      <td>0</td>\n      <td>0.0</td>\n      <td>0.0</td>\n      <td>0.0</td>\n      <td>Hinterwagen - Hinterbereich</td>\n      <td>Fenster</td>\n      <td>Less than 15 minutes</td>\n      <td>0.72045</td>\n      <td>August</td>\n      <td>NaN</td>\n    </tr>\n    <tr>\n      <th>2021-08-26 08:57:34.979000</th>\n      <td>15.69</td>\n      <td>19.105</td>\n      <td>19.030</td>\n      <td>1.615</td>\n      <td>73.275</td>\n      <td>0.240</td>\n      <td>18.155</td>\n      <td>0</td>\n      <td>26</td>\n      <td>167</td>\n      <td>...</td>\n      <td>1</td>\n      <td>1.0</td>\n      <td>1.0</td>\n      <td>1.0</td>\n      <td>Hinterwagen - Tür</td>\n      <td>Fenster</td>\n      <td>Weniger als 15 Minuten</td>\n      <td>0.65365</td>\n      <td>August</td>\n      <td>NaN</td>\n    </tr>\n    <tr>\n      <th>2021-08-26 08:58:22.123000</th>\n      <td>15.69</td>\n      <td>19.050</td>\n      <td>16.810</td>\n      <td>3.470</td>\n      <td>77.180</td>\n      <td>0.240</td>\n      <td>18.620</td>\n      <td>0</td>\n      <td>47</td>\n      <td>172</td>\n      <td>...</td>\n      <td>0</td>\n      <td>0.0</td>\n      <td>0.0</td>\n      <td>0.0</td>\n      <td>Vorderwagen - Vordere Tür</td>\n      <td>Gang</td>\n      <td>Weniger als 15 Minuten</td>\n      <td>0.74550</td>\n      <td>August</td>\n      <td>NaN</td>\n    </tr>\n    <tr>\n      <th>...</th>\n      <td>...</td>\n      <td>...</td>\n      <td>...</td>\n      <td>...</td>\n      <td>...</td>\n      <td>...</td>\n      <td>...</td>\n      <td>...</td>\n      <td>...</td>\n      <td>...</td>\n      <td>...</td>\n      <td>...</td>\n      <td>...</td>\n      <td>...</td>\n      <td>...</td>\n      <td>...</td>\n      <td>...</td>\n      <td>...</td>\n      <td>...</td>\n      <td>...</td>\n      <td>...</td>\n    </tr>\n    <tr>\n      <th>2022/04/07 4:37:58 PM GMT+2</th>\n      <td>7.90</td>\n      <td>16.460</td>\n      <td>15.500</td>\n      <td>1.370</td>\n      <td>62.940</td>\n      <td>0.020</td>\n      <td>17.060</td>\n      <td>0</td>\n      <td>43</td>\n      <td>163</td>\n      <td>...</td>\n      <td>0</td>\n      <td>0.0</td>\n      <td>0.0</td>\n      <td>0.0</td>\n      <td>Vorderwagen - Zwischen den Türen</td>\n      <td>Gang</td>\n      <td>NaN</td>\n      <td>1.16300</td>\n      <td>April</td>\n      <td>1.0</td>\n    </tr>\n    <tr>\n      <th>2022/04/07 4:38:06 PM GMT+2</th>\n      <td>7.90</td>\n      <td>17.325</td>\n      <td>14.220</td>\n      <td>4.035</td>\n      <td>58.420</td>\n      <td>0.080</td>\n      <td>19.155</td>\n      <td>1</td>\n      <td>26</td>\n      <td>180</td>\n      <td>...</td>\n      <td>0</td>\n      <td>0.0</td>\n      <td>0.0</td>\n      <td>1.0</td>\n      <td>Hinterwagen - Hinterbereich</td>\n      <td>Fenster</td>\n      <td>Between 0 and 20 minutes</td>\n      <td>1.27155</td>\n      <td>April</td>\n      <td>1.0</td>\n    </tr>\n    <tr>\n      <th>2022/04/07 4:42:09 PM GMT+2</th>\n      <td>7.70</td>\n      <td>17.020</td>\n      <td>15.380</td>\n      <td>1.920</td>\n      <td>69.170</td>\n      <td>0.070</td>\n      <td>16.690</td>\n      <td>1</td>\n      <td>27</td>\n      <td>185</td>\n      <td>...</td>\n      <td>1</td>\n      <td>1.0</td>\n      <td>1.0</td>\n      <td>2.0</td>\n      <td>Vorderwagen - Zwischen den Türen</td>\n      <td>Fenster</td>\n      <td>Between 0 and 5 minutes</td>\n      <td>1.09620</td>\n      <td>April</td>\n      <td>1.0</td>\n    </tr>\n    <tr>\n      <th>2022/04/07 4:56:28 PM GMT+2</th>\n      <td>6.90</td>\n      <td>16.210</td>\n      <td>13.060</td>\n      <td>5.560</td>\n      <td>67.600</td>\n      <td>NaN</td>\n      <td>16.120</td>\n      <td>0</td>\n      <td>30</td>\n      <td>160</td>\n      <td>...</td>\n      <td>1</td>\n      <td>1.0</td>\n      <td>0.0</td>\n      <td>0.0</td>\n      <td>Vorderwagen - Hintere Tür</td>\n      <td>Fenster</td>\n      <td>Between 0 and 15 minutes</td>\n      <td>1.29660</td>\n      <td>April</td>\n      <td>1.0</td>\n    </tr>\n    <tr>\n      <th>2022/04/07 4:56:34 PM GMT+2</th>\n      <td>6.90</td>\n      <td>15.060</td>\n      <td>16.890</td>\n      <td>2.050</td>\n      <td>64.160</td>\n      <td>0.050</td>\n      <td>16.690</td>\n      <td>0</td>\n      <td>30</td>\n      <td>165</td>\n      <td>...</td>\n      <td>0</td>\n      <td>0.0</td>\n      <td>0.0</td>\n      <td>0.0</td>\n      <td>Vorderwagen - Zwischen den Türen</td>\n      <td>Fenster</td>\n      <td>Between 0 and 15 minutes</td>\n      <td>1.84770</td>\n      <td>April</td>\n      <td>1.0</td>\n    </tr>\n  </tbody>\n</table>\n<p>299 rows × 26 columns</p>\n</div>"
     },
     "execution_count": 5,
     "metadata": {},
     "output_type": "execute_result"
    }
   ],
   "source": [
    "df"
   ],
   "metadata": {
    "collapsed": false,
    "pycharm": {
     "name": "#%%\n"
    }
   }
  },
  {
   "cell_type": "code",
   "execution_count": 5,
   "outputs": [
    {
     "data": {
      "text/plain": "Index(['Outside Temperature', 'Avg. Temperature', 'Feet temperature',\n       'Temperature difference', 'RH', 'va', 'Tg', 'Gender', 'Age', 'Height',\n       'Weight', 'Well-being', 'Thermal feeling (global)',\n       'Thermal feeling (head)', 'Thermal feeling (hands)',\n       'Thermal feeling (feet)', 'Thermal comfort (global)',\n       'Thermal comfort (head)', 'Thermal comfort (hands)',\n       'Thermal comfort (feet)', 'Position', 'Window / alley', 'Duration',\n       'Icl', 'dataset', 'Activity'],\n      dtype='object')"
     },
     "execution_count": 5,
     "metadata": {},
     "output_type": "execute_result"
    }
   ],
   "source": [
    "df.columns"
   ],
   "metadata": {
    "collapsed": false,
    "pycharm": {
     "name": "#%%\n"
    }
   }
  },
  {
   "cell_type": "code",
   "execution_count": 6,
   "outputs": [
    {
     "data": {
      "text/plain": "<Figure size 447.625x360 with 1 Axes>",
      "image/png": "[encoded data removed]"
     },
     "metadata": {
      "needs_background": "light"
     },
     "output_type": "display_data"
    }
   ],
   "source": [
    "import seaborn as sns\n",
    "\n",
    "sns.displot(data=df.reset_index(), x='Thermal feeling (global)', hue=\"dataset\", multiple=\"stack\")\n",
    "plt.show()"
   ],
   "metadata": {
    "collapsed": false,
    "pycharm": {
     "name": "#%%\n"
    }
   }
  },
  {
   "cell_type": "code",
   "execution_count": 7,
   "outputs": [
    {
     "data": {
      "text/plain": "       Outside Temperature  Avg. Temperature  Feet temperature  \\\ncount           299.000000        299.000000        299.000000   \nmean             12.634448         18.432746         16.881187   \nstd               4.514432          3.787157          4.456206   \nmin               5.200000         10.640000          2.545000   \n25%               7.900000         16.047500         13.017500   \n50%              13.100000         19.120000         17.870000   \n75%              17.150000         21.375000         20.030000   \nmax              19.200000         24.925000         25.095000   \n\n       Temperature difference          RH          va          Tg      Gender  \\\ncount              299.000000  299.000000  289.000000  299.000000  299.000000   \nmean                 2.538783   60.938512    0.108858   18.181388    0.458194   \nstd                  1.302612   12.479144    0.100342    4.000130    0.499084   \nmin                  0.845000   31.980000    0.000000    9.810000    0.000000   \n25%                  1.630000   54.180000    0.030000   14.630000    0.000000   \n50%                  2.240000   60.850000    0.080000   18.690000    0.000000   \n75%                  3.022500   71.700000    0.160000   21.220000    1.000000   \nmax                  7.830000   86.160000    0.705000   25.310000    1.000000   \n\n              Age      Height  ...  Thermal feeling (global)  \\\ncount  299.000000  299.000000  ...                299.000000   \nmean    37.301003  171.983278  ...                 -0.003344   \nstd     17.546765   14.600372  ...                  1.210963   \nmin      0.000000    0.000000  ...                 -3.000000   \n25%     24.000000  165.000000  ...                 -1.000000   \n50%     34.000000  172.000000  ...                  0.000000   \n75%     47.000000  180.000000  ...                  1.000000   \nmax     87.000000  200.000000  ...                  3.000000   \n\n       Thermal feeling (head)  Thermal feeling (hands)  \\\ncount              297.000000               298.000000   \nmean                 0.124579                 0.073826   \nstd                  1.115600                 5.970290   \nmin                 -3.000000                -3.000000   \n25%                  0.000000                -1.000000   \n50%                  0.000000                 0.000000   \n75%                  1.000000                 0.000000   \nmax                  3.000000               100.000000   \n\n       Thermal feeling (feet)  Thermal comfort (global)  \\\ncount              297.000000                299.000000   \nmean                -0.117845                  0.321070   \nstd                  1.369153                  0.576897   \nmin                 -3.000000                  0.000000   \n25%                 -1.000000                  0.000000   \n50%                  0.000000                  0.000000   \n75%                  1.000000                  1.000000   \nmax                  2.000000                  3.000000   \n\n       Thermal comfort (head)  Thermal comfort (hands)  \\\ncount              298.000000               298.000000   \nmean                 0.265101                 0.328859   \nstd                  0.544507                 0.618927   \nmin                  0.000000                 0.000000   \n25%                  0.000000                 0.000000   \n50%                  0.000000                 0.000000   \n75%                  0.000000                 1.000000   \nmax                  3.000000                 3.000000   \n\n       Thermal comfort (feet)         Icl    Activity  \ncount              298.000000  299.000000  166.000000  \nmean                 0.352349    0.965281    0.987952  \nstd                  0.646158    0.268261    0.109431  \nmin                  0.000000    0.311300    0.000000  \n25%                  0.000000    0.753850    1.000000  \n50%                  0.000000    0.970950    1.000000  \n75%                  1.000000    1.167175    1.000000  \nmax                  3.000000    1.847700    1.000000  \n\n[8 rows x 22 columns]",
      "text/html": "<div>\n<style scoped>\n    .dataframe tbody tr th:only-of-type {\n        vertical-align: middle;\n    }\n\n    .dataframe tbody tr th {\n        vertical-align: top;\n    }\n\n    .dataframe thead th {\n        text-align: right;\n    }\n</style>\n<table border=\"1\" class=\"dataframe\">\n  <thead>\n    <tr style=\"text-align: right;\">\n      <th></th>\n      <th>Outside Temperature</th>\n      <th>Avg. Temperature</th>\n      <th>Feet temperature</th>\n      <th>Temperature difference</th>\n      <th>RH</th>\n      <th>va</th>\n      <th>Tg</th>\n      <th>Gender</th>\n      <th>Age</th>\n      <th>Height</th>\n      <th>...</th>\n      <th>Thermal feeling (global)</th>\n      <th>Thermal feeling (head)</th>\n      <th>Thermal feeling (hands)</th>\n      <th>Thermal feeling (feet)</th>\n      <th>Thermal comfort (global)</th>\n      <th>Thermal comfort (head)</th>\n      <th>Thermal comfort (hands)</th>\n      <th>Thermal comfort (feet)</th>\n      <th>Icl</th>\n      <th>Activity</th>\n    </tr>\n  </thead>\n  <tbody>\n    <tr>\n      <th>count</th>\n      <td>299.000000</td>\n      <td>299.000000</td>\n      <td>299.000000</td>\n      <td>299.000000</td>\n      <td>299.000000</td>\n      <td>289.000000</td>\n      <td>299.000000</td>\n      <td>299.000000</td>\n      <td>299.000000</td>\n      <td>299.000000</td>\n      <td>...</td>\n      <td>299.000000</td>\n      <td>297.000000</td>\n      <td>298.000000</td>\n      <td>297.000000</td>\n      <td>299.000000</td>\n      <td>298.000000</td>\n      <td>298.000000</td>\n      <td>298.000000</td>\n      <td>299.000000</td>\n      <td>166.000000</td>\n    </tr>\n    <tr>\n      <th>mean</th>\n      <td>12.634448</td>\n      <td>18.432746</td>\n      <td>16.881187</td>\n      <td>2.538783</td>\n      <td>60.938512</td>\n      <td>0.108858</td>\n      <td>18.181388</td>\n      <td>0.458194</td>\n      <td>37.301003</td>\n      <td>171.983278</td>\n      <td>...</td>\n      <td>-0.003344</td>\n      <td>0.124579</td>\n      <td>0.073826</td>\n      <td>-0.117845</td>\n      <td>0.321070</td>\n      <td>0.265101</td>\n      <td>0.328859</td>\n      <td>0.352349</td>\n      <td>0.965281</td>\n      <td>0.987952</td>\n    </tr>\n    <tr>\n      <th>std</th>\n      <td>4.514432</td>\n      <td>3.787157</td>\n      <td>4.456206</td>\n      <td>1.302612</td>\n      <td>12.479144</td>\n      <td>0.100342</td>\n      <td>4.000130</td>\n      <td>0.499084</td>\n      <td>17.546765</td>\n      <td>14.600372</td>\n      <td>...</td>\n      <td>1.210963</td>\n      <td>1.115600</td>\n      <td>5.970290</td>\n      <td>1.369153</td>\n      <td>0.576897</td>\n      <td>0.544507</td>\n      <td>0.618927</td>\n      <td>0.646158</td>\n      <td>0.268261</td>\n      <td>0.109431</td>\n    </tr>\n    <tr>\n      <th>min</th>\n      <td>5.200000</td>\n      <td>10.640000</td>\n      <td>2.545000</td>\n      <td>0.845000</td>\n      <td>31.980000</td>\n      <td>0.000000</td>\n      <td>9.810000</td>\n      <td>0.000000</td>\n      <td>0.000000</td>\n      <td>0.000000</td>\n      <td>...</td>\n      <td>-3.000000</td>\n      <td>-3.000000</td>\n      <td>-3.000000</td>\n      <td>-3.000000</td>\n      <td>0.000000</td>\n      <td>0.000000</td>\n      <td>0.000000</td>\n      <td>0.000000</td>\n      <td>0.311300</td>\n      <td>0.000000</td>\n    </tr>\n    <tr>\n      <th>25%</th>\n      <td>7.900000</td>\n      <td>16.047500</td>\n      <td>13.017500</td>\n      <td>1.630000</td>\n      <td>54.180000</td>\n      <td>0.030000</td>\n      <td>14.630000</td>\n      <td>0.000000</td>\n      <td>24.000000</td>\n      <td>165.000000</td>\n      <td>...</td>\n      <td>-1.000000</td>\n      <td>0.000000</td>\n      <td>-1.000000</td>\n      <td>-1.000000</td>\n      <td>0.000000</td>\n      <td>0.000000</td>\n      <td>0.000000</td>\n      <td>0.000000</td>\n      <td>0.753850</td>\n      <td>1.000000</td>\n    </tr>\n    <tr>\n      <th>50%</th>\n      <td>13.100000</td>\n      <td>19.120000</td>\n      <td>17.870000</td>\n      <td>2.240000</td>\n      <td>60.850000</td>\n      <td>0.080000</td>\n      <td>18.690000</td>\n      <td>0.000000</td>\n      <td>34.000000</td>\n      <td>172.000000</td>\n      <td>...</td>\n      <td>0.000000</td>\n      <td>0.000000</td>\n      <td>0.000000</td>\n      <td>0.000000</td>\n      <td>0.000000</td>\n      <td>0.000000</td>\n      <td>0.000000</td>\n      <td>0.000000</td>\n      <td>0.970950</td>\n      <td>1.000000</td>\n    </tr>\n    <tr>\n      <th>75%</th>\n      <td>17.150000</td>\n      <td>21.375000</td>\n      <td>20.030000</td>\n      <td>3.022500</td>\n      <td>71.700000</td>\n      <td>0.160000</td>\n      <td>21.220000</td>\n      <td>1.000000</td>\n      <td>47.000000</td>\n      <td>180.000000</td>\n      <td>...</td>\n      <td>1.000000</td>\n      <td>1.000000</td>\n      <td>0.000000</td>\n      <td>1.000000</td>\n      <td>1.000000</td>\n      <td>0.000000</td>\n      <td>1.000000</td>\n      <td>1.000000</td>\n      <td>1.167175</td>\n      <td>1.000000</td>\n    </tr>\n    <tr>\n      <th>max</th>\n      <td>19.200000</td>\n      <td>24.925000</td>\n      <td>25.095000</td>\n      <td>7.830000</td>\n      <td>86.160000</td>\n      <td>0.705000</td>\n      <td>25.310000</td>\n      <td>1.000000</td>\n      <td>87.000000</td>\n      <td>200.000000</td>\n      <td>...</td>\n      <td>3.000000</td>\n      <td>3.000000</td>\n      <td>100.000000</td>\n      <td>2.000000</td>\n      <td>3.000000</td>\n      <td>3.000000</td>\n      <td>3.000000</td>\n      <td>3.000000</td>\n      <td>1.847700</td>\n      <td>1.000000</td>\n    </tr>\n  </tbody>\n</table>\n<p>8 rows × 22 columns</p>\n</div>"
     },
     "execution_count": 7,
     "metadata": {},
     "output_type": "execute_result"
    }
   ],
   "source": [
    "df.describe()"
   ],
   "metadata": {
    "collapsed": false,
    "pycharm": {
     "name": "#%%\n"
    }
   }
  },
  {
   "cell_type": "code",
   "execution_count": 52,
   "outputs": [],
   "source": [
    "interesting_columns =['dataset','Outside Temperature', 'Avg. Temperature', 'RH', 'va', 'Tg', 'Gender', 'Age', 'Height',\n",
    "       'Weight', 'Duration',\n",
    "       'Icl', 'Thermal feeling (global)']"
   ],
   "metadata": {
    "collapsed": false,
    "pycharm": {
     "name": "#%%\n"
    }
   }
  },
  {
   "cell_type": "code",
   "execution_count": 8,
   "outputs": [
    {
     "ename": "NameError",
     "evalue": "name 'interesting_columns' is not defined",
     "output_type": "error",
     "traceback": [
      "\u001B[0;31m---------------------------------------------------------------------------\u001B[0m",
      "\u001B[0;31mNameError\u001B[0m                                 Traceback (most recent call last)",
      "Input \u001B[0;32mIn [8]\u001B[0m, in \u001B[0;36m<cell line: 1>\u001B[0;34m()\u001B[0m\n\u001B[0;32m----> 1\u001B[0m df \u001B[38;5;241m=\u001B[39m df[\u001B[43minteresting_columns\u001B[49m]\n",
      "\u001B[0;31mNameError\u001B[0m: name 'interesting_columns' is not defined"
     ]
    }
   ],
   "source": [
    "df = df[interesting_columns]"
   ],
   "metadata": {
    "collapsed": false,
    "pycharm": {
     "name": "#%%\n"
    }
   }
  },
  {
   "cell_type": "code",
   "execution_count": 54,
   "outputs": [
    {
     "data": {
      "text/plain": "['Weniger als 15 Minuten',\n '15 to 30 minutes',\n 'Less than 15 minutes',\n '15 bis 30 Minuten',\n '45 Minuten bis 1 Stunde',\n 'Länger als 1 Stunde',\n '30 bis 45 Minuten',\n nan,\n 'Between 0 and 10 minutes',\n 'Between 0 and 15 minutes',\n 'Between 0 and 20 minutes',\n 'Between 0 and 25 minutes',\n 'Between 10 and 25 minutes',\n 'Between 10 and 30 minutes',\n 'Between 0 and 5 minutes',\n 'Between 10 and 15 minutes',\n 'Between 15 and 20 minutes',\n 'Between 20 and 35 minutes',\n 'Between 15 and 30 minutes',\n 'Between 30 and 45 minutes',\n 'Between 15 and 25 minutes',\n 'Between 30 and 35 minutes']"
     },
     "execution_count": 54,
     "metadata": {},
     "output_type": "execute_result"
    }
   ],
   "source": [
    "list(df['Duration'].unique())"
   ],
   "metadata": {
    "collapsed": false,
    "pycharm": {
     "name": "#%%\n"
    }
   }
  },
  {
   "cell_type": "code",
   "execution_count": 55,
   "outputs": [],
   "source": [
    "duration_map = {'Weniger als 15 Minuten': 7.5,\n",
    " '15 to 30 minutes': 22.5,\n",
    " 'Less than 15 minutes': 7.5,\n",
    " '15 bis 30 Minuten': 22.5,\n",
    " '45 Minuten bis 1 Stunde': 52.5,\n",
    " 'Länger als 1 Stunde': 60,\n",
    " '30 bis 45 Minuten': 37.5,\n",
    " 'Between 0 and 10 minutes': 5,\n",
    " 'Between 0 and 15 minutes': 7.5,\n",
    " 'Between 0 and 20 minutes': 10,\n",
    " 'Between 0 and 25 minutes': 12.5,\n",
    " 'Between 10 and 25 minutes': 17.5,\n",
    " 'Between 10 and 30 minutes': 20,\n",
    " 'Between 0 and 5 minutes': 2.5,\n",
    " 'Between 10 and 15 minutes': 12.5,\n",
    " 'Between 15 and 20 minutes':17.5,\n",
    " 'Between 20 and 35 minutes':27.5,\n",
    " 'Between 15 and 30 minutes': 22.5,\n",
    " 'Between 30 and 45 minutes': 37.5,\n",
    " 'Between 15 and 25 minutes': 20,\n",
    " 'Between 30 and 35 minutes': 32.5}"
   ],
   "metadata": {
    "collapsed": false,
    "pycharm": {
     "name": "#%%\n"
    }
   }
  },
  {
   "cell_type": "code",
   "execution_count": 56,
   "outputs": [
    {
     "name": "stderr",
     "output_type": "stream",
     "text": [
      "/tmp/ipykernel_34286/1387134683.py:1: SettingWithCopyWarning: \n",
      "A value is trying to be set on a copy of a slice from a DataFrame.\n",
      "Try using .loc[row_indexer,col_indexer] = value instead\n",
      "\n",
      "See the caveats in the documentation: https://pandas.pydata.org/pandas-docs/stable/user_guide/indexing.html#returning-a-view-versus-a-copy\n",
      "  df['Duration'] = df['Duration'].replace(duration_map)\n"
     ]
    }
   ],
   "source": [
    "df['Duration'] = df['Duration'].replace(duration_map)"
   ],
   "metadata": {
    "collapsed": false,
    "pycharm": {
     "name": "#%%\n"
    }
   }
  },
  {
   "cell_type": "code",
   "execution_count": 57,
   "outputs": [
    {
     "name": "stderr",
     "output_type": "stream",
     "text": [
      "/tmp/ipykernel_34286/658506679.py:1: SettingWithCopyWarning: \n",
      "A value is trying to be set on a copy of a slice from a DataFrame\n",
      "\n",
      "See the caveats in the documentation: https://pandas.pydata.org/pandas-docs/stable/user_guide/indexing.html#returning-a-view-versus-a-copy\n",
      "  df.dropna(inplace=True)\n"
     ]
    }
   ],
   "source": [
    "df.dropna(inplace=True)"
   ],
   "metadata": {
    "collapsed": false,
    "pycharm": {
     "name": "#%%\n"
    }
   }
  },
  {
   "cell_type": "code",
   "execution_count": 58,
   "outputs": [],
   "source": [
    "df=df[(df['Height']>0) & (df['Weight']>0) & (df['Age']>0)]"
   ],
   "metadata": {
    "collapsed": false,
    "pycharm": {
     "name": "#%%\n"
    }
   }
  },
  {
   "cell_type": "code",
   "execution_count": 59,
   "outputs": [
    {
     "name": "stderr",
     "output_type": "stream",
     "text": [
      "/tmp/ipykernel_34286/1789189082.py:9: SettingWithCopyWarning: \n",
      "A value is trying to be set on a copy of a slice from a DataFrame.\n",
      "Try using .loc[row_indexer,col_indexer] = value instead\n",
      "\n",
      "See the caveats in the documentation: https://pandas.pydata.org/pandas-docs/stable/user_guide/indexing.html#returning-a-view-versus-a-copy\n",
      "  df['Thermal feeling (global)'] = df['Thermal feeling (global)'].apply(function)\n"
     ]
    }
   ],
   "source": [
    "'''def function(x):\n",
    "    if x > 0:\n",
    "        return 1\n",
    "    elif x < 0:\n",
    "        return -1\n",
    "    else:\n",
    "        return 0\n",
    "\n",
    "df['Thermal feeling (global)'] = df['Thermal feeling (global)'].apply(function)'''"
   ],
   "metadata": {
    "collapsed": false,
    "pycharm": {
     "name": "#%%\n"
    }
   }
  },
  {
   "cell_type": "code",
   "execution_count": 60,
   "outputs": [],
   "source": [
    "df.to_csv(output_path, index=False)"
   ],
   "metadata": {
    "collapsed": false,
    "pycharm": {
     "name": "#%%\n"
    }
   }
  }
 ],
 "metadata": {
  "kernelspec": {
   "display_name": "Python 3",
   "language": "python",
   "name": "python3"
  },
  "language_info": {
   "codemirror_mode": {
    "name": "ipython",
    "version": 2
   },
   "file_extension": ".py",
   "mimetype": "text/x-python",
   "name": "python",
   "nbconvert_exporter": "python",
   "pygments_lexer": "ipython2",
   "version": "2.7.6"
  }
 },
 "nbformat": 4,
 "nbformat_minor": 0
}