{
 "cells": [
  {
   "cell_type": "markdown",
   "source": [
    "# Preprocess data of different files\n",
    "From raw survey data relevant columns are extracted converted to numerical values and used to create new interesting columns. It outputs the data to the output_path specified.\n"
   ],
   "metadata": {
    "collapsed": false,
    "pycharm": {
     "name": "#%% md\n"
    }
   }
  },
  {
   "cell_type": "code",
   "execution_count": 69,
   "metadata": {
    "collapsed": true,
    "pycharm": {
     "name": "#%%\n"
    }
   },
   "outputs": [],
   "source": [
    "import pandas as pd\n",
    "import numpy as np\n",
    "import matplotlib.pyplot as plt\n",
    "import openpyxl\n",
    "from datetime import datetime"
   ]
  },
  {
   "cell_type": "markdown",
   "source": [
    "# Preprocessing of Daten_Messung_210826_Gelenkbus_5430.xlsx and Daten_Messung_211123_Gelenkbus_5431.xlsx"
   ],
   "metadata": {
    "collapsed": false,
    "pycharm": {
     "name": "#%% md\n"
    }
   }
  },
  {
   "cell_type": "code",
   "execution_count": 70,
   "outputs": [],
   "source": [
    "# Importing survey data\n",
    "data_path = 'data/raw/Daten_Messung_210826_Gelenkbus_5430.xlsx'\n",
    "df1 = pd.read_excel(data_path, index_col=0)\n",
    "df1['dataset'] = 'August'\n",
    "\n",
    "data_path = 'data/raw/Daten_Messung_211123_Gelenkbus_5431.xlsx'\n",
    "df2 = pd.read_excel(data_path, index_col=0)\n",
    "df2['dataset'] = 'November'\n",
    "\n",
    "data_path = 'data/raw/Daten_Messung_220330_Gelenkbus_5431.xlsx'\n",
    "df3 = pd.read_excel(data_path, index_col=0)\n",
    "df3['dataset'] = 'March'\n",
    "\n",
    "data_path = 'data/raw/Daten_Messung_220407_Gelenkbus_5430.xlsx'\n",
    "df4 = pd.read_excel(data_path, index_col=0)\n",
    "df4['dataset'] = 'April'\n",
    "\n",
    "data_path = 'data/raw/Daten_Messung_220617_Gelenkbus_5431.xlsx'\n",
    "df5 = pd.read_excel(data_path, index_col=0)\n",
    "df5['dataset'] = 'June'\n",
    "\n",
    "output_path = 'data/output/data_complete_grouped_'+ datetime.date(datetime.now()).__str__() + '.csv'"
   ],
   "metadata": {
    "collapsed": false,
    "pycharm": {
     "name": "#%%\n"
    }
   }
  },
  {
   "cell_type": "code",
   "execution_count": 71,
   "outputs": [],
   "source": [
    "df = pd.concat([df1, df2, df3, df4,df5])"
   ],
   "metadata": {
    "collapsed": false,
    "pycharm": {
     "name": "#%%\n"
    }
   }
  },
  {
   "cell_type": "code",
   "execution_count": 72,
   "outputs": [
    {
     "data": {
      "text/plain": "                         Outside Temperature  Avg. Temperature  \\\nTimestamp                                                        \n2021-08-26 08:52:06.795               15.690            18.560   \n2021-08-28 08:53:29.827               15.590            19.185   \n2021-08-26 08:57:16.568               15.690            19.580   \n2021-08-26 08:57:34.979               15.690            19.105   \n2021-08-26 08:58:22.123               15.690            19.050   \n...                                      ...               ...   \n2022-06-17 12:13:00.000               25.406            27.015   \n2022-06-17 12:13:00.000               25.406            27.015   \n2022-06-17 12:14:00.000               25.500            25.265   \n2022-06-17 12:17:43.000               25.500            26.515   \n2022-06-17 12:18:00.000               25.500            24.765   \n\n                         Feet temperature  Temperature difference      RH  \\\nTimestamp                                                                   \n2021-08-26 08:52:06.795            17.440                   2.920  73.440   \n2021-08-28 08:53:29.827            19.220                   1.650  74.410   \n2021-08-26 08:57:16.568            18.965                   1.745  73.255   \n2021-08-26 08:57:34.979            19.030                   1.615  73.275   \n2021-08-26 08:58:22.123            16.810                   3.470  77.180   \n...                                   ...                     ...     ...   \n2022-06-17 12:13:00.000               NaN                   1.365  38.230   \n2022-06-17 12:13:00.000               NaN                   1.365  38.230   \n2022-06-17 12:14:00.000               NaN                   1.056  39.880   \n2022-06-17 12:17:43.000               NaN                   1.500  38.710   \n2022-06-17 12:18:00.000               NaN                   1.270  39.590   \n\n                            va      Tg  Gender  Age  Height  ...  \\\nTimestamp                                                    ...   \n2021-08-26 08:52:06.795  0.040  17.870       0   23   169.0  ...   \n2021-08-28 08:53:29.827  0.155  18.125       1   18   186.0  ...   \n2021-08-26 08:57:16.568  0.020  18.905       0   33   160.0  ...   \n2021-08-26 08:57:34.979  0.240  18.155       0   26   167.0  ...   \n2021-08-26 08:58:22.123  0.240  18.620       0   47   172.0  ...   \n...                        ...     ...     ...  ...     ...  ...   \n2022-06-17 12:13:00.000  0.160  28.940       1   22   183.0  ...   \n2022-06-17 12:13:00.000  0.160  28.940       0   24   174.0  ...   \n2022-06-17 12:14:00.000  0.030  25.940       1   11   176.0  ...   \n2022-06-17 12:17:43.000  0.210  28.500       0   30   171.0  ...   \n2022-06-17 12:18:00.000  0.030  25.560       1   14   168.0  ...   \n\n                         Thermal comfort (global)  Thermal comfort (head)  \\\nTimestamp                                                                   \n2021-08-26 08:52:06.795                         0                     0.0   \n2021-08-28 08:53:29.827                         0                     0.0   \n2021-08-26 08:57:16.568                         0                     0.0   \n2021-08-26 08:57:34.979                         1                     1.0   \n2021-08-26 08:58:22.123                         0                     0.0   \n...                                           ...                     ...   \n2022-06-17 12:13:00.000                         0                     0.0   \n2022-06-17 12:13:00.000                         0                     0.0   \n2022-06-17 12:14:00.000                         2                     1.0   \n2022-06-17 12:17:43.000                         0                     0.0   \n2022-06-17 12:18:00.000                         0                     0.0   \n\n                         Thermal comfort (hands)  Thermal comfort (feet)  \\\nTimestamp                                                                  \n2021-08-26 08:52:06.795                      0.0                     0.0   \n2021-08-28 08:53:29.827                      0.0                     0.0   \n2021-08-26 08:57:16.568                      0.0                     0.0   \n2021-08-26 08:57:34.979                      1.0                     1.0   \n2021-08-26 08:58:22.123                      0.0                     0.0   \n...                                          ...                     ...   \n2022-06-17 12:13:00.000                      0.0                     0.0   \n2022-06-17 12:13:00.000                      0.0                     0.0   \n2022-06-17 12:14:00.000                      2.0                     0.0   \n2022-06-17 12:17:43.000                      0.0                     0.0   \n2022-06-17 12:18:00.000                      0.0                     1.0   \n\n                                            Position  Window / alley  \\\nTimestamp                                                              \n2021-08-26 08:52:06.795                Gelenkbereich            Gang   \n2021-08-28 08:53:29.827            Hinterwagen - Tür            Gang   \n2021-08-26 08:57:16.568  Hinterwagen - Hinterbereich         Fenster   \n2021-08-26 08:57:34.979            Hinterwagen - Tür         Fenster   \n2021-08-26 08:58:22.123    Vorderwagen - Vordere Tür            Gang   \n...                                              ...             ...   \n2022-06-17 12:13:00.000    Bereich 6 - Hinterbereich            Gang   \n2022-06-17 12:13:00.000    Bereich 6 - Hinterbereich         Fenster   \n2022-06-17 12:14:00.000    Bereich 4 - Gelenkbereich         Fenster   \n2022-06-17 12:17:43.000    Bereich 6 - Hinterbereich            Gang   \n2022-06-17 12:18:00.000    Bereich 4 - Gelenkbereich         Fenster   \n\n                                          Duration      Icl  dataset  Activity  \nTimestamp                                                                       \n2021-08-26 08:52:06.795     Weniger als 15 Minuten  1.06280   August       NaN  \n2021-08-28 08:53:29.827           15 to 30 minutes  0.82065   August       NaN  \n2021-08-26 08:57:16.568       Less than 15 minutes  0.72045   August       NaN  \n2021-08-26 08:57:34.979     Weniger als 15 Minuten  0.65365   August       NaN  \n2021-08-26 08:58:22.123     Weniger als 15 Minuten  0.74550   August       NaN  \n...                                            ...      ...      ...       ...  \n2022-06-17 12:13:00.000    Between 0 and 5 minutes  0.46160     June       1.0  \n2022-06-17 12:13:00.000    Between 0 and 5 minutes  0.31130     June       1.0  \n2022-06-17 12:14:00.000   Between 0 and 10 minutes  0.41150     June       1.0  \n2022-06-17 12:17:43.000   Between 0 and 15 minutes  0.74550     June       1.0  \n2022-06-17 12:18:00.000  Between 10 and 15 minutes  0.46160     June       1.0  \n\n[382 rows x 26 columns]",
      "text/html": "<div>\n<style scoped>\n    .dataframe tbody tr th:only-of-type {\n        vertical-align: middle;\n    }\n\n    .dataframe tbody tr th {\n        vertical-align: top;\n    }\n\n    .dataframe thead th {\n        text-align: right;\n    }\n</style>\n<table border=\"1\" class=\"dataframe\">\n  <thead>\n    <tr style=\"text-align: right;\">\n      <th></th>\n      <th>Outside Temperature</th>\n      <th>Avg. Temperature</th>\n      <th>Feet temperature</th>\n      <th>Temperature difference</th>\n      <th>RH</th>\n      <th>va</th>\n      <th>Tg</th>\n      <th>Gender</th>\n      <th>Age</th>\n      <th>Height</th>\n      <th>...</th>\n      <th>Thermal comfort (global)</th>\n      <th>Thermal comfort (head)</th>\n      <th>Thermal comfort (hands)</th>\n      <th>Thermal comfort (feet)</th>\n      <th>Position</th>\n      <th>Window / alley</th>\n      <th>Duration</th>\n      <th>Icl</th>\n      <th>dataset</th>\n      <th>Activity</th>\n    </tr>\n    <tr>\n      <th>Timestamp</th>\n      <th></th>\n      <th></th>\n      <th></th>\n      <th></th>\n      <th></th>\n      <th></th>\n      <th></th>\n      <th></th>\n      <th></th>\n      <th></th>\n      <th></th>\n      <th></th>\n      <th></th>\n      <th></th>\n      <th></th>\n      <th></th>\n      <th></th>\n      <th></th>\n      <th></th>\n      <th></th>\n      <th></th>\n    </tr>\n  </thead>\n  <tbody>\n    <tr>\n      <th>2021-08-26 08:52:06.795</th>\n      <td>15.690</td>\n      <td>18.560</td>\n      <td>17.440</td>\n      <td>2.920</td>\n      <td>73.440</td>\n      <td>0.040</td>\n      <td>17.870</td>\n      <td>0</td>\n      <td>23</td>\n      <td>169.0</td>\n      <td>...</td>\n      <td>0</td>\n      <td>0.0</td>\n      <td>0.0</td>\n      <td>0.0</td>\n      <td>Gelenkbereich</td>\n      <td>Gang</td>\n      <td>Weniger als 15 Minuten</td>\n      <td>1.06280</td>\n      <td>August</td>\n      <td>NaN</td>\n    </tr>\n    <tr>\n      <th>2021-08-28 08:53:29.827</th>\n      <td>15.590</td>\n      <td>19.185</td>\n      <td>19.220</td>\n      <td>1.650</td>\n      <td>74.410</td>\n      <td>0.155</td>\n      <td>18.125</td>\n      <td>1</td>\n      <td>18</td>\n      <td>186.0</td>\n      <td>...</td>\n      <td>0</td>\n      <td>0.0</td>\n      <td>0.0</td>\n      <td>0.0</td>\n      <td>Hinterwagen - Tür</td>\n      <td>Gang</td>\n      <td>15 to 30 minutes</td>\n      <td>0.82065</td>\n      <td>August</td>\n      <td>NaN</td>\n    </tr>\n    <tr>\n      <th>2021-08-26 08:57:16.568</th>\n      <td>15.690</td>\n      <td>19.580</td>\n      <td>18.965</td>\n      <td>1.745</td>\n      <td>73.255</td>\n      <td>0.020</td>\n      <td>18.905</td>\n      <td>0</td>\n      <td>33</td>\n      <td>160.0</td>\n      <td>...</td>\n      <td>0</td>\n      <td>0.0</td>\n      <td>0.0</td>\n      <td>0.0</td>\n      <td>Hinterwagen - Hinterbereich</td>\n      <td>Fenster</td>\n      <td>Less than 15 minutes</td>\n      <td>0.72045</td>\n      <td>August</td>\n      <td>NaN</td>\n    </tr>\n    <tr>\n      <th>2021-08-26 08:57:34.979</th>\n      <td>15.690</td>\n      <td>19.105</td>\n      <td>19.030</td>\n      <td>1.615</td>\n      <td>73.275</td>\n      <td>0.240</td>\n      <td>18.155</td>\n      <td>0</td>\n      <td>26</td>\n      <td>167.0</td>\n      <td>...</td>\n      <td>1</td>\n      <td>1.0</td>\n      <td>1.0</td>\n      <td>1.0</td>\n      <td>Hinterwagen - Tür</td>\n      <td>Fenster</td>\n      <td>Weniger als 15 Minuten</td>\n      <td>0.65365</td>\n      <td>August</td>\n      <td>NaN</td>\n    </tr>\n    <tr>\n      <th>2021-08-26 08:58:22.123</th>\n      <td>15.690</td>\n      <td>19.050</td>\n      <td>16.810</td>\n      <td>3.470</td>\n      <td>77.180</td>\n      <td>0.240</td>\n      <td>18.620</td>\n      <td>0</td>\n      <td>47</td>\n      <td>172.0</td>\n      <td>...</td>\n      <td>0</td>\n      <td>0.0</td>\n      <td>0.0</td>\n      <td>0.0</td>\n      <td>Vorderwagen - Vordere Tür</td>\n      <td>Gang</td>\n      <td>Weniger als 15 Minuten</td>\n      <td>0.74550</td>\n      <td>August</td>\n      <td>NaN</td>\n    </tr>\n    <tr>\n      <th>...</th>\n      <td>...</td>\n      <td>...</td>\n      <td>...</td>\n      <td>...</td>\n      <td>...</td>\n      <td>...</td>\n      <td>...</td>\n      <td>...</td>\n      <td>...</td>\n      <td>...</td>\n      <td>...</td>\n      <td>...</td>\n      <td>...</td>\n      <td>...</td>\n      <td>...</td>\n      <td>...</td>\n      <td>...</td>\n      <td>...</td>\n      <td>...</td>\n      <td>...</td>\n      <td>...</td>\n    </tr>\n    <tr>\n      <th>2022-06-17 12:13:00.000</th>\n      <td>25.406</td>\n      <td>27.015</td>\n      <td>NaN</td>\n      <td>1.365</td>\n      <td>38.230</td>\n      <td>0.160</td>\n      <td>28.940</td>\n      <td>1</td>\n      <td>22</td>\n      <td>183.0</td>\n      <td>...</td>\n      <td>0</td>\n      <td>0.0</td>\n      <td>0.0</td>\n      <td>0.0</td>\n      <td>Bereich 6 - Hinterbereich</td>\n      <td>Gang</td>\n      <td>Between 0 and 5 minutes</td>\n      <td>0.46160</td>\n      <td>June</td>\n      <td>1.0</td>\n    </tr>\n    <tr>\n      <th>2022-06-17 12:13:00.000</th>\n      <td>25.406</td>\n      <td>27.015</td>\n      <td>NaN</td>\n      <td>1.365</td>\n      <td>38.230</td>\n      <td>0.160</td>\n      <td>28.940</td>\n      <td>0</td>\n      <td>24</td>\n      <td>174.0</td>\n      <td>...</td>\n      <td>0</td>\n      <td>0.0</td>\n      <td>0.0</td>\n      <td>0.0</td>\n      <td>Bereich 6 - Hinterbereich</td>\n      <td>Fenster</td>\n      <td>Between 0 and 5 minutes</td>\n      <td>0.31130</td>\n      <td>June</td>\n      <td>1.0</td>\n    </tr>\n    <tr>\n      <th>2022-06-17 12:14:00.000</th>\n      <td>25.500</td>\n      <td>25.265</td>\n      <td>NaN</td>\n      <td>1.056</td>\n      <td>39.880</td>\n      <td>0.030</td>\n      <td>25.940</td>\n      <td>1</td>\n      <td>11</td>\n      <td>176.0</td>\n      <td>...</td>\n      <td>2</td>\n      <td>1.0</td>\n      <td>2.0</td>\n      <td>0.0</td>\n      <td>Bereich 4 - Gelenkbereich</td>\n      <td>Fenster</td>\n      <td>Between 0 and 10 minutes</td>\n      <td>0.41150</td>\n      <td>June</td>\n      <td>1.0</td>\n    </tr>\n    <tr>\n      <th>2022-06-17 12:17:43.000</th>\n      <td>25.500</td>\n      <td>26.515</td>\n      <td>NaN</td>\n      <td>1.500</td>\n      <td>38.710</td>\n      <td>0.210</td>\n      <td>28.500</td>\n      <td>0</td>\n      <td>30</td>\n      <td>171.0</td>\n      <td>...</td>\n      <td>0</td>\n      <td>0.0</td>\n      <td>0.0</td>\n      <td>0.0</td>\n      <td>Bereich 6 - Hinterbereich</td>\n      <td>Gang</td>\n      <td>Between 0 and 15 minutes</td>\n      <td>0.74550</td>\n      <td>June</td>\n      <td>1.0</td>\n    </tr>\n    <tr>\n      <th>2022-06-17 12:18:00.000</th>\n      <td>25.500</td>\n      <td>24.765</td>\n      <td>NaN</td>\n      <td>1.270</td>\n      <td>39.590</td>\n      <td>0.030</td>\n      <td>25.560</td>\n      <td>1</td>\n      <td>14</td>\n      <td>168.0</td>\n      <td>...</td>\n      <td>0</td>\n      <td>0.0</td>\n      <td>0.0</td>\n      <td>1.0</td>\n      <td>Bereich 4 - Gelenkbereich</td>\n      <td>Fenster</td>\n      <td>Between 10 and 15 minutes</td>\n      <td>0.46160</td>\n      <td>June</td>\n      <td>1.0</td>\n    </tr>\n  </tbody>\n</table>\n<p>382 rows × 26 columns</p>\n</div>"
     },
     "execution_count": 72,
     "metadata": {},
     "output_type": "execute_result"
    }
   ],
   "source": [
    "df"
   ],
   "metadata": {
    "collapsed": false,
    "pycharm": {
     "name": "#%%\n"
    }
   }
  },
  {
   "cell_type": "code",
   "execution_count": 73,
   "outputs": [
    {
     "data": {
      "text/plain": "Index(['Outside Temperature', 'Avg. Temperature', 'Feet temperature',\n       'Temperature difference', 'RH', 'va', 'Tg', 'Gender', 'Age', 'Height',\n       'Weight', 'Well-being', 'Thermal feeling (global)',\n       'Thermal feeling (head)', 'Thermal feeling (hands)',\n       'Thermal feeling (feet)', 'Thermal comfort (global)',\n       'Thermal comfort (head)', 'Thermal comfort (hands)',\n       'Thermal comfort (feet)', 'Position', 'Window / alley', 'Duration',\n       'Icl', 'dataset', 'Activity'],\n      dtype='object')"
     },
     "execution_count": 73,
     "metadata": {},
     "output_type": "execute_result"
    }
   ],
   "source": [
    "df.columns"
   ],
   "metadata": {
    "collapsed": false,
    "pycharm": {
     "name": "#%%\n"
    }
   }
  },
  {
   "cell_type": "code",
   "execution_count": 74,
   "outputs": [
    {
     "data": {
      "text/plain": "<Figure size 622.25x500 with 1 Axes>",
      "image/png": "[encoded data removed]"
     },
     "metadata": {},
     "output_type": "display_data"
    }
   ],
   "source": [
    "import seaborn as sns\n",
    "\n",
    "sns.displot(data=df.reset_index(), x='Thermal feeling (global)', hue=\"dataset\", multiple=\"stack\")\n",
    "plt.show()"
   ],
   "metadata": {
    "collapsed": false,
    "pycharm": {
     "name": "#%%\n"
    }
   }
  },
  {
   "cell_type": "code",
   "execution_count": 75,
   "outputs": [
    {
     "data": {
      "text/plain": "       Outside Temperature  Avg. Temperature  Feet temperature  \\\ncount           382.000000        382.000000        299.000000   \nmean             14.603233         20.167226         16.881187   \nstd               5.582318          4.741811          4.456206   \nmin               5.200000         10.640000          2.545000   \n25%               9.825000         17.313750         13.017500   \n50%              15.690000         20.490000         17.870000   \n75%              18.100000         23.733750         20.030000   \nmax              25.500000         28.775000         25.095000   \n\n       Temperature difference          RH          va          Tg      Gender  \\\ncount              382.000000  382.000000  351.000000  382.000000  382.000000   \nmean                 2.278329   57.998429    0.103533   19.967160    0.442408   \nstd                  1.304240   12.589164    0.095553    4.954782    0.497324   \nmin                  0.430000   31.980000    0.000000    9.810000    0.000000   \n25%                  1.460000   49.592500    0.030000   17.690000    0.000000   \n50%                  1.930000   56.900000    0.080000   20.327500    0.000000   \n75%                  2.787500   68.721250    0.147500   23.802500    1.000000   \nmax                  7.830000   86.160000    0.705000   29.090000    1.000000   \n\n              Age      Height  ...  Thermal feeling (global)  \\\ncount  382.000000  379.000000  ...                382.000000   \nmean    36.976440  171.113456  ...                  0.120419   \nstd     17.696982   16.988646  ...                  1.249105   \nmin      0.000000    0.000000  ...                 -3.000000   \n25%     24.000000  165.000000  ...                 -1.000000   \n50%     33.500000  170.000000  ...                  0.000000   \n75%     47.000000  180.000000  ...                  1.000000   \nmax     87.000000  200.000000  ...                  3.000000   \n\n       Thermal feeling (head)  Thermal feeling (hands)  \\\ncount              370.000000               373.000000   \nmean                 0.218919                 0.155496   \nstd                  1.153841                 5.359892   \nmin                 -3.000000                -3.000000   \n25%                  0.000000                -1.000000   \n50%                  0.000000                 0.000000   \n75%                  1.000000                 1.000000   \nmax                  3.000000               100.000000   \n\n       Thermal feeling (feet)  Thermal comfort (global)  \\\ncount              372.000000                382.000000   \nmean                 0.016129                  0.384817   \nstd                  1.337721                  0.632522   \nmin                 -3.000000                  0.000000   \n25%                 -1.000000                  0.000000   \n50%                  0.000000                  0.000000   \n75%                  1.000000                  1.000000   \nmax                  3.000000                  3.000000   \n\n       Thermal comfort (head)  Thermal comfort (hands)  \\\ncount              372.000000               373.000000   \nmean                 0.319892                 0.343164   \nstd                  0.598590                 0.643568   \nmin                  0.000000                 0.000000   \n25%                  0.000000                 0.000000   \n50%                  0.000000                 0.000000   \n75%                  1.000000                 1.000000   \nmax                  3.000000                 3.000000   \n\n       Thermal comfort (feet)         Icl    Activity  \ncount              373.000000  382.000000  248.000000  \nmean                 0.383378    0.879231    1.391129  \nstd                  0.672375    0.303711    6.287659  \nmin                  0.000000    0.294600    0.000000  \n25%                  0.000000    0.624425    1.000000  \n50%                  0.000000    0.887450    1.000000  \n75%                  1.000000    1.137950    1.000000  \nmax                  3.000000    1.847700  100.000000  \n\n[8 rows x 22 columns]",
      "text/html": "<div>\n<style scoped>\n    .dataframe tbody tr th:only-of-type {\n        vertical-align: middle;\n    }\n\n    .dataframe tbody tr th {\n        vertical-align: top;\n    }\n\n    .dataframe thead th {\n        text-align: right;\n    }\n</style>\n<table border=\"1\" class=\"dataframe\">\n  <thead>\n    <tr style=\"text-align: right;\">\n      <th></th>\n      <th>Outside Temperature</th>\n      <th>Avg. Temperature</th>\n      <th>Feet temperature</th>\n      <th>Temperature difference</th>\n      <th>RH</th>\n      <th>va</th>\n      <th>Tg</th>\n      <th>Gender</th>\n      <th>Age</th>\n      <th>Height</th>\n      <th>...</th>\n      <th>Thermal feeling (global)</th>\n      <th>Thermal feeling (head)</th>\n      <th>Thermal feeling (hands)</th>\n      <th>Thermal feeling (feet)</th>\n      <th>Thermal comfort (global)</th>\n      <th>Thermal comfort (head)</th>\n      <th>Thermal comfort (hands)</th>\n      <th>Thermal comfort (feet)</th>\n      <th>Icl</th>\n      <th>Activity</th>\n    </tr>\n  </thead>\n  <tbody>\n    <tr>\n      <th>count</th>\n      <td>382.000000</td>\n      <td>382.000000</td>\n      <td>299.000000</td>\n      <td>382.000000</td>\n      <td>382.000000</td>\n      <td>351.000000</td>\n      <td>382.000000</td>\n      <td>382.000000</td>\n      <td>382.000000</td>\n      <td>379.000000</td>\n      <td>...</td>\n      <td>382.000000</td>\n      <td>370.000000</td>\n      <td>373.000000</td>\n      <td>372.000000</td>\n      <td>382.000000</td>\n      <td>372.000000</td>\n      <td>373.000000</td>\n      <td>373.000000</td>\n      <td>382.000000</td>\n      <td>248.000000</td>\n    </tr>\n    <tr>\n      <th>mean</th>\n      <td>14.603233</td>\n      <td>20.167226</td>\n      <td>16.881187</td>\n      <td>2.278329</td>\n      <td>57.998429</td>\n      <td>0.103533</td>\n      <td>19.967160</td>\n      <td>0.442408</td>\n      <td>36.976440</td>\n      <td>171.113456</td>\n      <td>...</td>\n      <td>0.120419</td>\n      <td>0.218919</td>\n      <td>0.155496</td>\n      <td>0.016129</td>\n      <td>0.384817</td>\n      <td>0.319892</td>\n      <td>0.343164</td>\n      <td>0.383378</td>\n      <td>0.879231</td>\n      <td>1.391129</td>\n    </tr>\n    <tr>\n      <th>std</th>\n      <td>5.582318</td>\n      <td>4.741811</td>\n      <td>4.456206</td>\n      <td>1.304240</td>\n      <td>12.589164</td>\n      <td>0.095553</td>\n      <td>4.954782</td>\n      <td>0.497324</td>\n      <td>17.696982</td>\n      <td>16.988646</td>\n      <td>...</td>\n      <td>1.249105</td>\n      <td>1.153841</td>\n      <td>5.359892</td>\n      <td>1.337721</td>\n      <td>0.632522</td>\n      <td>0.598590</td>\n      <td>0.643568</td>\n      <td>0.672375</td>\n      <td>0.303711</td>\n      <td>6.287659</td>\n    </tr>\n    <tr>\n      <th>min</th>\n      <td>5.200000</td>\n      <td>10.640000</td>\n      <td>2.545000</td>\n      <td>0.430000</td>\n      <td>31.980000</td>\n      <td>0.000000</td>\n      <td>9.810000</td>\n      <td>0.000000</td>\n      <td>0.000000</td>\n      <td>0.000000</td>\n      <td>...</td>\n      <td>-3.000000</td>\n      <td>-3.000000</td>\n      <td>-3.000000</td>\n      <td>-3.000000</td>\n      <td>0.000000</td>\n      <td>0.000000</td>\n      <td>0.000000</td>\n      <td>0.000000</td>\n      <td>0.294600</td>\n      <td>0.000000</td>\n    </tr>\n    <tr>\n      <th>25%</th>\n      <td>9.825000</td>\n      <td>17.313750</td>\n      <td>13.017500</td>\n      <td>1.460000</td>\n      <td>49.592500</td>\n      <td>0.030000</td>\n      <td>17.690000</td>\n      <td>0.000000</td>\n      <td>24.000000</td>\n      <td>165.000000</td>\n      <td>...</td>\n      <td>-1.000000</td>\n      <td>0.000000</td>\n      <td>-1.000000</td>\n      <td>-1.000000</td>\n      <td>0.000000</td>\n      <td>0.000000</td>\n      <td>0.000000</td>\n      <td>0.000000</td>\n      <td>0.624425</td>\n      <td>1.000000</td>\n    </tr>\n    <tr>\n      <th>50%</th>\n      <td>15.690000</td>\n      <td>20.490000</td>\n      <td>17.870000</td>\n      <td>1.930000</td>\n      <td>56.900000</td>\n      <td>0.080000</td>\n      <td>20.327500</td>\n      <td>0.000000</td>\n      <td>33.500000</td>\n      <td>170.000000</td>\n      <td>...</td>\n      <td>0.000000</td>\n      <td>0.000000</td>\n      <td>0.000000</td>\n      <td>0.000000</td>\n      <td>0.000000</td>\n      <td>0.000000</td>\n      <td>0.000000</td>\n      <td>0.000000</td>\n      <td>0.887450</td>\n      <td>1.000000</td>\n    </tr>\n    <tr>\n      <th>75%</th>\n      <td>18.100000</td>\n      <td>23.733750</td>\n      <td>20.030000</td>\n      <td>2.787500</td>\n      <td>68.721250</td>\n      <td>0.147500</td>\n      <td>23.802500</td>\n      <td>1.000000</td>\n      <td>47.000000</td>\n      <td>180.000000</td>\n      <td>...</td>\n      <td>1.000000</td>\n      <td>1.000000</td>\n      <td>1.000000</td>\n      <td>1.000000</td>\n      <td>1.000000</td>\n      <td>1.000000</td>\n      <td>1.000000</td>\n      <td>1.000000</td>\n      <td>1.137950</td>\n      <td>1.000000</td>\n    </tr>\n    <tr>\n      <th>max</th>\n      <td>25.500000</td>\n      <td>28.775000</td>\n      <td>25.095000</td>\n      <td>7.830000</td>\n      <td>86.160000</td>\n      <td>0.705000</td>\n      <td>29.090000</td>\n      <td>1.000000</td>\n      <td>87.000000</td>\n      <td>200.000000</td>\n      <td>...</td>\n      <td>3.000000</td>\n      <td>3.000000</td>\n      <td>100.000000</td>\n      <td>3.000000</td>\n      <td>3.000000</td>\n      <td>3.000000</td>\n      <td>3.000000</td>\n      <td>3.000000</td>\n      <td>1.847700</td>\n      <td>100.000000</td>\n    </tr>\n  </tbody>\n</table>\n<p>8 rows × 22 columns</p>\n</div>"
     },
     "execution_count": 75,
     "metadata": {},
     "output_type": "execute_result"
    }
   ],
   "source": [
    "df.describe()"
   ],
   "metadata": {
    "collapsed": false,
    "pycharm": {
     "name": "#%%\n"
    }
   }
  },
  {
   "cell_type": "code",
   "execution_count": 76,
   "outputs": [],
   "source": [
    "interesting_columns =['dataset','Outside Temperature', 'Avg. Temperature', 'RH', 'va', 'Tg', 'Gender', 'Age', 'Height',\n",
    "       'Weight', 'Duration',\n",
    "       'Icl', 'Thermal feeling (global)']"
   ],
   "metadata": {
    "collapsed": false,
    "pycharm": {
     "name": "#%%\n"
    }
   }
  },
  {
   "cell_type": "code",
   "execution_count": 77,
   "outputs": [],
   "source": [
    "df = df[interesting_columns]"
   ],
   "metadata": {
    "collapsed": false,
    "pycharm": {
     "name": "#%%\n"
    }
   }
  },
  {
   "cell_type": "code",
   "execution_count": 78,
   "outputs": [
    {
     "data": {
      "text/plain": "['Weniger als 15 Minuten',\n '15 to 30 minutes',\n 'Less than 15 minutes',\n '15 bis 30 Minuten',\n '45 Minuten bis 1 Stunde',\n 'Länger als 1 Stunde',\n '30 bis 45 Minuten',\n nan,\n 'Between 0 and 10 minutes',\n 'Between 0 and 15 minutes',\n 'Between 0 and 20 minutes',\n 'Between 0 and 25 minutes',\n 'Between 10 and 25 minutes',\n 'Between 10 and 30 minutes',\n 'Between 0 and 5 minutes',\n 'Between 10 and 15 minutes',\n 'Between 15 and 20 minutes',\n 'Between 20 and 35 minutes',\n 'Between 15 and 30 minutes',\n 'Between 30 and 45 minutes',\n 'Between 15 and 25 minutes',\n 'Between 30 and 35 minutes',\n 'Between 10 and 20 minutes']"
     },
     "execution_count": 78,
     "metadata": {},
     "output_type": "execute_result"
    }
   ],
   "source": [
    "list(df['Duration'].unique())"
   ],
   "metadata": {
    "collapsed": false,
    "pycharm": {
     "name": "#%%\n"
    }
   }
  },
  {
   "cell_type": "code",
   "execution_count": 79,
   "outputs": [],
   "source": [
    "duration_map = {'Weniger als 15 Minuten': 7.5,\n",
    " '15 to 30 minutes': 22.5,\n",
    " 'Less than 15 minutes': 7.5,\n",
    " '15 bis 30 Minuten': 22.5,\n",
    " '45 Minuten bis 1 Stunde': 52.5,\n",
    " 'Länger als 1 Stunde': 60,\n",
    " '30 bis 45 Minuten': 37.5,\n",
    " 'Between 0 and 10 minutes': 5,\n",
    " 'Between 0 and 15 minutes': 7.5,\n",
    " 'Between 0 and 20 minutes': 10,\n",
    " 'Between 0 and 25 minutes': 12.5,\n",
    " 'Between 10 and 25 minutes': 17.5,\n",
    " 'Between 10 and 30 minutes': 20,\n",
    " 'Between 0 and 5 minutes': 2.5,\n",
    " 'Between 10 and 15 minutes': 12.5,\n",
    " 'Between 15 and 20 minutes':17.5,\n",
    " 'Between 10 and 20 minutes':15,\n",
    " 'Between 20 and 35 minutes':27.5,\n",
    " 'Between 15 and 30 minutes': 22.5,\n",
    " 'Between 30 and 45 minutes': 37.5,\n",
    " 'Between 15 and 25 minutes': 20,\n",
    " 'Between 30 and 35 minutes': 32.5}"
   ],
   "metadata": {
    "collapsed": false,
    "pycharm": {
     "name": "#%%\n"
    }
   }
  },
  {
   "cell_type": "code",
   "execution_count": 80,
   "outputs": [
    {
     "name": "stderr",
     "output_type": "stream",
     "text": [
      "/tmp/ipykernel_24981/1387134683.py:1: SettingWithCopyWarning: \n",
      "A value is trying to be set on a copy of a slice from a DataFrame.\n",
      "Try using .loc[row_indexer,col_indexer] = value instead\n",
      "\n",
      "See the caveats in the documentation: https://pandas.pydata.org/pandas-docs/stable/user_guide/indexing.html#returning-a-view-versus-a-copy\n",
      "  df['Duration'] = df['Duration'].replace(duration_map)\n"
     ]
    }
   ],
   "source": [
    "df['Duration'] = df['Duration'].replace(duration_map)"
   ],
   "metadata": {
    "collapsed": false,
    "pycharm": {
     "name": "#%%\n"
    }
   }
  },
  {
   "cell_type": "code",
   "execution_count": 81,
   "outputs": [
    {
     "name": "stderr",
     "output_type": "stream",
     "text": [
      "/tmp/ipykernel_24981/658506679.py:1: SettingWithCopyWarning: \n",
      "A value is trying to be set on a copy of a slice from a DataFrame\n",
      "\n",
      "See the caveats in the documentation: https://pandas.pydata.org/pandas-docs/stable/user_guide/indexing.html#returning-a-view-versus-a-copy\n",
      "  df.dropna(inplace=True)\n"
     ]
    }
   ],
   "source": [
    "df.dropna(inplace=True)"
   ],
   "metadata": {
    "collapsed": false,
    "pycharm": {
     "name": "#%%\n"
    }
   }
  },
  {
   "cell_type": "code",
   "execution_count": 82,
   "outputs": [],
   "source": [
    "df=df[(df['Height']>0) & (df['Weight']>0) & (df['Age']>0)]"
   ],
   "metadata": {
    "collapsed": false,
    "pycharm": {
     "name": "#%%\n"
    }
   }
  },
  {
   "cell_type": "code",
   "execution_count": 83,
   "outputs": [
    {
     "name": "stderr",
     "output_type": "stream",
     "text": [
      "/tmp/ipykernel_24981/1789189082.py:9: SettingWithCopyWarning: \n",
      "A value is trying to be set on a copy of a slice from a DataFrame.\n",
      "Try using .loc[row_indexer,col_indexer] = value instead\n",
      "\n",
      "See the caveats in the documentation: https://pandas.pydata.org/pandas-docs/stable/user_guide/indexing.html#returning-a-view-versus-a-copy\n",
      "  df['Thermal feeling (global)'] = df['Thermal feeling (global)'].apply(function)\n"
     ]
    }
   ],
   "source": [
    "def function(x):\n",
    "    if x > 0:\n",
    "        return 1\n",
    "    elif x < 0:\n",
    "        return -1\n",
    "    else:\n",
    "        return 0\n",
    "\n",
    "df['Thermal feeling (global)'] = df['Thermal feeling (global)'].apply(function)"
   ],
   "metadata": {
    "collapsed": false,
    "pycharm": {
     "name": "#%%\n"
    }
   }
  },
  {
   "cell_type": "code",
   "execution_count": 84,
   "outputs": [],
   "source": [
    "df.to_csv(output_path, index=False)"
   ],
   "metadata": {
    "collapsed": false,
    "pycharm": {
     "name": "#%%\n"
    }
   }
  },
  {
   "cell_type": "markdown",
   "source": [],
   "metadata": {
    "collapsed": false,
    "pycharm": {
     "name": "#%% md\n"
    }
   }
  }
 ],
 "metadata": {
  "kernelspec": {
   "display_name": "Python 3",
   "language": "python",
   "name": "python3"
  },
  "language_info": {
   "codemirror_mode": {
    "name": "ipython",
    "version": 2
   },
   "file_extension": ".py",
   "mimetype": "text/x-python",
   "name": "python",
   "nbconvert_exporter": "python",
   "pygments_lexer": "ipython2",
   "version": "2.7.6"
  }
 },
 "nbformat": 4,
 "nbformat_minor": 0
}